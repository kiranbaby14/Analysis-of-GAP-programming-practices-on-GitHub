{
 "cells": [
  {
   "cell_type": "markdown",
   "id": "ad64dba5",
   "metadata": {},
   "source": [
    "### This notebook was made in reference with https://github.com/curiousily/Getting-Things-Done-with-Pytorch/blob/master/08.sentiment-analysis-with-bert.ipynb"
   ]
  },
  {
   "cell_type": "code",
   "execution_count": 1,
   "id": "b4cd3cf3",
   "metadata": {},
   "outputs": [],
   "source": [
    "import torch\n",
    "import torch.nn as nn\n",
    "import torch.optim as optim\n",
    "import torch.nn.functional as F\n",
    "import torch.utils.data as DataLoader\n",
    "\n",
    "import matplotlib.pyplot as plt"
   ]
  },
  {
   "cell_type": "markdown",
   "id": "493b24a4",
   "metadata": {},
   "source": [
    "# Check if CUDA support is tghere or not"
   ]
  },
  {
   "cell_type": "code",
   "execution_count": 2,
   "id": "dc8669ae",
   "metadata": {},
   "outputs": [],
   "source": [
    "device = \"cuda\" if torch.cuda.is_available() else \"cpu\""
   ]
  },
  {
   "cell_type": "code",
   "execution_count": 3,
   "id": "7c490767",
   "metadata": {},
   "outputs": [
    {
     "data": {
      "text/plain": [
       "'cuda'"
      ]
     },
     "execution_count": 3,
     "metadata": {},
     "output_type": "execute_result"
    }
   ],
   "source": [
    "device"
   ]
  },
  {
   "cell_type": "markdown",
   "id": "797ccb34",
   "metadata": {},
   "source": [
    "# BERT Neural Network Architecture implementation"
   ]
  },
  {
   "cell_type": "code",
   "execution_count": 4,
   "id": "824555e1",
   "metadata": {},
   "outputs": [],
   "source": [
    "class BERT(nn.Module):\n",
    "    def __init__(self, num_classes):\n",
    "        super(BERT, self).__init__()\n",
    "        self.bert_model = BertModel.from_pretrained('bert-base-uncased', return_dict=True)\n",
    "        self.dropout = nn.Dropout(0.3)\n",
    "        self.out  = nn.Linear(self.bert_model.config.hidden_size, num_classes)\n",
    "        #self.out  = nn.Linear(768, num_classes)\n",
    "        \n",
    "    def forward(self, input_ids, attention_mask):\n",
    "        _, pooled_output = self.bert_model(\n",
    "          input_ids=input_ids,\n",
    "          attention_mask=attention_mask, \n",
    "          return_dict=False\n",
    "        )\n",
    "        output_dropout = self.dropout(pooled_output)\n",
    "        output = self.out(output_dropout)\n",
    "        return output\n",
    "    "
   ]
  },
  {
   "cell_type": "markdown",
   "id": "42ae089b",
   "metadata": {},
   "source": [
    "# Custom Dataset for PyTorch"
   ]
  },
  {
   "cell_type": "markdown",
   "id": "6054563e",
   "metadata": {},
   "source": [
    "#### NLP preprocessing steps are done within this custom datseet"
   ]
  },
  {
   "cell_type": "markdown",
   "id": "e4312f0f",
   "metadata": {},
   "source": [
    "#### - Number Removal\n",
    "#### - Non-ASCII Removal\n",
    "#### - Multiple Spaces Removal\n",
    "#### - URL to Content "
   ]
  },
  {
   "cell_type": "code",
   "execution_count": 5,
   "id": "f796badd",
   "metadata": {},
   "outputs": [],
   "source": [
    "from torch.utils.data import Dataset\n",
    "import re\n",
    "import chardet # an ML model, It uses machine learning to detect the encoding of a file\n",
    "import requests \n",
    "\n",
    "#Custom Dataset\n",
    "class CustomDataset(Dataset):\n",
    "    def __init__(self, texts, targets, tokenizer, max_len):\n",
    "        self.texts = texts\n",
    "        self.targets = targets\n",
    "        self.tokenizer = tokenizer\n",
    "        self.max_len = max_len\n",
    "\n",
    "    def __len__(self):\n",
    "        return len(self.texts)\n",
    "\n",
    "    def __getitem__(self, index):\n",
    "        text = self.texts[index] # this text is a URL \n",
    "        target = self.targets[index]\n",
    "        \n",
    "        url_to_text = self.url_to_content(text)\n",
    "        non_ASCII_removed_text = self.remove_non_ascii(url_to_text)\n",
    "        multiple_spaces_removed_text = self.remove_multiple_spaces(non_ASCII_removed_text)\n",
    "        numbers_removed_text = self.number_removal(multiple_spaces_removed_text)\n",
    "        \n",
    "        encoding  = self.tokenizer.encode_plus(\n",
    "            text,\n",
    "            None,\n",
    "            add_special_tokens=True,\n",
    "            max_length=self.max_len,\n",
    "            padding='max_length',\n",
    "            return_token_type_ids=True,\n",
    "            truncation=True,\n",
    "            return_attention_mask=True,\n",
    "            return_tensors='pt'\n",
    "        )\n",
    "\n",
    "        return {\n",
    "           'text': text,\n",
    "           'input_ids': encoding['input_ids'].flatten(),\n",
    "           'attention_mask': encoding['attention_mask'].flatten(),\n",
    "           'targets': torch.tensor(target, dtype=torch.long)\n",
    "        }\n",
    "    \n",
    "    def number_removal(self, text):\n",
    "        # Remove numbers using regular expression\n",
    "        return re.sub(r'\\d+', '', text)\n",
    "    \n",
    "    def remove_non_ascii(self, text):\n",
    "        #Remove non-ASCII characters from the given text using a regular expression.\n",
    "        cleaned_text = re.sub(r'[^\\x00-\\x7F]+', '', text)\n",
    "        return cleaned_text\n",
    "    \n",
    "    def remove_multiple_spaces(self, text):\n",
    "        multiple_spaces_removed_text = \" \".join(text.split()) \n",
    "        return multiple_spaces_removed_text\n",
    "    \n",
    "    def url_to_content(self, url):\n",
    "        try:    \n",
    "            response = requests.get(url)\n",
    "            content = response.content\n",
    "            encoding = chardet.detect(content)\n",
    "\n",
    "            if encoding['encoding'] == \"ISO-8859-1\":\n",
    "                decoded_content = content.decode(\"iso-8859-1\")\n",
    "            elif encoding['encoding'] == \"GB2312\":\n",
    "                decoded_content = content.decode(\"GB2312\")\n",
    "            else:\n",
    "                decoded_content = content.decode(\"utf-8\")\n",
    "                \n",
    "            return decoded_content\n",
    "        \n",
    "        except Exception as e:\n",
    "            print(url)\n",
    "            decoded_content = content.decode(\"utf-8\")\n",
    "            return decoded_content\n",
    "    \n",
    "\n",
    "        "
   ]
  },
  {
   "cell_type": "markdown",
   "id": "40a1f9b0",
   "metadata": {},
   "source": [
    "# Read the dataset"
   ]
  },
  {
   "cell_type": "code",
   "execution_count": 6,
   "id": "e5ddb4d8",
   "metadata": {},
   "outputs": [],
   "source": [
    "import pandas as pd\n",
    "\n",
    "df = pd.read_csv(\"../data/data_files.csv\", encoding= 'unicode_escape') # read the data\n"
   ]
  },
  {
   "cell_type": "markdown",
   "id": "30ab233c",
   "metadata": {},
   "source": [
    "# Exploratory Data Analysis (EDA)"
   ]
  },
  {
   "cell_type": "markdown",
   "id": "2158cf76",
   "metadata": {},
   "source": [
    "### Step 1: Let' s take a look at the data"
   ]
  },
  {
   "cell_type": "code",
   "execution_count": 7,
   "id": "2ce7eeaf",
   "metadata": {},
   "outputs": [],
   "source": [
    "# commenting it out because of ethical consideration\n",
    "# df.sample(5)"
   ]
  },
  {
   "cell_type": "markdown",
   "id": "9f914141",
   "metadata": {},
   "source": [
    "### Step 2: Number of Unique Values in all the columns"
   ]
  },
  {
   "cell_type": "code",
   "execution_count": 8,
   "id": "ee2523c7",
   "metadata": {},
   "outputs": [
    {
     "name": "stdout",
     "output_type": "stream",
     "text": [
      "URL     34723\n",
      "Name       10\n",
      "dtype: int64\n",
      "\n",
      "Total Count of the dataset 34723\n"
     ]
    }
   ],
   "source": [
    "print(df.nunique(), end=\"\\n\\n\")\n",
    "\n",
    "print(\"Total Count of the dataset\", len(df))"
   ]
  },
  {
   "cell_type": "code",
   "execution_count": 9,
   "id": "17907e17",
   "metadata": {},
   "outputs": [],
   "source": [
    "# commenting it out because of ethical consideration\n",
    "# df.describe()"
   ]
  },
  {
   "cell_type": "markdown",
   "id": "380f71a0",
   "metadata": {},
   "source": [
    "### Step 3: Unique Values in 'Name Column' (Going to be made the target variable)"
   ]
  },
  {
   "cell_type": "code",
   "execution_count": 10,
   "id": "cb66030b",
   "metadata": {},
   "outputs": [
    {
     "data": {
      "text/plain": [
       "array(['G-CODE', 'GAP', 'GDSCRIPT', 'GO', 'JAVA', 'JAVASCRIPT', 'PHP',\n",
       "       'PYTHON', 'RUBY', 'TYPESCRIPT'], dtype=object)"
      ]
     },
     "execution_count": 10,
     "metadata": {},
     "output_type": "execute_result"
    }
   ],
   "source": [
    "df['Name'].unique()"
   ]
  },
  {
   "cell_type": "markdown",
   "id": "08e6e23c",
   "metadata": {},
   "source": [
    "### Step 4: Duplicate Check for \"URL\" column (as this column should only have unique urls)"
   ]
  },
  {
   "cell_type": "code",
   "execution_count": 11,
   "id": "ede2b770",
   "metadata": {},
   "outputs": [
    {
     "data": {
      "text/plain": [
       "0"
      ]
     },
     "execution_count": 11,
     "metadata": {},
     "output_type": "execute_result"
    }
   ],
   "source": [
    "df['URL'].duplicated().sum()"
   ]
  },
  {
   "cell_type": "markdown",
   "id": "dad5177e",
   "metadata": {},
   "source": [
    "### Step 5: Check the info() on the features"
   ]
  },
  {
   "cell_type": "code",
   "execution_count": 12,
   "id": "496d0d51",
   "metadata": {},
   "outputs": [
    {
     "name": "stdout",
     "output_type": "stream",
     "text": [
      "<class 'pandas.core.frame.DataFrame'>\n",
      "RangeIndex: 34723 entries, 0 to 34722\n",
      "Data columns (total 2 columns):\n",
      " #   Column  Non-Null Count  Dtype \n",
      "---  ------  --------------  ----- \n",
      " 0   URL     34723 non-null  object\n",
      " 1   Name    34723 non-null  object\n",
      "dtypes: object(2)\n",
      "memory usage: 542.7+ KB\n"
     ]
    }
   ],
   "source": [
    "df.info()"
   ]
  },
  {
   "cell_type": "markdown",
   "id": "f0a05dac",
   "metadata": {},
   "source": [
    "### Step 6: Check Class Distribution"
   ]
  },
  {
   "cell_type": "code",
   "execution_count": 13,
   "id": "75de8b71",
   "metadata": {},
   "outputs": [
    {
     "data": {
      "image/png": "[encoded data removed]",
      "text/plain": [
       "<Figure size 800x500 with 1 Axes>"
      ]
     },
     "metadata": {},
     "output_type": "display_data"
    }
   ],
   "source": [
    "# Get the counts of unique labels within a column\n",
    "label_counts = df['Name'].value_counts()\n",
    "\n",
    "plt.figure(figsize=(8, 5))\n",
    "plt.bar(label_counts.index, label_counts.values)\n",
    "plt.xlabel('Labels')\n",
    "plt.ylabel('Counts')\n",
    "plt.xticks(rotation=60)\n",
    "plt.title('Label Distribution')\n",
    "plt.show()"
   ]
  },
  {
   "cell_type": "markdown",
   "id": "e3ca2caf",
   "metadata": {},
   "source": [
    "# Function to perform UnderSampling"
   ]
  },
  {
   "cell_type": "code",
   "execution_count": 14,
   "id": "710533ac",
   "metadata": {},
   "outputs": [],
   "source": [
    "def reduce_dataset(df):\n",
    "    labels = df[\"Name\"].unique()\n",
    "    new_df = pd.DataFrame()\n",
    "    \n",
    "    length = df[df[\"Name\"] == \"GAP\"].shape[0]\n",
    "    \n",
    "    for label in labels:\n",
    "        if df[df[\"Name\"] == label].shape[0] > length:\n",
    "            new_df = pd.concat([new_df, df[df[\"Name\"] == label].sample(length)], ignore_index=True)\n",
    "        else:\n",
    "            new_df = pd.concat([new_df, df[df[\"Name\"] == label]], ignore_index=True)   \n",
    "    \n",
    "    return new_df"
   ]
  },
  {
   "cell_type": "code",
   "execution_count": 15,
   "id": "7dbc6b9e",
   "metadata": {},
   "outputs": [],
   "source": [
    "reduced_df = reduce_dataset(df)"
   ]
  },
  {
   "cell_type": "markdown",
   "id": "fdee186c",
   "metadata": {},
   "source": [
    "# Class Distribution after reducing the dataset"
   ]
  },
  {
   "cell_type": "code",
   "execution_count": 16,
   "id": "28530230",
   "metadata": {},
   "outputs": [
    {
     "data": {
      "image/png": "[encoded data removed]",
      "text/plain": [
       "<Figure size 800x500 with 1 Axes>"
      ]
     },
     "metadata": {},
     "output_type": "display_data"
    }
   ],
   "source": [
    "# Get the counts of unique labels within a column\n",
    "label_counts = reduced_df['Name'].value_counts()\n",
    "\n",
    "plt.figure(figsize=(8, 5))\n",
    "plt.bar(label_counts.index, label_counts.values)\n",
    "plt.xlabel('Labels')\n",
    "plt.ylabel('Counts')\n",
    "plt.xticks(rotation=60)\n",
    "plt.title('Label Distribution')\n",
    "plt.show()"
   ]
  },
  {
   "cell_type": "markdown",
   "id": "bc3be548",
   "metadata": {},
   "source": [
    "# Label Encode the target variables"
   ]
  },
  {
   "cell_type": "code",
   "execution_count": 17,
   "id": "0394a122",
   "metadata": {},
   "outputs": [],
   "source": [
    "from sklearn.preprocessing import LabelEncoder\n",
    "\n",
    "label_encoder = LabelEncoder()\n",
    "# Fit and transform the target labels\n",
    "reduced_df[\"labels\"] = label_encoder.fit_transform(reduced_df[\"Name\"])"
   ]
  },
  {
   "cell_type": "code",
   "execution_count": 18,
   "id": "18c0da3e",
   "metadata": {},
   "outputs": [
    {
     "data": {
      "text/plain": [
       "array(['G-CODE', 'GAP', 'GDSCRIPT', 'GO', 'JAVA', 'JAVASCRIPT', 'PHP',\n",
       "       'PYTHON', 'RUBY', 'TYPESCRIPT'], dtype=object)"
      ]
     },
     "execution_count": 18,
     "metadata": {},
     "output_type": "execute_result"
    }
   ],
   "source": [
    "label_encoder.classes_"
   ]
  },
  {
   "cell_type": "markdown",
   "id": "cc18cdd3",
   "metadata": {},
   "source": [
    "### drop the Name column"
   ]
  },
  {
   "cell_type": "code",
   "execution_count": 19,
   "id": "96ad2358",
   "metadata": {},
   "outputs": [],
   "source": [
    "reduced_df.drop(['Name'], inplace=True, axis=1)"
   ]
  },
  {
   "cell_type": "code",
   "execution_count": 20,
   "id": "3d026095",
   "metadata": {},
   "outputs": [
    {
     "data": {
      "text/plain": [
       "Index(['URL', 'labels'], dtype='object')"
      ]
     },
     "execution_count": 20,
     "metadata": {},
     "output_type": "execute_result"
    }
   ],
   "source": [
    "reduced_df.columns"
   ]
  },
  {
   "cell_type": "code",
   "execution_count": 21,
   "id": "0eb7565b",
   "metadata": {},
   "outputs": [
    {
     "data": {
      "text/plain": [
       "<torch._C.Generator at 0x203b9f258f0>"
      ]
     },
     "execution_count": 21,
     "metadata": {},
     "output_type": "execute_result"
    }
   ],
   "source": [
    "import numpy as np\n",
    "\n",
    "RANDOM_SEED = 42\n",
    "np.random.seed(RANDOM_SEED)\n",
    "torch.manual_seed(RANDOM_SEED)"
   ]
  },
  {
   "cell_type": "markdown",
   "id": "73418834",
   "metadata": {},
   "source": [
    "# Train-Test-Validation Split"
   ]
  },
  {
   "cell_type": "code",
   "execution_count": 22,
   "id": "4013fce8",
   "metadata": {},
   "outputs": [],
   "source": [
    "from sklearn.model_selection import train_test_split\n",
    "\n",
    "# Split the data into training set (80%) and temporary set (20%)\n",
    "df_train_temp, df_test = train_test_split(reduced_df, test_size=0.2, random_state=RANDOM_SEED)\n",
    "\n",
    "# Split the temporary set into validation set (10%) and final training set (90%)\n",
    "df_train, df_val = train_test_split(df_test, test_size=0.1, random_state=RANDOM_SEED)"
   ]
  },
  {
   "cell_type": "markdown",
   "id": "0e9fbf3d",
   "metadata": {},
   "source": [
    "# Import Transformers library and BERT from Hugging Face"
   ]
  },
  {
   "cell_type": "code",
   "execution_count": 24,
   "id": "e8758e53",
   "metadata": {},
   "outputs": [
    {
     "name": "stderr",
     "output_type": "stream",
     "text": [
      "C:\\Users\\kiran\\Desktop\\Analysis-of-GAP-programming-practices-on-GitHub\\notebooks\\ML-GAP-Classification\\lib\\site-packages\\tqdm\\auto.py:21: TqdmWarning: IProgress not found. Please update jupyter and ipywidgets. See https://ipywidgets.readthedocs.io/en/stable/user_install.html\n",
      "  from .autonotebook import tqdm as notebook_tqdm\n"
     ]
    }
   ],
   "source": [
    "from transformers import BertModel, BertTokenizer, AdamW, get_linear_schedule_with_warmup\n",
    "\n",
    "PRE_TRAINED_MODEL_NAME = 'bert-base-uncased'\n",
    "tokenizer = BertTokenizer.from_pretrained(PRE_TRAINED_MODEL_NAME)"
   ]
  },
  {
   "cell_type": "markdown",
   "id": "9223e7d1",
   "metadata": {},
   "source": [
    "# DL Hyperparameters"
   ]
  },
  {
   "cell_type": "code",
   "execution_count": 25,
   "id": "30c63682",
   "metadata": {},
   "outputs": [],
   "source": [
    "EPOCHS = 2\n",
    "shuffle = True\n",
    "BATCH_SIZE = 16\n",
    "MAX_LEN = 216"
   ]
  },
  {
   "cell_type": "markdown",
   "id": "12cf526e",
   "metadata": {},
   "source": [
    "# Custom Class to have the DataLoader load the CustomDatset "
   ]
  },
  {
   "cell_type": "code",
   "execution_count": 26,
   "id": "4eaa9b6c",
   "metadata": {},
   "outputs": [],
   "source": [
    "from torch.utils.data import DataLoader\n",
    "\n",
    "def create_data_loader(df, tokenizer, max_len, batch_size):\n",
    "    ds = CustomDataset(\n",
    "      texts=df[\"URL\"].to_numpy(),\n",
    "      targets=df[\"labels\"].to_numpy(),\n",
    "      tokenizer=tokenizer,\n",
    "      max_len=max_len\n",
    "    )\n",
    "\n",
    "    return DataLoader(\n",
    "      ds,\n",
    "      batch_size=batch_size,\n",
    "      shuffle=shuffle\n",
    "#       num_workers=4 # In normal pyton code this line works fine but in jupyter not working\n",
    "    )"
   ]
  },
  {
   "cell_type": "markdown",
   "id": "f25102d2",
   "metadata": {},
   "source": [
    "# DataLoader for Train-Test-Validation sets"
   ]
  },
  {
   "cell_type": "code",
   "execution_count": 27,
   "id": "89dc3578",
   "metadata": {},
   "outputs": [],
   "source": [
    "train_data_loader = create_data_loader(df_train, tokenizer, MAX_LEN, BATCH_SIZE)\n",
    "val_data_loader = create_data_loader(df_val, tokenizer, MAX_LEN, BATCH_SIZE)\n",
    "test_data_loader = create_data_loader(df_test, tokenizer, MAX_LEN, BATCH_SIZE)"
   ]
  },
  {
   "cell_type": "markdown",
   "id": "756d01ab",
   "metadata": {},
   "source": [
    "# Number of output classes and learning rate (Hyperparameters)"
   ]
  },
  {
   "cell_type": "code",
   "execution_count": 28,
   "id": "adecacfd",
   "metadata": {},
   "outputs": [],
   "source": [
    "#Hyperparameters\n",
    "num_classes = len(label_encoder.classes_) # give the number of classes here\n",
    "learning_rate = 2e-5"
   ]
  },
  {
   "cell_type": "markdown",
   "id": "33f70c1f",
   "metadata": {},
   "source": [
    "# Initialising the model"
   ]
  },
  {
   "cell_type": "code",
   "execution_count": 29,
   "id": "40446777",
   "metadata": {},
   "outputs": [],
   "source": [
    "# Initialise network\n",
    "model = BERT(num_classes=num_classes).to(device)"
   ]
  },
  {
   "cell_type": "markdown",
   "id": "aac1994d",
   "metadata": {},
   "source": [
    "# Loss and optimizer"
   ]
  },
  {
   "cell_type": "code",
   "execution_count": 30,
   "id": "c87bf9f2",
   "metadata": {},
   "outputs": [
    {
     "name": "stderr",
     "output_type": "stream",
     "text": [
      "C:\\Users\\kiran\\Desktop\\Analysis-of-GAP-programming-practices-on-GitHub\\notebooks\\ML-GAP-Classification\\lib\\site-packages\\transformers\\optimization.py:411: FutureWarning: This implementation of AdamW is deprecated and will be removed in a future version. Use the PyTorch implementation torch.optim.AdamW instead, or set `no_deprecation_warning=True` to disable this warning\n",
      "  warnings.warn(\n"
     ]
    }
   ],
   "source": [
    "optimizer = AdamW(model.parameters(), lr=learning_rate, correct_bias=False)\n",
    "total_steps = len(train_data_loader) * EPOCHS\n",
    "\n",
    "scheduler = get_linear_schedule_with_warmup(\n",
    "  optimizer,\n",
    "  num_warmup_steps=0,\n",
    "  num_training_steps=total_steps\n",
    ")\n",
    "\n",
    "loss_fn = nn.CrossEntropyLoss().to(device)"
   ]
  },
  {
   "cell_type": "code",
   "execution_count": 31,
   "id": "add8cd3e",
   "metadata": {},
   "outputs": [],
   "source": [
    "from sklearn.metrics import f1_score"
   ]
  },
  {
   "cell_type": "markdown",
   "id": "359fcfd4",
   "metadata": {},
   "source": [
    "# Train Phase"
   ]
  },
  {
   "cell_type": "code",
   "execution_count": 32,
   "id": "3f7a24c6",
   "metadata": {},
   "outputs": [],
   "source": [
    "def train_epoch(model, data_loader, loss_fn, optimizer, \n",
    "                  device, scheduler, n_examples):\n",
    "    \n",
    "    model = model.train()\n",
    "\n",
    "    losses = []\n",
    "    \n",
    "    all_targets = []\n",
    "    all_preds = []\n",
    "\n",
    "    for d in data_loader:\n",
    "        input_ids = d[\"input_ids\"].to(device)\n",
    "        attention_mask = d[\"attention_mask\"].to(device)\n",
    "        targets = d[\"targets\"].to(device)\n",
    "\n",
    "        outputs = model(\n",
    "          input_ids=input_ids,\n",
    "          attention_mask=attention_mask\n",
    "        )\n",
    "\n",
    "        _, preds = torch.max(outputs, dim=1)\n",
    "        loss = loss_fn(outputs, targets)\n",
    "\n",
    "        all_targets.extend(targets.cpu().numpy())\n",
    "        all_preds.extend(preds.cpu().numpy())\n",
    "        losses.append(loss.item())\n",
    "\n",
    "        loss.backward()\n",
    "        nn.utils.clip_grad_norm_(model.parameters(), max_norm=1.0)\n",
    "        optimizer.step()\n",
    "        scheduler.step()\n",
    "        optimizer.zero_grad()\n",
    "\n",
    "    return f1_score(all_targets, all_preds, average='weighted'), np.mean(losses)\n",
    "     \n",
    "        "
   ]
  },
  {
   "cell_type": "markdown",
   "id": "34f0636a",
   "metadata": {},
   "source": [
    "# Evaluation Phase"
   ]
  },
  {
   "cell_type": "code",
   "execution_count": 33,
   "id": "bed8ea9d",
   "metadata": {},
   "outputs": [],
   "source": [
    "def eval_model(model, data_loader, loss_fn, device, n_examples):\n",
    "    \n",
    "    model = model.eval()\n",
    "\n",
    "    losses = []\n",
    "    \n",
    "    all_targets = []\n",
    "    all_preds = []\n",
    "\n",
    "\n",
    "    with torch.no_grad():\n",
    "        for d in data_loader:\n",
    "            input_ids = d[\"input_ids\"].to(device)\n",
    "            attention_mask = d[\"attention_mask\"].to(device)\n",
    "            targets = d[\"targets\"].to(device)\n",
    "\n",
    "            outputs = model(\n",
    "              input_ids=input_ids,\n",
    "              attention_mask=attention_mask\n",
    "            )\n",
    "            _, preds = torch.max(outputs, dim=1)\n",
    "\n",
    "            loss = loss_fn(outputs, targets)\n",
    "\n",
    "            all_targets.extend(targets.cpu().numpy())\n",
    "            all_preds.extend(preds.cpu().numpy())\n",
    "            losses.append(loss.item())\n",
    "\n",
    "    return f1_score(all_targets, all_preds, average='weighted'), np.mean(losses)"
   ]
  },
  {
   "cell_type": "markdown",
   "id": "9dac8be1",
   "metadata": {},
   "source": [
    "# Run the train and Test Phase and choose the best model with high accuracy"
   ]
  },
  {
   "cell_type": "code",
   "execution_count": 34,
   "id": "df89a956",
   "metadata": {},
   "outputs": [
    {
     "name": "stdout",
     "output_type": "stream",
     "text": [
      "Epoch 1/2\n",
      "----------\n",
      "Train loss 0.46101334437816627 f1-score 0.8886364564445605\n",
      "Val   loss 0.0064685451798141 f1-score 1.0\n",
      "\n",
      "Epoch 2/2\n",
      "----------\n",
      "Train loss 0.0077140079101636295 f1-score 1.0\n",
      "Val   loss 0.0041337352789317565 f1-score 1.0\n",
      "\n",
      "CPU times: total: 2min 29s\n",
      "Wall time: 20min 31s\n"
     ]
    }
   ],
   "source": [
    "%%time\n",
    "\n",
    "from collections import defaultdict\n",
    "\n",
    "history = defaultdict(list)\n",
    "best_accuracy = 0\n",
    "\n",
    "for epoch in range(EPOCHS):\n",
    "\n",
    "    print(f'Epoch {epoch + 1}/{EPOCHS}')\n",
    "    print('-' * 10)\n",
    "\n",
    "    train_acc, train_loss = train_epoch(\n",
    "      model,\n",
    "      train_data_loader,    \n",
    "      loss_fn, \n",
    "      optimizer, \n",
    "      device, \n",
    "      scheduler, \n",
    "      len(df_train)\n",
    "    )\n",
    "\n",
    "    print(f'Train loss {train_loss} f1-score {train_acc}')\n",
    "\n",
    "    val_acc, val_loss = eval_model(\n",
    "      model,\n",
    "      val_data_loader,\n",
    "      loss_fn, \n",
    "      device, \n",
    "      len(df_val)\n",
    "    )\n",
    "\n",
    "    print(f'Val   loss {val_loss} f1-score {val_acc}')\n",
    "    print()\n",
    "\n",
    "    history['train_acc'].append(train_acc)\n",
    "    history['train_loss'].append(train_loss)\n",
    "    history['val_acc'].append(val_acc)\n",
    "    history['val_loss'].append(val_loss)\n",
    "\n",
    "    if val_acc > best_accuracy:\n",
    "        torch.save(model.state_dict(), '../model/classifer3.bin')\n",
    "        best_accuracy = val_acc\n",
    "     "
   ]
  },
  {
   "cell_type": "code",
   "execution_count": 35,
   "id": "01b06484",
   "metadata": {},
   "outputs": [
    {
     "data": {
      "text/plain": [
       "defaultdict(list,\n",
       "            {'train_acc': [0.8886364564445605, 1.0],\n",
       "             'train_loss': [0.46101334437816627, 0.0077140079101636295],\n",
       "             'val_acc': [1.0, 1.0],\n",
       "             'val_loss': [0.0064685451798141, 0.0041337352789317565]})"
      ]
     },
     "execution_count": 35,
     "metadata": {},
     "output_type": "execute_result"
    }
   ],
   "source": [
    "history"
   ]
  },
  {
   "cell_type": "markdown",
   "id": "55339e5e",
   "metadata": {},
   "source": [
    "# Convert tensors in the history object to CPU"
   ]
  },
  {
   "cell_type": "markdown",
   "id": "192d5335",
   "metadata": {},
   "source": [
    "### This is needed because if the tensors are in GPU it's value cannot be accessed "
   ]
  },
  {
   "cell_type": "code",
   "execution_count": 36,
   "id": "f15c2d74",
   "metadata": {},
   "outputs": [],
   "source": [
    "history_cpu = defaultdict(list)\n",
    "for key, value_list in history.items():\n",
    "    for value in value_list:\n",
    "        if isinstance(value, torch.Tensor):\n",
    "            history_cpu[key].append(value.cpu())\n",
    "        else:\n",
    "            history_cpu[key].append(value)"
   ]
  },
  {
   "cell_type": "code",
   "execution_count": 37,
   "id": "93c5be00",
   "metadata": {},
   "outputs": [
    {
     "data": {
      "text/plain": [
       "defaultdict(list,\n",
       "            {'train_acc': [0.8886364564445605, 1.0],\n",
       "             'train_loss': [0.46101334437816627, 0.0077140079101636295],\n",
       "             'val_acc': [1.0, 1.0],\n",
       "             'val_loss': [0.0064685451798141, 0.0041337352789317565]})"
      ]
     },
     "execution_count": 37,
     "metadata": {},
     "output_type": "execute_result"
    }
   ],
   "source": [
    "history_cpu"
   ]
  },
  {
   "cell_type": "markdown",
   "id": "bf8ccf87",
   "metadata": {},
   "source": [
    "# Train-Test accuracy plot w.r.t epochs"
   ]
  },
  {
   "cell_type": "code",
   "execution_count": 38,
   "id": "0d24b588",
   "metadata": {},
   "outputs": [
    {
     "data": {
      "text/plain": [
       "<matplotlib.legend.Legend at 0x203ea7c0fd0>"
      ]
     },
     "execution_count": 38,
     "metadata": {},
     "output_type": "execute_result"
    },
    {
     "data": {
      "image/png": "[encoded data removed]",
      "text/plain": [
       "<Figure size 640x480 with 1 Axes>"
      ]
     },
     "metadata": {},
     "output_type": "display_data"
    }
   ],
   "source": [
    "import matplotlib.pyplot as plt\n",
    "\n",
    "plt.plot(history_cpu['train_acc'], label='train accuracy')\n",
    "plt.plot(history_cpu['val_acc'], label='validation accuracy')\n",
    "\n",
    "plt.title('Training history')\n",
    "plt.ylabel('Accuracy')\n",
    "plt.xlabel('Epoch')\n",
    "plt.legend()"
   ]
  },
  {
   "cell_type": "markdown",
   "id": "e556d14e",
   "metadata": {},
   "source": [
    "# Evaluate on the Test dataset split"
   ]
  },
  {
   "cell_type": "code",
   "execution_count": 39,
   "id": "7749071d",
   "metadata": {
    "scrolled": true
   },
   "outputs": [
    {
     "data": {
      "text/plain": [
       "1.0"
      ]
     },
     "execution_count": 39,
     "metadata": {},
     "output_type": "execute_result"
    }
   ],
   "source": [
    "test_acc, _ = eval_model(\n",
    "  model,\n",
    "  test_data_loader,\n",
    "  loss_fn,\n",
    "  device,\n",
    "  len(df_test)\n",
    ")\n",
    "\n",
    "test_acc.item()"
   ]
  },
  {
   "cell_type": "markdown",
   "id": "b0b11e91",
   "metadata": {},
   "source": [
    "# Evaluate"
   ]
  },
  {
   "cell_type": "code",
   "execution_count": 40,
   "id": "20b6a939",
   "metadata": {},
   "outputs": [],
   "source": [
    "from sklearn.metrics import classification_report, confusion_matrix, accuracy_score, precision_score, recall_score, f1_score\n",
    "\n",
    "def test_eval(model, data_loader, device, class_names):\n",
    "    model = model.eval()\n",
    "\n",
    "    all_targets = []\n",
    "    all_preds = []\n",
    "\n",
    "    with torch.no_grad():\n",
    "        for d in data_loader:\n",
    "            input_ids = d[\"input_ids\"].to(device)\n",
    "            attention_mask = d[\"attention_mask\"].to(device)\n",
    "            targets = d[\"targets\"].to(device)\n",
    "\n",
    "            outputs = model(\n",
    "                input_ids=input_ids,\n",
    "                attention_mask=attention_mask\n",
    "            )\n",
    "            _, preds = torch.max(outputs, dim=1)\n",
    "\n",
    "            all_targets.extend(targets.cpu().numpy())\n",
    "            all_preds.extend(preds.cpu().numpy())\n",
    "\n",
    "    accuracy = accuracy_score(all_targets, all_preds)\n",
    "    precision = precision_score(all_targets, all_preds, average='weighted')\n",
    "    recall = recall_score(all_targets, all_preds, average='weighted')\n",
    "    f1 = f1_score(all_targets, all_preds, average='weighted')\n",
    "    \n",
    "    # Generate the classification report\n",
    "    class_report = classification_report(all_targets, all_preds, target_names=class_names)\n",
    "\n",
    "    # Compute the confusion matrix\n",
    "    confusion_mat = confusion_matrix(all_targets, all_preds)\n",
    "\n",
    "    return {\n",
    "        \"accuracy\": accuracy,\n",
    "        \"precision\": precision,\n",
    "        \"recall\": recall,\n",
    "        \"f1_score\": f1,\n",
    "        \"classification_report\": class_report,\n",
    "        \"confusion_matrix\": confusion_mat\n",
    "    }\n"
   ]
  },
  {
   "cell_type": "markdown",
   "id": "b18e9d5e",
   "metadata": {},
   "source": [
    "### Accuracy, Precision, Recall, F1-score, Classification Report"
   ]
  },
  {
   "cell_type": "code",
   "execution_count": 41,
   "id": "40de55aa",
   "metadata": {},
   "outputs": [
    {
     "name": "stdout",
     "output_type": "stream",
     "text": [
      "Accuracy: 1.0\n",
      "Precision: 1.0\n",
      "Recall: 1.0\n",
      "F1-score: 1.0\n",
      "Classification Report:\n",
      "               precision    recall  f1-score   support\n",
      "\n",
      "      G-CODE       1.00      1.00      1.00        15\n",
      "         GAP       1.00      1.00      1.00       212\n",
      "    GDSCRIPT       1.00      1.00      1.00       154\n",
      "          GO       1.00      1.00      1.00       200\n",
      "        JAVA       1.00      1.00      1.00       214\n",
      "  JAVASCRIPT       1.00      1.00      1.00       215\n",
      "         PHP       1.00      1.00      1.00       196\n",
      "      PYTHON       1.00      1.00      1.00       210\n",
      "        RUBY       1.00      1.00      1.00       222\n",
      "  TYPESCRIPT       1.00      1.00      1.00       216\n",
      "\n",
      "    accuracy                           1.00      1854\n",
      "   macro avg       1.00      1.00      1.00      1854\n",
      "weighted avg       1.00      1.00      1.00      1854\n",
      "\n"
     ]
    }
   ],
   "source": [
    "class_names = label_encoder.classes_\n",
    "results = test_eval(model, test_data_loader, device, class_names)\n",
    "\n",
    "print(\"Accuracy:\", results[\"accuracy\"])\n",
    "print(\"Precision:\", results[\"precision\"])\n",
    "print(\"Recall:\", results[\"recall\"])\n",
    "print(\"F1-score:\", results[\"f1_score\"])\n",
    "print(\"Classification Report:\\n\", results[\"classification_report\"])"
   ]
  },
  {
   "cell_type": "code",
   "execution_count": 42,
   "id": "df3844b2",
   "metadata": {},
   "outputs": [
    {
     "data": {
      "text/plain": [
       "116"
      ]
     },
     "execution_count": 42,
     "metadata": {},
     "output_type": "execute_result"
    }
   ],
   "source": [
    "len(test_data_loader)"
   ]
  },
  {
   "cell_type": "code",
   "execution_count": 43,
   "id": "cf82d842",
   "metadata": {},
   "outputs": [
    {
     "data": {
      "text/plain": [
       "1856"
      ]
     },
     "execution_count": 43,
     "metadata": {},
     "output_type": "execute_result"
    }
   ],
   "source": [
    "116*16"
   ]
  },
  {
   "cell_type": "markdown",
   "id": "5e1446dc",
   "metadata": {},
   "source": [
    "### Confusion Matrix"
   ]
  },
  {
   "cell_type": "code",
   "execution_count": 46,
   "id": "d0cdf610",
   "metadata": {},
   "outputs": [
    {
     "data": {
      "image/png": "[encoded data removed]",
      "text/plain": [
       "<Figure size 640x480 with 2 Axes>"
      ]
     },
     "metadata": {},
     "output_type": "display_data"
    }
   ],
   "source": [
    "from sklearn.metrics import ConfusionMatrixDisplay\n",
    "\n",
    "disp = ConfusionMatrixDisplay(confusion_matrix=results[\"confusion_matrix\"], display_labels=class_names)\n",
    "disp.plot(cmap='Blues', values_format='.0f')\n",
    "plt.title('Confusion Matrix')\n",
    "plt.xticks(rotation=60)\n",
    "plt.show()"
   ]
  },
  {
   "cell_type": "code",
   "execution_count": null,
   "id": "6e43c54a",
   "metadata": {},
   "outputs": [],
   "source": []
  }
 ],
 "metadata": {
  "kernelspec": {
   "display_name": "ML-GAP-Classification",
   "language": "python",
   "name": "ml-gap-classification"
  },
  "language_info": {
   "codemirror_mode": {
    "name": "ipython",
    "version": 3
   },
   "file_extension": ".py",
   "mimetype": "text/x-python",
   "name": "python",
   "nbconvert_exporter": "python",
   "pygments_lexer": "ipython3",
   "version": "3.10.4"
  }
 },
 "nbformat": 4,
 "nbformat_minor": 5
}
