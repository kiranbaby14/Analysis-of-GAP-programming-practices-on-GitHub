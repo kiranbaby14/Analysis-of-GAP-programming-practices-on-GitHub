{
 "cells": [
  {
   "cell_type": "code",
   "execution_count": 1,
   "id": "93b39f8d",
   "metadata": {},
   "outputs": [],
   "source": [
    "# import necessary modules\n",
    "import pandas as pd\n",
    "import numpy as np\n",
    "import matplotlib.pyplot as plt\n",
    "import requests"
   ]
  },
  {
   "cell_type": "code",
   "execution_count": 2,
   "id": "baec6ac3",
   "metadata": {},
   "outputs": [
    {
     "name": "stdout",
     "output_type": "stream",
     "text": [
      "CPU times: total: 125 ms\n",
      "Wall time: 151 ms\n"
     ]
    }
   ],
   "source": [
    "%%time\n",
    "df = pd.read_csv(\"../data/data_files.csv\", encoding= 'unicode_escape') # read the data"
   ]
  },
  {
   "cell_type": "markdown",
   "id": "644fdf21",
   "metadata": {},
   "source": [
    "# Exploratory Data Analysis (EDA)"
   ]
  },
  {
   "cell_type": "markdown",
   "id": "f1fc1704",
   "metadata": {},
   "source": [
    "### Step 1: Let' s take a look at the data"
   ]
  },
  {
   "cell_type": "code",
   "execution_count": 3,
   "id": "08b597f8",
   "metadata": {},
   "outputs": [
    {
     "data": {
      "text/html": [
       "<div>\n",
       "<style scoped>\n",
       "    .dataframe tbody tr th:only-of-type {\n",
       "        vertical-align: middle;\n",
       "    }\n",
       "\n",
       "    .dataframe tbody tr th {\n",
       "        vertical-align: top;\n",
       "    }\n",
       "\n",
       "    .dataframe thead th {\n",
       "        text-align: right;\n",
       "    }\n",
       "</style>\n",
       "<table border=\"1\" class=\"dataframe\">\n",
       "  <thead>\n",
       "    <tr style=\"text-align: right;\">\n",
       "      <th></th>\n",
       "      <th>URL</th>\n",
       "      <th>Name</th>\n",
       "    </tr>\n",
       "  </thead>\n",
       "  <tbody>\n",
       "    <tr>\n",
       "      <th>11054</th>\n",
       "      <td>https://raw.githubusercontent.com/spring-proje...</td>\n",
       "      <td>JAVA</td>\n",
       "    </tr>\n",
       "    <tr>\n",
       "      <th>31618</th>\n",
       "      <td>https://raw.githubusercontent.com/elastic/elas...</td>\n",
       "      <td>JAVA</td>\n",
       "    </tr>\n",
       "    <tr>\n",
       "      <th>3473</th>\n",
       "      <td>https://raw.githubusercontent.com/tensorflow/t...</td>\n",
       "      <td>PYTHON</td>\n",
       "    </tr>\n",
       "    <tr>\n",
       "      <th>34974</th>\n",
       "      <td>https://raw.githubusercontent.com/junit-team/j...</td>\n",
       "      <td>JAVA</td>\n",
       "    </tr>\n",
       "    <tr>\n",
       "      <th>12879</th>\n",
       "      <td>https://raw.githubusercontent.com/spring-proje...</td>\n",
       "      <td>JAVA</td>\n",
       "    </tr>\n",
       "  </tbody>\n",
       "</table>\n",
       "</div>"
      ],
      "text/plain": [
       "                                                     URL    Name\n",
       "11054  https://raw.githubusercontent.com/spring-proje...    JAVA\n",
       "31618  https://raw.githubusercontent.com/elastic/elas...    JAVA\n",
       "3473   https://raw.githubusercontent.com/tensorflow/t...  PYTHON\n",
       "34974  https://raw.githubusercontent.com/junit-team/j...    JAVA\n",
       "12879  https://raw.githubusercontent.com/spring-proje...    JAVA"
      ]
     },
     "execution_count": 3,
     "metadata": {},
     "output_type": "execute_result"
    }
   ],
   "source": [
    "df.sample(5)"
   ]
  },
  {
   "cell_type": "markdown",
   "id": "7bd7c0df",
   "metadata": {},
   "source": [
    "### Step 2: Number of Unique Values in all the columns"
   ]
  },
  {
   "cell_type": "code",
   "execution_count": 4,
   "id": "72b78b89",
   "metadata": {},
   "outputs": [
    {
     "data": {
      "text/plain": [
       "URL     75124\n",
       "Name        8\n",
       "dtype: int64"
      ]
     },
     "execution_count": 4,
     "metadata": {},
     "output_type": "execute_result"
    }
   ],
   "source": [
    "df.nunique()"
   ]
  },
  {
   "cell_type": "code",
   "execution_count": 5,
   "id": "6afa112e",
   "metadata": {},
   "outputs": [
    {
     "data": {
      "text/html": [
       "<div>\n",
       "<style scoped>\n",
       "    .dataframe tbody tr th:only-of-type {\n",
       "        vertical-align: middle;\n",
       "    }\n",
       "\n",
       "    .dataframe tbody tr th {\n",
       "        vertical-align: top;\n",
       "    }\n",
       "\n",
       "    .dataframe thead th {\n",
       "        text-align: right;\n",
       "    }\n",
       "</style>\n",
       "<table border=\"1\" class=\"dataframe\">\n",
       "  <thead>\n",
       "    <tr style=\"text-align: right;\">\n",
       "      <th></th>\n",
       "      <th>URL</th>\n",
       "      <th>Name</th>\n",
       "    </tr>\n",
       "  </thead>\n",
       "  <tbody>\n",
       "    <tr>\n",
       "      <th>count</th>\n",
       "      <td>75124</td>\n",
       "      <td>75124</td>\n",
       "    </tr>\n",
       "    <tr>\n",
       "      <th>unique</th>\n",
       "      <td>75124</td>\n",
       "      <td>8</td>\n",
       "    </tr>\n",
       "    <tr>\n",
       "      <th>top</th>\n",
       "      <td>https://raw.githubusercontent.com/gap-system/g...</td>\n",
       "      <td>JAVA</td>\n",
       "    </tr>\n",
       "    <tr>\n",
       "      <th>freq</th>\n",
       "      <td>1</td>\n",
       "      <td>26768</td>\n",
       "    </tr>\n",
       "  </tbody>\n",
       "</table>\n",
       "</div>"
      ],
      "text/plain": [
       "                                                      URL   Name\n",
       "count                                               75124  75124\n",
       "unique                                              75124      8\n",
       "top     https://raw.githubusercontent.com/gap-system/g...   JAVA\n",
       "freq                                                    1  26768"
      ]
     },
     "execution_count": 5,
     "metadata": {},
     "output_type": "execute_result"
    }
   ],
   "source": [
    "df.describe()"
   ]
  },
  {
   "cell_type": "markdown",
   "id": "918ff59c",
   "metadata": {},
   "source": [
    "### Step 3: Unique Values in 'Name Column' (Going to be made the target variable)"
   ]
  },
  {
   "cell_type": "code",
   "execution_count": 6,
   "id": "0e411e5b",
   "metadata": {},
   "outputs": [
    {
     "data": {
      "text/plain": [
       "array(['GAP', 'PYTHON', 'JAVA', 'JAVASCRIPT', 'TYPESCRIPT', 'GO', 'PHP',\n",
       "       'RUBY'], dtype=object)"
      ]
     },
     "execution_count": 6,
     "metadata": {},
     "output_type": "execute_result"
    }
   ],
   "source": [
    "df['Name'].unique()"
   ]
  },
  {
   "cell_type": "markdown",
   "id": "f74c0f58",
   "metadata": {},
   "source": [
    "### Step 4: Duplicate Check for \"URL\" column (as this column should only have unique urls)"
   ]
  },
  {
   "cell_type": "code",
   "execution_count": 7,
   "id": "cd2024ea",
   "metadata": {},
   "outputs": [
    {
     "data": {
      "text/plain": [
       "0"
      ]
     },
     "execution_count": 7,
     "metadata": {},
     "output_type": "execute_result"
    }
   ],
   "source": [
    "df['URL'].duplicated().sum()"
   ]
  },
  {
   "cell_type": "markdown",
   "id": "6096f91a",
   "metadata": {},
   "source": [
    "### Step 5: Check the info() on the features"
   ]
  },
  {
   "cell_type": "code",
   "execution_count": 8,
   "id": "09276c09",
   "metadata": {},
   "outputs": [
    {
     "name": "stdout",
     "output_type": "stream",
     "text": [
      "<class 'pandas.core.frame.DataFrame'>\n",
      "RangeIndex: 75124 entries, 0 to 75123\n",
      "Data columns (total 2 columns):\n",
      " #   Column  Non-Null Count  Dtype \n",
      "---  ------  --------------  ----- \n",
      " 0   URL     75124 non-null  object\n",
      " 1   Name    75124 non-null  object\n",
      "dtypes: object(2)\n",
      "memory usage: 1.1+ MB\n"
     ]
    }
   ],
   "source": [
    "df.info()"
   ]
  },
  {
   "cell_type": "markdown",
   "id": "5d007ace",
   "metadata": {},
   "source": [
    "#### conclusion drawn from Step 5:\n",
    "- both columns are of type 'object'"
   ]
  },
  {
   "cell_type": "markdown",
   "id": "6ce364ac",
   "metadata": {},
   "source": [
    "### Step 6: Check Class Distribution "
   ]
  },
  {
   "cell_type": "code",
   "execution_count": 9,
   "id": "959d1594",
   "metadata": {},
   "outputs": [
    {
     "data": {
      "image/png": "[encoded data removed]",
      "text/plain": [
       "<Figure size 800x500 with 1 Axes>"
      ]
     },
     "metadata": {},
     "output_type": "display_data"
    }
   ],
   "source": [
    "# Get the counts of unique labels within a column\n",
    "label_counts = df['Name'].value_counts()\n",
    "\n",
    "plt.figure(figsize=(8, 5))\n",
    "plt.bar(label_counts.index, label_counts.values)\n",
    "plt.xlabel('Labels')\n",
    "plt.ylabel('Counts')\n",
    "# plt.xticks(rotation=90)\n",
    "plt.title('Label Distribution')\n",
    "plt.show()"
   ]
  },
  {
   "cell_type": "code",
   "execution_count": 10,
   "id": "7d177738",
   "metadata": {},
   "outputs": [
    {
     "data": {
      "text/plain": [
       "Name\n",
       "JAVA          26768\n",
       "JAVASCRIPT    15526\n",
       "GO            15458\n",
       "PYTHON         7393\n",
       "TYPESCRIPT     4408\n",
       "RUBY           3138\n",
       "PHP            1379\n",
       "GAP            1054\n",
       "Name: count, dtype: int64"
      ]
     },
     "execution_count": 10,
     "metadata": {},
     "output_type": "execute_result"
    }
   ],
   "source": [
    "df[\"Name\"].value_counts()"
   ]
  },
  {
   "cell_type": "markdown",
   "id": "0d8e2f04",
   "metadata": {},
   "source": [
    "# Function to reduce the dataset"
   ]
  },
  {
   "cell_type": "code",
   "execution_count": 11,
   "id": "f16f72e0",
   "metadata": {},
   "outputs": [],
   "source": [
    "def reduce_dataset(df):\n",
    "    labels = df[\"Name\"].unique()\n",
    "    new_df = pd.DataFrame()\n",
    "    \n",
    "    length = df[df[\"Name\"] == \"GAP\"].shape[0]\n",
    "    \n",
    "    for label in labels:\n",
    "        new_df = pd.concat([new_df, df[df[\"Name\"] == label].sample(length)], ignore_index=True)\n",
    "    \n",
    "    return new_df"
   ]
  },
  {
   "cell_type": "code",
   "execution_count": 12,
   "id": "b3668976",
   "metadata": {},
   "outputs": [],
   "source": [
    "reduced_df = reduce_dataset(df)"
   ]
  },
  {
   "cell_type": "markdown",
   "id": "53769ce6",
   "metadata": {},
   "source": [
    "# Class Distribution after reducing the dataset"
   ]
  },
  {
   "cell_type": "code",
   "execution_count": 13,
   "id": "0291a74b",
   "metadata": {},
   "outputs": [
    {
     "data": {
      "image/png": "[encoded data removed]",
      "text/plain": [
       "<Figure size 800x500 with 1 Axes>"
      ]
     },
     "metadata": {},
     "output_type": "display_data"
    }
   ],
   "source": [
    "# Get the counts of unique labels within a column\n",
    "label_counts = reduced_df['Name'].value_counts()\n",
    "\n",
    "plt.figure(figsize=(8, 5))\n",
    "plt.bar(label_counts.index, label_counts.values)\n",
    "plt.xlabel('Labels')\n",
    "plt.ylabel('Counts')\n",
    "# plt.xticks(rotation=90)\n",
    "plt.title('Label Distribution')\n",
    "plt.show()"
   ]
  },
  {
   "cell_type": "code",
   "execution_count": 14,
   "id": "990e14a3",
   "metadata": {},
   "outputs": [
    {
     "data": {
      "text/plain": [
       "Name\n",
       "GAP           1054\n",
       "PYTHON        1054\n",
       "JAVA          1054\n",
       "JAVASCRIPT    1054\n",
       "TYPESCRIPT    1054\n",
       "GO            1054\n",
       "PHP           1054\n",
       "RUBY          1054\n",
       "Name: count, dtype: int64"
      ]
     },
     "execution_count": 14,
     "metadata": {},
     "output_type": "execute_result"
    }
   ],
   "source": [
    "reduced_df[\"Name\"].value_counts()"
   ]
  },
  {
   "cell_type": "markdown",
   "id": "3875d0f1",
   "metadata": {},
   "source": [
    "# Function to remove non-ASCII characters from the given text"
   ]
  },
  {
   "cell_type": "code",
   "execution_count": 15,
   "id": "190abe77",
   "metadata": {},
   "outputs": [],
   "source": [
    "def remove_non_ascii(text):\n",
    "    \"\"\"\n",
    "    Remove non-ASCII characters from the given text using a regular expression.\n",
    "    \"\"\"\n",
    "    cleaned_text = re.sub(r'[^\\x00-\\x7F]+', '', text)\n",
    "    return cleaned_text"
   ]
  },
  {
   "cell_type": "markdown",
   "id": "c72bcf7b",
   "metadata": {},
   "source": [
    "# Custom Transformer classes (So that sklearn's pipeline can be used)"
   ]
  },
  {
   "cell_type": "code",
   "execution_count": 16,
   "id": "4894f10f",
   "metadata": {},
   "outputs": [],
   "source": [
    "import re\n",
    "from nltk.corpus import stopwords\n",
    "from sklearn.base import BaseEstimator, TransformerMixin\n",
    "import chardet # an ML model, It uses machine learning to detect the encoding of a file\n",
    "\n",
    "# Custom transformer for case-folding\n",
    "class CaseFoldingTransformer(BaseEstimator, TransformerMixin):\n",
    "    def fit(self, X, y=None):\n",
    "        return self\n",
    "    \n",
    "    def transform(self, X):\n",
    "        return [x.lower() for x in X]\n",
    "\n",
    "# Custom transformer for stop words removal\n",
    "class StopWordsRemovalTransformer(BaseEstimator, TransformerMixin):\n",
    "    def fit(self, X, y=None):\n",
    "        return self\n",
    "    \n",
    "    def transform(self, X):\n",
    "        stop_words_list = stopwords.words('english')\n",
    "        return [' '.join([word for word in x.split() if word not in stop_words_list]) for x in X]\n",
    "    \n",
    "    # Custom transformer to remove numbers from text\n",
    "class NumberRemovalTransformer(BaseEstimator, TransformerMixin):\n",
    "    def fit(self, X, y=None):\n",
    "        return self\n",
    "\n",
    "    def transform(self, X):\n",
    "        # Remove numbers using regular expression\n",
    "        return [re.sub(r'\\d+', '', text) for text in X]\n",
    "    \n",
    "class UrlToContentTransformer(BaseEstimator, TransformerMixin):\n",
    "    def fit(self, X, y=None):\n",
    "        return self\n",
    "    \n",
    "    def transform(self, X):\n",
    "        transformed_X = []\n",
    "        for url in X:\n",
    "            while True:\n",
    "                try:    \n",
    "                    response = requests.get(url)\n",
    "                    content = response.content\n",
    "                    encoding = chardet.detect(content)\n",
    "        \n",
    "                    if encoding['encoding'] == \"ISO-8859-1\":\n",
    "                        decoded_content = content.decode(\"iso-8859-1\")\n",
    "                    elif encoding['encoding'] == \"GB2312\":\n",
    "                        decoded_content = content.decode(\"GB2312\")\n",
    "                    else:\n",
    "                        decoded_content = content.decode(\"utf-8\")\n",
    "\n",
    "                    # Remove non-ASCII characters from the decoded content\n",
    "                    cleaned_content = remove_non_ascii(decoded_content)\n",
    "                    \n",
    "                    transformed_X.append(cleaned_content)\n",
    "                    break\n",
    "                except Exception as e:\n",
    "                    print(url)\n",
    "                    decoded_content = content.decode(\"utf-8\")\n",
    "                    cleaned_content = remove_non_ascii(decoded_content)\n",
    "                    transformed_X.append(cleaned_content)\n",
    "                    break\n",
    "        return transformed_X\n"
   ]
  },
  {
   "cell_type": "markdown",
   "id": "52864981",
   "metadata": {},
   "source": [
    "# Create a Pipeline for the basic text pre-processing"
   ]
  },
  {
   "cell_type": "code",
   "execution_count": 17,
   "id": "add5eded",
   "metadata": {},
   "outputs": [],
   "source": [
    "from sklearn.pipeline import Pipeline\n",
    "\n",
    "# Define the preprocessing steps\n",
    "pipeline_preprocessing = Pipeline([\n",
    "#     ('case_folding', CaseFoldingTransformer()),\n",
    "#     ('stop_words_removal', StopWordsRemovalTransformer()),\n",
    "    ('url_to_content', UrlToContentTransformer()),\n",
    "    ('number_removal', NumberRemovalTransformer()),\n",
    "])"
   ]
  },
  {
   "cell_type": "markdown",
   "id": "e6de3ea3",
   "metadata": {},
   "source": [
    "#### Apply the preprocessing pipeline to the dataset"
   ]
  },
  {
   "cell_type": "code",
   "execution_count": 18,
   "id": "97ba8b75",
   "metadata": {},
   "outputs": [
    {
     "name": "stdout",
     "output_type": "stream",
     "text": [
      "CPU times: total: 1min 38s\n",
      "Wall time: 38min 22s\n"
     ]
    }
   ],
   "source": [
    "%%time\n",
    "reduced_df['Content'] = pipeline_preprocessing.fit_transform(reduced_df['URL'])"
   ]
  },
  {
   "cell_type": "markdown",
   "id": "bf53dff0",
   "metadata": {},
   "source": [
    "#### Visualise the datset after the preprocessing pipeline"
   ]
  },
  {
   "cell_type": "code",
   "execution_count": 19,
   "id": "b484c974",
   "metadata": {},
   "outputs": [
    {
     "data": {
      "text/plain": [
       "0       K := function(G)\\n  local n, AE,det,M,diag;\\n ...\n",
       "1       ##############################################...\n",
       "2       ##############################################...\n",
       "3       ##############################################...\n",
       "4       ##############################################...\n",
       "                              ...                        \n",
       "8427    # frozen_string_literal: true\\n\\nrequire \"abst...\n",
       "8428    # frozen_string_literal: true\\n\\nmodule Action...\n",
       "8429    # frozen_string_literal: true\\n\\nmodule Active...\n",
       "8430    # frozen_string_literal: true\\n\\nrequire \"acti...\n",
       "8431    # frozen_string_literal: true\\n\\nrequire \"isol...\n",
       "Name: Content, Length: 8432, dtype: object"
      ]
     },
     "execution_count": 19,
     "metadata": {},
     "output_type": "execute_result"
    }
   ],
   "source": [
    "reduced_df['Content']"
   ]
  },
  {
   "cell_type": "markdown",
   "id": "b586b41b",
   "metadata": {},
   "source": [
    "# Seperate the dataset into Independent and target variables"
   ]
  },
  {
   "cell_type": "code",
   "execution_count": 20,
   "id": "bc43341c",
   "metadata": {},
   "outputs": [],
   "source": [
    "X = reduced_df['Content']\n",
    "y = reduced_df['Name']"
   ]
  },
  {
   "cell_type": "markdown",
   "id": "9163a22e",
   "metadata": {},
   "source": [
    "# Train-Test-Validation split"
   ]
  },
  {
   "cell_type": "code",
   "execution_count": 21,
   "id": "3ad456ee",
   "metadata": {},
   "outputs": [],
   "source": [
    "from sklearn.model_selection import train_test_split\n",
    "\n",
    "# Split the data into training set (80%) and temporary set (20%)\n",
    "X_train_temp, X_test, y_train_temp, y_test = train_test_split(X, y, test_size=0.2, random_state=42)\n",
    "\n",
    "# Split the temporary set into validation set (10%) and final training set (90%)\n",
    "X_train, X_val, y_train, y_val = train_test_split(X_train_temp, y_train_temp, test_size=0.1, random_state=42)"
   ]
  },
  {
   "cell_type": "markdown",
   "id": "0688cba4",
   "metadata": {},
   "source": [
    "# NLP techniques\n",
    "\n",
    "- #### Bag-of-Words (CountVectorizer)\n",
    "- #### n-grams\n",
    "- #### TF-IDF\n",
    "- ##### Byte-Pair Encoding"
   ]
  },
  {
   "cell_type": "code",
   "execution_count": 22,
   "id": "73685b96",
   "metadata": {},
   "outputs": [],
   "source": [
    "# Bag-of-words can be implemented using \"CountVectorizer\" in sklearn\n",
    "from sklearn.feature_extraction.text import CountVectorizer, TfidfVectorizer\n",
    "from tokenizers import ByteLevelBPETokenizer"
   ]
  },
  {
   "cell_type": "markdown",
   "id": "3ba24a6f",
   "metadata": {},
   "source": [
    "#### Custom Transformer for  Byte-Pair Encoding"
   ]
  },
  {
   "cell_type": "code",
   "execution_count": 23,
   "id": "8e6470c5",
   "metadata": {},
   "outputs": [],
   "source": [
    "class BPEVectorizer:\n",
    "    def __init__(self):\n",
    "        self.tokenizer = ByteLevelBPETokenizer()\n",
    "\n",
    "    def fit(self, X, y=None):\n",
    "        texts = [text for text in X]\n",
    "        self.tokenizer.train(files=texts, special_tokens=[\"<s>\", \"<pad>\", \"</s>\", \"<unk>\"])\n",
    "        return self\n",
    "\n",
    "    def transform(self, X):\n",
    "        encoded_texts = [self.tokenizer.encode(text).ids for text in X]\n",
    "        return encoded_texts"
   ]
  },
  {
   "cell_type": "markdown",
   "id": "9d0481ab",
   "metadata": {},
   "source": [
    "# Hyper-Parameter Tuning using GridSearchCV"
   ]
  },
  {
   "cell_type": "markdown",
   "id": "688eb32b",
   "metadata": {},
   "source": [
    "#### Define a list of NLP techniques (vectorizers) with their hyperparameter grids"
   ]
  },
  {
   "cell_type": "code",
   "execution_count": 24,
   "id": "4213bebf",
   "metadata": {},
   "outputs": [],
   "source": [
    "vectorizers = [\n",
    "    (CountVectorizer(), {\n",
    "        'vectorizer__max_features': [1000, 2000, 3000],\n",
    "        'vectorizer__ngram_range': [(1, 1), (1, 2)]\n",
    "    }),\n",
    "    \n",
    "    (TfidfVectorizer(), {\n",
    "        'vectorizer__max_df': [0.8, 0.9, 1.0],\n",
    "        'vectorizer__min_df': [1, 2, 3],\n",
    "        'vectorizer__ngram_range': [(1, 1), (1, 2)],\n",
    "        'vectorizer__use_idf': [True, False],\n",
    "    }),\n",
    "    \n",
    "    (BPEVectorizer(), {}),\n",
    "]"
   ]
  },
  {
   "cell_type": "markdown",
   "id": "cdb5bcea",
   "metadata": {},
   "source": [
    "#### Define a list of classifiers with their hyperparameter grids"
   ]
  },
  {
   "cell_type": "code",
   "execution_count": 25,
   "id": "95264ce1",
   "metadata": {},
   "outputs": [],
   "source": [
    "from sklearn.ensemble import RandomForestClassifier\n",
    "from sklearn.linear_model import LogisticRegression\n",
    "from sklearn.naive_bayes import MultinomialNB\n",
    "from sklearn.svm import SVC\n",
    "\n",
    "classifiers = [\n",
    "    (LogisticRegression(), {'clf__C': [0.1, 1, 10], 'clf__max_iter': [500, 1000]}),\n",
    "    (MultinomialNB(), {'clf__alpha': [0.1, 1, 10]}),\n",
    "    (SVC(), {'clf__C': [0.1, 1, 10], 'clf__kernel': ['linear', 'rbf']}),\n",
    "    (RandomForestClassifier(), {'clf__n_estimators': [50, 100, 200], 'clf__max_depth': [None, 10, 20]})\n",
    "]"
   ]
  },
  {
   "cell_type": "code",
   "execution_count": 26,
   "id": "21d88217",
   "metadata": {},
   "outputs": [],
   "source": [
    "# scoring = {\n",
    "#     'accuracy': 'accuracy',          \n",
    "#     'precision_macro': 'precision_macro',\n",
    "#     'recall_macro': 'recall_macro',\n",
    "#     'f1_macro': 'f1_macro'\n",
    "# }"
   ]
  },
  {
   "cell_type": "markdown",
   "id": "a24347da",
   "metadata": {},
   "source": [
    "#### Perform GridSearchCV for hyperparameter tuning for all combinations"
   ]
  },
  {
   "cell_type": "code",
   "execution_count": 27,
   "id": "1c005c21",
   "metadata": {
    "scrolled": true
   },
   "outputs": [
    {
     "name": "stdout",
     "output_type": "stream",
     "text": [
      "Vectorzier: CountVectorizer, Classifier: LogisticRegression\n",
      "Best Hyperparameters: {'clf__C': 0.1, 'clf__max_iter': 500, 'vectorizer__max_features': 3000, 'vectorizer__ngram_range': (1, 2)}\n",
      "Best F1-Score: 0.9804746006646983\n",
      "\n",
      "Vectorzier: CountVectorizer, Classifier: MultinomialNB\n",
      "Best Hyperparameters: {'clf__alpha': 0.1, 'vectorizer__max_features': 3000, 'vectorizer__ngram_range': (1, 2)}\n",
      "Best F1-Score: 0.9679495617971673\n",
      "\n",
      "Vectorzier: CountVectorizer, Classifier: SVC\n",
      "Best Hyperparameters: {'clf__C': 0.1, 'clf__kernel': 'linear', 'vectorizer__max_features': 2000, 'vectorizer__ngram_range': (1, 2)}\n",
      "Best F1-Score: 0.9613641541072673\n",
      "\n",
      "Vectorzier: CountVectorizer, Classifier: RandomForestClassifier\n",
      "Best Hyperparameters: {'clf__max_depth': None, 'clf__n_estimators': 100, 'vectorizer__max_features': 1000, 'vectorizer__ngram_range': (1, 1)}\n",
      "Best F1-Score: 0.9909624784973932\n",
      "\n",
      "Vectorzier: TfidfVectorizer, Classifier: LogisticRegression\n",
      "Best Hyperparameters: {'clf__C': 1, 'clf__max_iter': 500, 'vectorizer__max_df': 0.8, 'vectorizer__min_df': 2, 'vectorizer__ngram_range': (1, 2), 'vectorizer__use_idf': True}\n",
      "Best F1-Score: 0.9873727150218559\n",
      "\n",
      "Vectorzier: TfidfVectorizer, Classifier: MultinomialNB\n",
      "Best Hyperparameters: {'clf__alpha': 0.1, 'vectorizer__max_df': 0.9, 'vectorizer__min_df': 2, 'vectorizer__ngram_range': (1, 1), 'vectorizer__use_idf': True}\n",
      "Best F1-Score: 0.9746466164840655\n",
      "\n",
      "Vectorzier: TfidfVectorizer, Classifier: SVC\n",
      "Best Hyperparameters: {'clf__C': 10, 'clf__kernel': 'rbf', 'vectorizer__max_df': 0.9, 'vectorizer__min_df': 3, 'vectorizer__ngram_range': (1, 2), 'vectorizer__use_idf': True}\n",
      "Best F1-Score: 0.9903256797752122\n",
      "\n",
      "Vectorzier: TfidfVectorizer, Classifier: RandomForestClassifier\n",
      "Best Hyperparameters: {'clf__max_depth': None, 'clf__n_estimators': 200, 'vectorizer__max_df': 1.0, 'vectorizer__min_df': 3, 'vectorizer__ngram_range': (1, 1), 'vectorizer__use_idf': True}\n",
      "Best F1-Score: 0.987720306759617\n",
      "\n"
     ]
    },
    {
     "ename": "ValueError",
     "evalue": "\nAll the 30 fits failed.\nIt is very likely that your model is misconfigured.\nYou can try to debug the error by setting error_score='raise'.\n\nBelow are more details about the failures:\n--------------------------------------------------------------------------------\n6 fits failed with the following error:\nTraceback (most recent call last):\n  File \"C:\\Users\\kiran\\Desktop\\Analysis-of-GAP-programming-practices-on-GitHub\\notebooks\\ML-GAP-Classification\\lib\\site-packages\\sklearn\\model_selection\\_validation.py\", line 732, in _fit_and_score\n    estimator.fit(X_train, y_train, **fit_params)\n  File \"C:\\Users\\kiran\\Desktop\\Analysis-of-GAP-programming-practices-on-GitHub\\notebooks\\ML-GAP-Classification\\lib\\site-packages\\sklearn\\base.py\", line 1151, in wrapper\n    return fit_method(estimator, *args, **kwargs)\n  File \"C:\\Users\\kiran\\Desktop\\Analysis-of-GAP-programming-practices-on-GitHub\\notebooks\\ML-GAP-Classification\\lib\\site-packages\\sklearn\\pipeline.py\", line 416, in fit\n    Xt = self._fit(X, y, **fit_params_steps)\n  File \"C:\\Users\\kiran\\Desktop\\Analysis-of-GAP-programming-practices-on-GitHub\\notebooks\\ML-GAP-Classification\\lib\\site-packages\\sklearn\\pipeline.py\", line 370, in _fit\n    X, fitted_transformer = fit_transform_one_cached(\n  File \"C:\\Users\\kiran\\Desktop\\Analysis-of-GAP-programming-practices-on-GitHub\\notebooks\\ML-GAP-Classification\\lib\\site-packages\\joblib\\memory.py\", line 353, in __call__\n    return self.func(*args, **kwargs)\n  File \"C:\\Users\\kiran\\Desktop\\Analysis-of-GAP-programming-practices-on-GitHub\\notebooks\\ML-GAP-Classification\\lib\\site-packages\\sklearn\\pipeline.py\", line 952, in _fit_transform_one\n    res = transformer.fit(X, y, **fit_params).transform(X)\n  File \"C:\\Users\\kiran\\AppData\\Local\\Temp\\ipykernel_27488\\923432738.py\", line 7, in fit\n    self.tokenizer.train(files=texts, special_tokens=[\"<s>\", \"<pad>\", \"</s>\", \"<unk>\"])\n  File \"C:\\Users\\kiran\\Desktop\\Analysis-of-GAP-programming-practices-on-GitHub\\notebooks\\ML-GAP-Classification\\lib\\site-packages\\tokenizers\\implementations\\byte_level_bpe.py\", line 98, in train\n    self._tokenizer.train(files, trainer=trainer)\nException: The filename, directory name, or volume label syntax is incorrect. (os error 123)\n\n--------------------------------------------------------------------------------\n24 fits failed with the following error:\nTraceback (most recent call last):\n  File \"C:\\Users\\kiran\\Desktop\\Analysis-of-GAP-programming-practices-on-GitHub\\notebooks\\ML-GAP-Classification\\lib\\site-packages\\sklearn\\model_selection\\_validation.py\", line 732, in _fit_and_score\n    estimator.fit(X_train, y_train, **fit_params)\n  File \"C:\\Users\\kiran\\Desktop\\Analysis-of-GAP-programming-practices-on-GitHub\\notebooks\\ML-GAP-Classification\\lib\\site-packages\\sklearn\\base.py\", line 1151, in wrapper\n    return fit_method(estimator, *args, **kwargs)\n  File \"C:\\Users\\kiran\\Desktop\\Analysis-of-GAP-programming-practices-on-GitHub\\notebooks\\ML-GAP-Classification\\lib\\site-packages\\sklearn\\pipeline.py\", line 416, in fit\n    Xt = self._fit(X, y, **fit_params_steps)\n  File \"C:\\Users\\kiran\\Desktop\\Analysis-of-GAP-programming-practices-on-GitHub\\notebooks\\ML-GAP-Classification\\lib\\site-packages\\sklearn\\pipeline.py\", line 370, in _fit\n    X, fitted_transformer = fit_transform_one_cached(\n  File \"C:\\Users\\kiran\\Desktop\\Analysis-of-GAP-programming-practices-on-GitHub\\notebooks\\ML-GAP-Classification\\lib\\site-packages\\joblib\\memory.py\", line 353, in __call__\n    return self.func(*args, **kwargs)\n  File \"C:\\Users\\kiran\\Desktop\\Analysis-of-GAP-programming-practices-on-GitHub\\notebooks\\ML-GAP-Classification\\lib\\site-packages\\sklearn\\pipeline.py\", line 952, in _fit_transform_one\n    res = transformer.fit(X, y, **fit_params).transform(X)\n  File \"C:\\Users\\kiran\\AppData\\Local\\Temp\\ipykernel_27488\\923432738.py\", line 7, in fit\n    self.tokenizer.train(files=texts, special_tokens=[\"<s>\", \"<pad>\", \"</s>\", \"<unk>\"])\n  File \"C:\\Users\\kiran\\Desktop\\Analysis-of-GAP-programming-practices-on-GitHub\\notebooks\\ML-GAP-Classification\\lib\\site-packages\\tokenizers\\implementations\\byte_level_bpe.py\", line 98, in train\n    self._tokenizer.train(files, trainer=trainer)\nException: The filename or extension is too long. (os error 206)\n",
     "output_type": "error",
     "traceback": [
      "\u001b[1;31m---------------------------------------------------------------------------\u001b[0m",
      "\u001b[1;31mValueError\u001b[0m                                Traceback (most recent call last)",
      "File \u001b[1;32m<timed exec>:18\u001b[0m\n",
      "File \u001b[1;32m~\\Desktop\\Analysis-of-GAP-programming-practices-on-GitHub\\notebooks\\ML-GAP-Classification\\lib\\site-packages\\sklearn\\base.py:1151\u001b[0m, in \u001b[0;36m_fit_context.<locals>.decorator.<locals>.wrapper\u001b[1;34m(estimator, *args, **kwargs)\u001b[0m\n\u001b[0;32m   1144\u001b[0m     estimator\u001b[38;5;241m.\u001b[39m_validate_params()\n\u001b[0;32m   1146\u001b[0m \u001b[38;5;28;01mwith\u001b[39;00m config_context(\n\u001b[0;32m   1147\u001b[0m     skip_parameter_validation\u001b[38;5;241m=\u001b[39m(\n\u001b[0;32m   1148\u001b[0m         prefer_skip_nested_validation \u001b[38;5;129;01mor\u001b[39;00m global_skip_validation\n\u001b[0;32m   1149\u001b[0m     )\n\u001b[0;32m   1150\u001b[0m ):\n\u001b[1;32m-> 1151\u001b[0m     \u001b[38;5;28;01mreturn\u001b[39;00m fit_method(estimator, \u001b[38;5;241m*\u001b[39margs, \u001b[38;5;241m*\u001b[39m\u001b[38;5;241m*\u001b[39mkwargs)\n",
      "File \u001b[1;32m~\\Desktop\\Analysis-of-GAP-programming-practices-on-GitHub\\notebooks\\ML-GAP-Classification\\lib\\site-packages\\sklearn\\model_selection\\_search.py:898\u001b[0m, in \u001b[0;36mBaseSearchCV.fit\u001b[1;34m(self, X, y, groups, **fit_params)\u001b[0m\n\u001b[0;32m    892\u001b[0m     results \u001b[38;5;241m=\u001b[39m \u001b[38;5;28mself\u001b[39m\u001b[38;5;241m.\u001b[39m_format_results(\n\u001b[0;32m    893\u001b[0m         all_candidate_params, n_splits, all_out, all_more_results\n\u001b[0;32m    894\u001b[0m     )\n\u001b[0;32m    896\u001b[0m     \u001b[38;5;28;01mreturn\u001b[39;00m results\n\u001b[1;32m--> 898\u001b[0m \u001b[38;5;28;43mself\u001b[39;49m\u001b[38;5;241;43m.\u001b[39;49m\u001b[43m_run_search\u001b[49m\u001b[43m(\u001b[49m\u001b[43mevaluate_candidates\u001b[49m\u001b[43m)\u001b[49m\n\u001b[0;32m    900\u001b[0m \u001b[38;5;66;03m# multimetric is determined here because in the case of a callable\u001b[39;00m\n\u001b[0;32m    901\u001b[0m \u001b[38;5;66;03m# self.scoring the return type is only known after calling\u001b[39;00m\n\u001b[0;32m    902\u001b[0m first_test_score \u001b[38;5;241m=\u001b[39m all_out[\u001b[38;5;241m0\u001b[39m][\u001b[38;5;124m\"\u001b[39m\u001b[38;5;124mtest_scores\u001b[39m\u001b[38;5;124m\"\u001b[39m]\n",
      "File \u001b[1;32m~\\Desktop\\Analysis-of-GAP-programming-practices-on-GitHub\\notebooks\\ML-GAP-Classification\\lib\\site-packages\\sklearn\\model_selection\\_search.py:1419\u001b[0m, in \u001b[0;36mGridSearchCV._run_search\u001b[1;34m(self, evaluate_candidates)\u001b[0m\n\u001b[0;32m   1417\u001b[0m \u001b[38;5;28;01mdef\u001b[39;00m \u001b[38;5;21m_run_search\u001b[39m(\u001b[38;5;28mself\u001b[39m, evaluate_candidates):\n\u001b[0;32m   1418\u001b[0m \u001b[38;5;250m    \u001b[39m\u001b[38;5;124;03m\"\"\"Search all candidates in param_grid\"\"\"\u001b[39;00m\n\u001b[1;32m-> 1419\u001b[0m     \u001b[43mevaluate_candidates\u001b[49m\u001b[43m(\u001b[49m\u001b[43mParameterGrid\u001b[49m\u001b[43m(\u001b[49m\u001b[38;5;28;43mself\u001b[39;49m\u001b[38;5;241;43m.\u001b[39;49m\u001b[43mparam_grid\u001b[49m\u001b[43m)\u001b[49m\u001b[43m)\u001b[49m\n",
      "File \u001b[1;32m~\\Desktop\\Analysis-of-GAP-programming-practices-on-GitHub\\notebooks\\ML-GAP-Classification\\lib\\site-packages\\sklearn\\model_selection\\_search.py:875\u001b[0m, in \u001b[0;36mBaseSearchCV.fit.<locals>.evaluate_candidates\u001b[1;34m(candidate_params, cv, more_results)\u001b[0m\n\u001b[0;32m    868\u001b[0m \u001b[38;5;28;01melif\u001b[39;00m \u001b[38;5;28mlen\u001b[39m(out) \u001b[38;5;241m!=\u001b[39m n_candidates \u001b[38;5;241m*\u001b[39m n_splits:\n\u001b[0;32m    869\u001b[0m     \u001b[38;5;28;01mraise\u001b[39;00m \u001b[38;5;167;01mValueError\u001b[39;00m(\n\u001b[0;32m    870\u001b[0m         \u001b[38;5;124m\"\u001b[39m\u001b[38;5;124mcv.split and cv.get_n_splits returned \u001b[39m\u001b[38;5;124m\"\u001b[39m\n\u001b[0;32m    871\u001b[0m         \u001b[38;5;124m\"\u001b[39m\u001b[38;5;124minconsistent results. Expected \u001b[39m\u001b[38;5;132;01m{}\u001b[39;00m\u001b[38;5;124m \u001b[39m\u001b[38;5;124m\"\u001b[39m\n\u001b[0;32m    872\u001b[0m         \u001b[38;5;124m\"\u001b[39m\u001b[38;5;124msplits, got \u001b[39m\u001b[38;5;132;01m{}\u001b[39;00m\u001b[38;5;124m\"\u001b[39m\u001b[38;5;241m.\u001b[39mformat(n_splits, \u001b[38;5;28mlen\u001b[39m(out) \u001b[38;5;241m/\u001b[39m\u001b[38;5;241m/\u001b[39m n_candidates)\n\u001b[0;32m    873\u001b[0m     )\n\u001b[1;32m--> 875\u001b[0m \u001b[43m_warn_or_raise_about_fit_failures\u001b[49m\u001b[43m(\u001b[49m\u001b[43mout\u001b[49m\u001b[43m,\u001b[49m\u001b[43m \u001b[49m\u001b[38;5;28;43mself\u001b[39;49m\u001b[38;5;241;43m.\u001b[39;49m\u001b[43merror_score\u001b[49m\u001b[43m)\u001b[49m\n\u001b[0;32m    877\u001b[0m \u001b[38;5;66;03m# For callable self.scoring, the return type is only know after\u001b[39;00m\n\u001b[0;32m    878\u001b[0m \u001b[38;5;66;03m# calling. If the return type is a dictionary, the error scores\u001b[39;00m\n\u001b[0;32m    879\u001b[0m \u001b[38;5;66;03m# can now be inserted with the correct key. The type checking\u001b[39;00m\n\u001b[0;32m    880\u001b[0m \u001b[38;5;66;03m# of out will be done in `_insert_error_scores`.\u001b[39;00m\n\u001b[0;32m    881\u001b[0m \u001b[38;5;28;01mif\u001b[39;00m \u001b[38;5;28mcallable\u001b[39m(\u001b[38;5;28mself\u001b[39m\u001b[38;5;241m.\u001b[39mscoring):\n",
      "File \u001b[1;32m~\\Desktop\\Analysis-of-GAP-programming-practices-on-GitHub\\notebooks\\ML-GAP-Classification\\lib\\site-packages\\sklearn\\model_selection\\_validation.py:414\u001b[0m, in \u001b[0;36m_warn_or_raise_about_fit_failures\u001b[1;34m(results, error_score)\u001b[0m\n\u001b[0;32m    407\u001b[0m \u001b[38;5;28;01mif\u001b[39;00m num_failed_fits \u001b[38;5;241m==\u001b[39m num_fits:\n\u001b[0;32m    408\u001b[0m     all_fits_failed_message \u001b[38;5;241m=\u001b[39m (\n\u001b[0;32m    409\u001b[0m         \u001b[38;5;124mf\u001b[39m\u001b[38;5;124m\"\u001b[39m\u001b[38;5;130;01m\\n\u001b[39;00m\u001b[38;5;124mAll the \u001b[39m\u001b[38;5;132;01m{\u001b[39;00mnum_fits\u001b[38;5;132;01m}\u001b[39;00m\u001b[38;5;124m fits failed.\u001b[39m\u001b[38;5;130;01m\\n\u001b[39;00m\u001b[38;5;124m\"\u001b[39m\n\u001b[0;32m    410\u001b[0m         \u001b[38;5;124m\"\u001b[39m\u001b[38;5;124mIt is very likely that your model is misconfigured.\u001b[39m\u001b[38;5;130;01m\\n\u001b[39;00m\u001b[38;5;124m\"\u001b[39m\n\u001b[0;32m    411\u001b[0m         \u001b[38;5;124m\"\u001b[39m\u001b[38;5;124mYou can try to debug the error by setting error_score=\u001b[39m\u001b[38;5;124m'\u001b[39m\u001b[38;5;124mraise\u001b[39m\u001b[38;5;124m'\u001b[39m\u001b[38;5;124m.\u001b[39m\u001b[38;5;130;01m\\n\u001b[39;00m\u001b[38;5;130;01m\\n\u001b[39;00m\u001b[38;5;124m\"\u001b[39m\n\u001b[0;32m    412\u001b[0m         \u001b[38;5;124mf\u001b[39m\u001b[38;5;124m\"\u001b[39m\u001b[38;5;124mBelow are more details about the failures:\u001b[39m\u001b[38;5;130;01m\\n\u001b[39;00m\u001b[38;5;132;01m{\u001b[39;00mfit_errors_summary\u001b[38;5;132;01m}\u001b[39;00m\u001b[38;5;124m\"\u001b[39m\n\u001b[0;32m    413\u001b[0m     )\n\u001b[1;32m--> 414\u001b[0m     \u001b[38;5;28;01mraise\u001b[39;00m \u001b[38;5;167;01mValueError\u001b[39;00m(all_fits_failed_message)\n\u001b[0;32m    416\u001b[0m \u001b[38;5;28;01melse\u001b[39;00m:\n\u001b[0;32m    417\u001b[0m     some_fits_failed_message \u001b[38;5;241m=\u001b[39m (\n\u001b[0;32m    418\u001b[0m         \u001b[38;5;124mf\u001b[39m\u001b[38;5;124m\"\u001b[39m\u001b[38;5;130;01m\\n\u001b[39;00m\u001b[38;5;132;01m{\u001b[39;00mnum_failed_fits\u001b[38;5;132;01m}\u001b[39;00m\u001b[38;5;124m fits failed out of a total of \u001b[39m\u001b[38;5;132;01m{\u001b[39;00mnum_fits\u001b[38;5;132;01m}\u001b[39;00m\u001b[38;5;124m.\u001b[39m\u001b[38;5;130;01m\\n\u001b[39;00m\u001b[38;5;124m\"\u001b[39m\n\u001b[0;32m    419\u001b[0m         \u001b[38;5;124m\"\u001b[39m\u001b[38;5;124mThe score on these train-test partitions for these parameters\u001b[39m\u001b[38;5;124m\"\u001b[39m\n\u001b[1;32m   (...)\u001b[0m\n\u001b[0;32m    423\u001b[0m         \u001b[38;5;124mf\u001b[39m\u001b[38;5;124m\"\u001b[39m\u001b[38;5;124mBelow are more details about the failures:\u001b[39m\u001b[38;5;130;01m\\n\u001b[39;00m\u001b[38;5;132;01m{\u001b[39;00mfit_errors_summary\u001b[38;5;132;01m}\u001b[39;00m\u001b[38;5;124m\"\u001b[39m\n\u001b[0;32m    424\u001b[0m     )\n",
      "\u001b[1;31mValueError\u001b[0m: \nAll the 30 fits failed.\nIt is very likely that your model is misconfigured.\nYou can try to debug the error by setting error_score='raise'.\n\nBelow are more details about the failures:\n--------------------------------------------------------------------------------\n6 fits failed with the following error:\nTraceback (most recent call last):\n  File \"C:\\Users\\kiran\\Desktop\\Analysis-of-GAP-programming-practices-on-GitHub\\notebooks\\ML-GAP-Classification\\lib\\site-packages\\sklearn\\model_selection\\_validation.py\", line 732, in _fit_and_score\n    estimator.fit(X_train, y_train, **fit_params)\n  File \"C:\\Users\\kiran\\Desktop\\Analysis-of-GAP-programming-practices-on-GitHub\\notebooks\\ML-GAP-Classification\\lib\\site-packages\\sklearn\\base.py\", line 1151, in wrapper\n    return fit_method(estimator, *args, **kwargs)\n  File \"C:\\Users\\kiran\\Desktop\\Analysis-of-GAP-programming-practices-on-GitHub\\notebooks\\ML-GAP-Classification\\lib\\site-packages\\sklearn\\pipeline.py\", line 416, in fit\n    Xt = self._fit(X, y, **fit_params_steps)\n  File \"C:\\Users\\kiran\\Desktop\\Analysis-of-GAP-programming-practices-on-GitHub\\notebooks\\ML-GAP-Classification\\lib\\site-packages\\sklearn\\pipeline.py\", line 370, in _fit\n    X, fitted_transformer = fit_transform_one_cached(\n  File \"C:\\Users\\kiran\\Desktop\\Analysis-of-GAP-programming-practices-on-GitHub\\notebooks\\ML-GAP-Classification\\lib\\site-packages\\joblib\\memory.py\", line 353, in __call__\n    return self.func(*args, **kwargs)\n  File \"C:\\Users\\kiran\\Desktop\\Analysis-of-GAP-programming-practices-on-GitHub\\notebooks\\ML-GAP-Classification\\lib\\site-packages\\sklearn\\pipeline.py\", line 952, in _fit_transform_one\n    res = transformer.fit(X, y, **fit_params).transform(X)\n  File \"C:\\Users\\kiran\\AppData\\Local\\Temp\\ipykernel_27488\\923432738.py\", line 7, in fit\n    self.tokenizer.train(files=texts, special_tokens=[\"<s>\", \"<pad>\", \"</s>\", \"<unk>\"])\n  File \"C:\\Users\\kiran\\Desktop\\Analysis-of-GAP-programming-practices-on-GitHub\\notebooks\\ML-GAP-Classification\\lib\\site-packages\\tokenizers\\implementations\\byte_level_bpe.py\", line 98, in train\n    self._tokenizer.train(files, trainer=trainer)\nException: The filename, directory name, or volume label syntax is incorrect. (os error 123)\n\n--------------------------------------------------------------------------------\n24 fits failed with the following error:\nTraceback (most recent call last):\n  File \"C:\\Users\\kiran\\Desktop\\Analysis-of-GAP-programming-practices-on-GitHub\\notebooks\\ML-GAP-Classification\\lib\\site-packages\\sklearn\\model_selection\\_validation.py\", line 732, in _fit_and_score\n    estimator.fit(X_train, y_train, **fit_params)\n  File \"C:\\Users\\kiran\\Desktop\\Analysis-of-GAP-programming-practices-on-GitHub\\notebooks\\ML-GAP-Classification\\lib\\site-packages\\sklearn\\base.py\", line 1151, in wrapper\n    return fit_method(estimator, *args, **kwargs)\n  File \"C:\\Users\\kiran\\Desktop\\Analysis-of-GAP-programming-practices-on-GitHub\\notebooks\\ML-GAP-Classification\\lib\\site-packages\\sklearn\\pipeline.py\", line 416, in fit\n    Xt = self._fit(X, y, **fit_params_steps)\n  File \"C:\\Users\\kiran\\Desktop\\Analysis-of-GAP-programming-practices-on-GitHub\\notebooks\\ML-GAP-Classification\\lib\\site-packages\\sklearn\\pipeline.py\", line 370, in _fit\n    X, fitted_transformer = fit_transform_one_cached(\n  File \"C:\\Users\\kiran\\Desktop\\Analysis-of-GAP-programming-practices-on-GitHub\\notebooks\\ML-GAP-Classification\\lib\\site-packages\\joblib\\memory.py\", line 353, in __call__\n    return self.func(*args, **kwargs)\n  File \"C:\\Users\\kiran\\Desktop\\Analysis-of-GAP-programming-practices-on-GitHub\\notebooks\\ML-GAP-Classification\\lib\\site-packages\\sklearn\\pipeline.py\", line 952, in _fit_transform_one\n    res = transformer.fit(X, y, **fit_params).transform(X)\n  File \"C:\\Users\\kiran\\AppData\\Local\\Temp\\ipykernel_27488\\923432738.py\", line 7, in fit\n    self.tokenizer.train(files=texts, special_tokens=[\"<s>\", \"<pad>\", \"</s>\", \"<unk>\"])\n  File \"C:\\Users\\kiran\\Desktop\\Analysis-of-GAP-programming-practices-on-GitHub\\notebooks\\ML-GAP-Classification\\lib\\site-packages\\tokenizers\\implementations\\byte_level_bpe.py\", line 98, in train\n    self._tokenizer.train(files, trainer=trainer)\nException: The filename or extension is too long. (os error 206)\n"
     ]
    }
   ],
   "source": [
    "%%time\n",
    "\n",
    "from sklearn.model_selection import GridSearchCV\n",
    "from sklearn.metrics import make_scorer, f1_score\n",
    "\n",
    "best_model = None\n",
    "best_f1_score = 0\n",
    "\n",
    "for vectorizer, vectorizer_params in vectorizers:\n",
    "    for classifier, classifier_params in classifiers:\n",
    "#         for metric_name, scoring_metric in scoring.items():\n",
    "        pipeline = Pipeline([\n",
    "            ('vectorizer', vectorizer),\n",
    "            ('clf', classifier)\n",
    "        ])\n",
    "\n",
    "        param_grid = {**vectorizer_params, **classifier_params}\n",
    "\n",
    "        grid_search = GridSearchCV(pipeline, param_grid=param_grid, cv=5, scoring=make_scorer(f1_score, average='weighted'))\n",
    "        grid_search.fit(X_train, y_train)\n",
    "\n",
    "        score = grid_search.best_score_\n",
    "\n",
    "        print(f\"Vectorzier: {vectorizer.__class__.__name__}, Classifier: {classifier.__class__.__name__}\")\n",
    "        print(\"Best Hyperparameters:\", grid_search.best_params_)\n",
    "        print(\"Best F1-Score:\", score)\n",
    "        print()\n",
    "        \n",
    "\n",
    "        if score > best_f1_score:\n",
    "            best_f1_score = score\n",
    "            best_model = grid_search.best_estimator_\n"
   ]
  },
  {
   "cell_type": "code",
   "execution_count": 28,
   "id": "ec844b80",
   "metadata": {},
   "outputs": [
    {
     "data": {
      "text/html": [
       "<style>#sk-container-id-1 {color: black;}#sk-container-id-1 pre{padding: 0;}#sk-container-id-1 div.sk-toggleable {background-color: white;}#sk-container-id-1 label.sk-toggleable__label {cursor: pointer;display: block;width: 100%;margin-bottom: 0;padding: 0.3em;box-sizing: border-box;text-align: center;}#sk-container-id-1 label.sk-toggleable__label-arrow:before {content: \"▸\";float: left;margin-right: 0.25em;color: #696969;}#sk-container-id-1 label.sk-toggleable__label-arrow:hover:before {color: black;}#sk-container-id-1 div.sk-estimator:hover label.sk-toggleable__label-arrow:before {color: black;}#sk-container-id-1 div.sk-toggleable__content {max-height: 0;max-width: 0;overflow: hidden;text-align: left;background-color: #f0f8ff;}#sk-container-id-1 div.sk-toggleable__content pre {margin: 0.2em;color: black;border-radius: 0.25em;background-color: #f0f8ff;}#sk-container-id-1 input.sk-toggleable__control:checked~div.sk-toggleable__content {max-height: 200px;max-width: 100%;overflow: auto;}#sk-container-id-1 input.sk-toggleable__control:checked~label.sk-toggleable__label-arrow:before {content: \"▾\";}#sk-container-id-1 div.sk-estimator input.sk-toggleable__control:checked~label.sk-toggleable__label {background-color: #d4ebff;}#sk-container-id-1 div.sk-label input.sk-toggleable__control:checked~label.sk-toggleable__label {background-color: #d4ebff;}#sk-container-id-1 input.sk-hidden--visually {border: 0;clip: rect(1px 1px 1px 1px);clip: rect(1px, 1px, 1px, 1px);height: 1px;margin: -1px;overflow: hidden;padding: 0;position: absolute;width: 1px;}#sk-container-id-1 div.sk-estimator {font-family: monospace;background-color: #f0f8ff;border: 1px dotted black;border-radius: 0.25em;box-sizing: border-box;margin-bottom: 0.5em;}#sk-container-id-1 div.sk-estimator:hover {background-color: #d4ebff;}#sk-container-id-1 div.sk-parallel-item::after {content: \"\";width: 100%;border-bottom: 1px solid gray;flex-grow: 1;}#sk-container-id-1 div.sk-label:hover label.sk-toggleable__label {background-color: #d4ebff;}#sk-container-id-1 div.sk-serial::before {content: \"\";position: absolute;border-left: 1px solid gray;box-sizing: border-box;top: 0;bottom: 0;left: 50%;z-index: 0;}#sk-container-id-1 div.sk-serial {display: flex;flex-direction: column;align-items: center;background-color: white;padding-right: 0.2em;padding-left: 0.2em;position: relative;}#sk-container-id-1 div.sk-item {position: relative;z-index: 1;}#sk-container-id-1 div.sk-parallel {display: flex;align-items: stretch;justify-content: center;background-color: white;position: relative;}#sk-container-id-1 div.sk-item::before, #sk-container-id-1 div.sk-parallel-item::before {content: \"\";position: absolute;border-left: 1px solid gray;box-sizing: border-box;top: 0;bottom: 0;left: 50%;z-index: -1;}#sk-container-id-1 div.sk-parallel-item {display: flex;flex-direction: column;z-index: 1;position: relative;background-color: white;}#sk-container-id-1 div.sk-parallel-item:first-child::after {align-self: flex-end;width: 50%;}#sk-container-id-1 div.sk-parallel-item:last-child::after {align-self: flex-start;width: 50%;}#sk-container-id-1 div.sk-parallel-item:only-child::after {width: 0;}#sk-container-id-1 div.sk-dashed-wrapped {border: 1px dashed gray;margin: 0 0.4em 0.5em 0.4em;box-sizing: border-box;padding-bottom: 0.4em;background-color: white;}#sk-container-id-1 div.sk-label label {font-family: monospace;font-weight: bold;display: inline-block;line-height: 1.2em;}#sk-container-id-1 div.sk-label-container {text-align: center;}#sk-container-id-1 div.sk-container {/* jupyter's `normalize.less` sets `[hidden] { display: none; }` but bootstrap.min.css set `[hidden] { display: none !important; }` so we also need the `!important` here to be able to override the default hidden behavior on the sphinx rendered scikit-learn.org. See: https://github.com/scikit-learn/scikit-learn/issues/21755 */display: inline-block !important;position: relative;}#sk-container-id-1 div.sk-text-repr-fallback {display: none;}</style><div id=\"sk-container-id-1\" class=\"sk-top-container\"><div class=\"sk-text-repr-fallback\"><pre>Pipeline(steps=[(&#x27;vectorizer&#x27;, CountVectorizer(max_features=1000)),\n",
       "                (&#x27;clf&#x27;, RandomForestClassifier())])</pre><b>In a Jupyter environment, please rerun this cell to show the HTML representation or trust the notebook. <br />On GitHub, the HTML representation is unable to render, please try loading this page with nbviewer.org.</b></div><div class=\"sk-container\" hidden><div class=\"sk-item sk-dashed-wrapped\"><div class=\"sk-label-container\"><div class=\"sk-label sk-toggleable\"><input class=\"sk-toggleable__control sk-hidden--visually\" id=\"sk-estimator-id-1\" type=\"checkbox\" ><label for=\"sk-estimator-id-1\" class=\"sk-toggleable__label sk-toggleable__label-arrow\">Pipeline</label><div class=\"sk-toggleable__content\"><pre>Pipeline(steps=[(&#x27;vectorizer&#x27;, CountVectorizer(max_features=1000)),\n",
       "                (&#x27;clf&#x27;, RandomForestClassifier())])</pre></div></div></div><div class=\"sk-serial\"><div class=\"sk-item\"><div class=\"sk-estimator sk-toggleable\"><input class=\"sk-toggleable__control sk-hidden--visually\" id=\"sk-estimator-id-2\" type=\"checkbox\" ><label for=\"sk-estimator-id-2\" class=\"sk-toggleable__label sk-toggleable__label-arrow\">CountVectorizer</label><div class=\"sk-toggleable__content\"><pre>CountVectorizer(max_features=1000)</pre></div></div></div><div class=\"sk-item\"><div class=\"sk-estimator sk-toggleable\"><input class=\"sk-toggleable__control sk-hidden--visually\" id=\"sk-estimator-id-3\" type=\"checkbox\" ><label for=\"sk-estimator-id-3\" class=\"sk-toggleable__label sk-toggleable__label-arrow\">RandomForestClassifier</label><div class=\"sk-toggleable__content\"><pre>RandomForestClassifier()</pre></div></div></div></div></div></div></div>"
      ],
      "text/plain": [
       "Pipeline(steps=[('vectorizer', CountVectorizer(max_features=1000)),\n",
       "                ('clf', RandomForestClassifier())])"
      ]
     },
     "execution_count": 28,
     "metadata": {},
     "output_type": "execute_result"
    }
   ],
   "source": [
    "best_model"
   ]
  },
  {
   "cell_type": "markdown",
   "id": "b8a957d3",
   "metadata": {},
   "source": [
    "# Cross-Validation"
   ]
  },
  {
   "cell_type": "code",
   "execution_count": 29,
   "id": "99e6fefe",
   "metadata": {},
   "outputs": [],
   "source": [
    "# from sklearn.model_selection import cross_val_score\n",
    "\n",
    "# # Specify the number of folds\n",
    "# num_folds = 5\n",
    "\n",
    "# accuracy_scores = cross_val_score(best_model, X, y, cv=num_folds, scoring='accuracy')\n",
    "# print(np.mean(accuracy_scores))"
   ]
  },
  {
   "cell_type": "markdown",
   "id": "696e072f",
   "metadata": {},
   "source": [
    "# Evaluate the model"
   ]
  },
  {
   "cell_type": "markdown",
   "id": "97f14aee",
   "metadata": {},
   "source": [
    "### Prection on test data"
   ]
  },
  {
   "cell_type": "code",
   "execution_count": 30,
   "id": "dbc4d137",
   "metadata": {},
   "outputs": [],
   "source": [
    "y_pred = best_model.predict(X_test)"
   ]
  },
  {
   "cell_type": "markdown",
   "id": "4a50698c",
   "metadata": {},
   "source": [
    "### Step 1: Accuracy"
   ]
  },
  {
   "cell_type": "code",
   "execution_count": 31,
   "id": "9d27a78a",
   "metadata": {},
   "outputs": [
    {
     "name": "stdout",
     "output_type": "stream",
     "text": [
      "0.991701244813278\n"
     ]
    }
   ],
   "source": [
    "from sklearn.metrics import accuracy_score\n",
    "accuracy = accuracy_score(y_test, y_pred)\n",
    "print(accuracy)"
   ]
  },
  {
   "cell_type": "markdown",
   "id": "458a5e81",
   "metadata": {},
   "source": [
    "### Step 2: Precision"
   ]
  },
  {
   "cell_type": "code",
   "execution_count": 32,
   "id": "202a456b",
   "metadata": {},
   "outputs": [
    {
     "name": "stdout",
     "output_type": "stream",
     "text": [
      "0.9917703903453902\n"
     ]
    }
   ],
   "source": [
    "from sklearn.metrics import precision_score\n",
    "precision = precision_score(y_test, y_pred, average='weighted')\n",
    "print(precision)"
   ]
  },
  {
   "cell_type": "markdown",
   "id": "76dd2905",
   "metadata": {},
   "source": [
    "### Step 3: Recall"
   ]
  },
  {
   "cell_type": "code",
   "execution_count": 33,
   "id": "fa9e967f",
   "metadata": {},
   "outputs": [
    {
     "name": "stdout",
     "output_type": "stream",
     "text": [
      "0.991701244813278\n"
     ]
    }
   ],
   "source": [
    "from sklearn.metrics import recall_score\n",
    "recall = recall_score(y_test, y_pred, average='weighted')\n",
    "print(recall)"
   ]
  },
  {
   "cell_type": "markdown",
   "id": "77d094ac",
   "metadata": {},
   "source": [
    "### Step 4: F1-score"
   ]
  },
  {
   "cell_type": "code",
   "execution_count": 34,
   "id": "8b0457a9",
   "metadata": {},
   "outputs": [
    {
     "name": "stdout",
     "output_type": "stream",
     "text": [
      "0.9917153924780605\n"
     ]
    }
   ],
   "source": [
    "from sklearn.metrics import f1_score\n",
    "f1 = f1_score(y_test, y_pred, average='weighted')\n",
    "print(f1)"
   ]
  },
  {
   "cell_type": "markdown",
   "id": "c9fe75ad",
   "metadata": {},
   "source": [
    "### Step 5: Classfication Report (Summary of steps 1-4)"
   ]
  },
  {
   "cell_type": "code",
   "execution_count": 35,
   "id": "20ec092b",
   "metadata": {},
   "outputs": [
    {
     "name": "stdout",
     "output_type": "stream",
     "text": [
      "              precision    recall  f1-score   support\n",
      "\n",
      "         GAP       0.98      0.99      0.98       221\n",
      "          GO       1.00      0.99      0.99       228\n",
      "        JAVA       1.00      0.99      1.00       216\n",
      "  JAVASCRIPT       1.00      0.99      0.99       202\n",
      "         PHP       0.99      1.00      1.00       196\n",
      "      PYTHON       0.98      0.99      0.98       211\n",
      "        RUBY       1.00      1.00      1.00       204\n",
      "  TYPESCRIPT       0.99      1.00      0.99       209\n",
      "\n",
      "    accuracy                           0.99      1687\n",
      "   macro avg       0.99      0.99      0.99      1687\n",
      "weighted avg       0.99      0.99      0.99      1687\n",
      "\n"
     ]
    }
   ],
   "source": [
    "from sklearn.metrics import classification_report\n",
    "report = classification_report(y_test, y_pred)\n",
    "print(report)"
   ]
  },
  {
   "cell_type": "markdown",
   "id": "ae1addc4",
   "metadata": {},
   "source": [
    "### Step 6: Confusion Matrix"
   ]
  },
  {
   "cell_type": "code",
   "execution_count": 36,
   "id": "ef43636b",
   "metadata": {},
   "outputs": [],
   "source": [
    "from sklearn.metrics import confusion_matrix, ConfusionMatrixDisplay\n",
    "cm = confusion_matrix(y_test, y_pred)"
   ]
  },
  {
   "cell_type": "markdown",
   "id": "682a00a5",
   "metadata": {},
   "source": [
    "#### Plot Confusion Matrix"
   ]
  },
  {
   "cell_type": "code",
   "execution_count": 37,
   "id": "e6fa3c96",
   "metadata": {},
   "outputs": [
    {
     "data": {
      "image/png": "[encoded data removed]",
      "text/plain": [
       "<Figure size 640x480 with 2 Axes>"
      ]
     },
     "metadata": {},
     "output_type": "display_data"
    }
   ],
   "source": [
    "disp = ConfusionMatrixDisplay(confusion_matrix=cm, display_labels=np.unique(y_test))\n",
    "disp.plot(cmap='Blues', values_format='.0f')\n",
    "plt.title('Confusion Matrix')\n",
    "plt.xticks(rotation=60)\n",
    "plt.show()"
   ]
  },
  {
   "cell_type": "markdown",
   "id": "a2044739",
   "metadata": {},
   "source": [
    "### Step 7: ROC-Curve (Can be used if the labels become:- \"GAP\" & \"Others\")"
   ]
  },
  {
   "cell_type": "code",
   "execution_count": 38,
   "id": "c1d5d6f6",
   "metadata": {},
   "outputs": [],
   "source": [
    "# from sklearn.metrics import roc_curve, roc_auc_score\n",
    "\n",
    "# # Compute ROC curve and AUC\n",
    "# fpr, tpr, thresholds = roc_curve(y_test, y_pred)\n",
    "# auc = roc_auc_score(y_test, y_pred)"
   ]
  },
  {
   "cell_type": "markdown",
   "id": "f330c792",
   "metadata": {},
   "source": [
    "#### Plot ROC curve"
   ]
  },
  {
   "cell_type": "code",
   "execution_count": 39,
   "id": "fb819058",
   "metadata": {},
   "outputs": [],
   "source": [
    "# plt.figure(figsize=(8, 6))\n",
    "# plt.plot(fpr, tpr, label=f'AUC = {auc:.2f}', color='b')\n",
    "# plt.plot([0, 1], [0, 1], 'k--', color='gray', lw=2)\n",
    "# plt.xlabel('False Positive Rate')\n",
    "# plt.ylabel('True Positive Rate')\n",
    "# plt.title('ROC Curve')\n",
    "# plt.legend(loc='lower right')\n",
    "# plt.grid(True)\n",
    "# plt.show()"
   ]
  },
  {
   "cell_type": "markdown",
   "id": "c879a1e0",
   "metadata": {},
   "source": [
    "# Save the model"
   ]
  },
  {
   "cell_type": "code",
   "execution_count": 40,
   "id": "945765e4",
   "metadata": {},
   "outputs": [
    {
     "name": "stdout",
     "output_type": "stream",
     "text": [
      "C:\\Users\\kiran\\Desktop\\Analysis-of-GAP-programming-practices-on-GitHub\\notebooks\n",
      "C:\\Users\\kiran\\Desktop\\Analysis-of-GAP-programming-practices-on-GitHub\n"
     ]
    }
   ],
   "source": [
    "import os\n",
    "\n",
    "print(os.getcwd())\n",
    "print(os.path.dirname(os.getcwd()))"
   ]
  },
  {
   "cell_type": "code",
   "execution_count": 44,
   "id": "d5cc51bb",
   "metadata": {},
   "outputs": [],
   "source": [
    "import pickle\n",
    "\n",
    "# Full pipeline with preprocessing and classifier\n",
    "full_pipeline = Pipeline([\n",
    "    ('pipeline_preprocessing', pipeline_preprocessing),\n",
    "    ('classifier_and_vectorizer', best_model)\n",
    "])\n",
    "\n",
    "# Save the full_pipeline object\n",
    "clf_folder_path = os.path.join(os.path.dirname(os.getcwd()), \"model\")\n",
    "os.makedirs(clf_folder_path, exist_ok=True)\n",
    "clf_file_path = os.path.join(clf_folder_path, 'classifier2.pkl')\n",
    "\n",
    "with open(clf_file_path, 'wb') as f:\n",
    "    pickle.dump(full_pipeline, f)\n"
   ]
  },
  {
   "cell_type": "markdown",
   "id": "3422b214",
   "metadata": {},
   "source": [
    "# Load the saved model and see whether working or not"
   ]
  },
  {
   "cell_type": "code",
   "execution_count": 45,
   "id": "b3c00c62",
   "metadata": {},
   "outputs": [],
   "source": [
    "import joblib\n",
    "\n",
    "# Load the saved pipeline\n",
    "clf_folder_path = os.path.join(os.path.dirname(os.getcwd()), \"model\")\n",
    "clf_file_path = os.path.join(clf_folder_path, 'classifier2.pkl')\n",
    "loaded_pipeline = joblib.load(clf_file_path)\n",
    "\n",
    "# Use the loaded pipeline for predictions or other operations\n",
    "predictions = loaded_pipeline.predict(['https://raw.githubusercontent.com/opencv/opencv/3aeaa3402389fc55e53fbc6f5741ca29f51032ee/modules/core/misc/java/src/java/core%2BMat.java'])"
   ]
  },
  {
   "cell_type": "markdown",
   "id": "94bb7a6e",
   "metadata": {},
   "source": [
    "# Prediction"
   ]
  },
  {
   "cell_type": "code",
   "execution_count": 46,
   "id": "ff2f550a",
   "metadata": {},
   "outputs": [
    {
     "data": {
      "text/plain": [
       "array(['JAVA'], dtype=object)"
      ]
     },
     "execution_count": 46,
     "metadata": {},
     "output_type": "execute_result"
    }
   ],
   "source": [
    "predictions"
   ]
  },
  {
   "cell_type": "code",
   "execution_count": null,
   "id": "c6fa8a1b",
   "metadata": {},
   "outputs": [],
   "source": []
  }
 ],
 "metadata": {
  "kernelspec": {
   "display_name": "ML-GAP-Classification",
   "language": "python",
   "name": "ml-gap-classification"
  },
  "language_info": {
   "codemirror_mode": {
    "name": "ipython",
    "version": 3
   },
   "file_extension": ".py",
   "mimetype": "text/x-python",
   "name": "python",
   "nbconvert_exporter": "python",
   "pygments_lexer": "ipython3",
   "version": "3.10.4"
  }
 },
 "nbformat": 4,
 "nbformat_minor": 5
}
