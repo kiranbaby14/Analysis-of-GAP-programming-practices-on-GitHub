{
 "cells": [
  {
   "cell_type": "code",
   "execution_count": 1,
   "id": "ac66e6c2",
   "metadata": {},
   "outputs": [],
   "source": [
    "# import necesstray modules\n",
    "import pandas as pd\n",
    "import numpy as np\n",
    "import matplotlib.pyplot as plt\n",
    "import requests"
   ]
  },
  {
   "cell_type": "code",
   "execution_count": 2,
   "id": "a6f8fc78",
   "metadata": {},
   "outputs": [],
   "source": [
    "df = pd.read_csv(\"../data/data_files.csv\", encoding= 'unicode_escape') # read the data"
   ]
  },
  {
   "cell_type": "code",
   "execution_count": 3,
   "id": "f8218de0",
   "metadata": {},
   "outputs": [],
   "source": []
  },
  {
   "cell_type": "code",
   "execution_count": 4,
   "id": "2265f9c6",
   "metadata": {},
   "outputs": [],
   "source": [
    "import re\n",
    "from nltk.corpus import stopwords\n",
    "from sklearn.base import BaseEstimator, TransformerMixin\n",
    "import chardet # an ML model, It uses machine learning to detect the encoding of a file\n",
    "\n",
    "# Custom transformer for case-folding\n",
    "class CaseFoldingTransformer(BaseEstimator, TransformerMixin):\n",
    "    def fit(self, X, y=None):\n",
    "        return self\n",
    "    \n",
    "    def transform(self, X):\n",
    "        return [x.lower() for x in X]\n",
    "\n",
    "# Custom transformer for stop words removal\n",
    "class StopWordsRemovalTransformer(BaseEstimator, TransformerMixin):\n",
    "    def fit(self, X, y=None):\n",
    "        return self\n",
    "    \n",
    "    def transform(self, X):\n",
    "        stop_words_list = stopwords.words('english')\n",
    "        return [' '.join([word for word in x.split() if word not in stop_words_list]) for x in X]\n",
    "    \n",
    "    # Custom transformer to remove numbers from text\n",
    "class NumberRemovalTransformer(BaseEstimator, TransformerMixin):\n",
    "    def fit(self, X, y=None):\n",
    "        return self\n",
    "\n",
    "    def transform(self, X):\n",
    "        # Remove numbers using regular expression\n",
    "        return [re.sub(r'\\d+', '', text) for text in X]\n",
    "    \n",
    "class UrlToContentTransformer(BaseEstimator, TransformerMixin):\n",
    "    def fit(self, X, y=None):\n",
    "        return self\n",
    "    \n",
    "    def transform(self, X):\n",
    "        transformed_X = []\n",
    "        for url in X:\n",
    "            response = requests.get(url)\n",
    "            content = response.content\n",
    "            encoding = chardet.detect(content)\n",
    "            if encoding['encoding'] == \"ISO-8859-1\":\n",
    "                transformed_X.append(content.decode(\"iso-8859-1\"))\n",
    "            else:\n",
    "                transformed_X.append(content.decode(\"utf-8\"))\n",
    "        return transformed_X\n",
    "\n",
    "        \n",
    "# Define the preprocessing steps\n",
    "preprocessing_steps = [\n",
    "#     ('case_folding', CaseFoldingTransformer()),\n",
    "#     ('stop_words_removal', StopWordsRemovalTransformer()),\n",
    "    ('url_to_content', UrlToContentTransformer()),\n",
    "    ('number_removal', NumberRemovalTransformer()),\n",
    "]"
   ]
  },
  {
   "cell_type": "code",
   "execution_count": 5,
   "id": "07ab4449",
   "metadata": {},
   "outputs": [],
   "source": [
    "# Bag-of-words can be implemented using \"CountVectorizer\" in sklearn\n",
    "from sklearn.feature_extraction.text import CountVectorizer"
   ]
  },
  {
   "cell_type": "code",
   "execution_count": 6,
   "id": "6346b0bb",
   "metadata": {},
   "outputs": [],
   "source": [
    "from sklearn.pipeline import Pipeline\n",
    "\n",
    "pipeline = Pipeline([\n",
    "    ('preprocessing', Pipeline(steps=preprocessing_steps)),\n",
    "    ('vectorizer', CountVectorizer(max_features=3000))\n",
    "])"
   ]
  },
  {
   "cell_type": "code",
   "execution_count": 7,
   "id": "5b12234e",
   "metadata": {},
   "outputs": [],
   "source": [
    "df['Content'] = pipeline['preprocessing'].fit_transform(df['URL'])"
   ]
  },
  {
   "cell_type": "code",
   "execution_count": 8,
   "id": "fa269b1b",
   "metadata": {},
   "outputs": [
    {
     "data": {
      "text/plain": [
       "0        #description\\n#author\\n#timelimit\\n#cmdlineops...\n",
       "1        #description\\n#author\\n#timelimit\\n#cmdlineops...\n",
       "2        #description\\n#author\\n#timelimit\\n#cmdlineops...\n",
       "3        #description\\n#author\\n#timelimit\\n#cmdlineops...\n",
       "4        #description\\n#author\\n#timelimit\\n#cmdlineops...\n",
       "                               ...                        \n",
       "21049    # frozen_string_literal: true\\n\\nrequire \"abst...\n",
       "21050    # frozen_string_literal: true\\n\\n# Order depen...\n",
       "21051    # frozen_string_literal: true\\n\\n$: << File.ex...\n",
       "21052    # frozen_string_literal: true\\n\\nif ENV[\"BUILD...\n",
       "21053    # frozen_string_literal: true\\n\\nmodule Rails\\...\n",
       "Name: Content, Length: 21054, dtype: object"
      ]
     },
     "execution_count": 8,
     "metadata": {},
     "output_type": "execute_result"
    }
   ],
   "source": [
    "df['Content']"
   ]
  },
  {
   "cell_type": "code",
   "execution_count": 9,
   "id": "1396b4fd",
   "metadata": {},
   "outputs": [],
   "source": [
    "X = df['Content']\n",
    "y = df['Name']"
   ]
  },
  {
   "cell_type": "code",
   "execution_count": 10,
   "id": "2158e1c0",
   "metadata": {},
   "outputs": [],
   "source": [
    "X_train = X\n",
    "y_train = y"
   ]
  },
  {
   "cell_type": "code",
   "execution_count": 11,
   "id": "f6a03673",
   "metadata": {},
   "outputs": [],
   "source": [
    "X_train_bow = pipeline['vectorizer'].fit_transform(X_train)"
   ]
  },
  {
   "cell_type": "code",
   "execution_count": 12,
   "id": "138b15ad",
   "metadata": {},
   "outputs": [
    {
     "data": {
      "text/plain": [
       "'compare'"
      ]
     },
     "execution_count": 12,
     "metadata": {},
     "output_type": "execute_result"
    }
   ],
   "source": [
    "pipeline['vectorizer'].get_feature_names_out()[531]"
   ]
  },
  {
   "cell_type": "code",
   "execution_count": 13,
   "id": "d44aeb22",
   "metadata": {},
   "outputs": [
    {
     "data": {
      "text/plain": [
       "3000"
      ]
     },
     "execution_count": 13,
     "metadata": {},
     "output_type": "execute_result"
    }
   ],
   "source": [
    "len( pipeline['vectorizer'].get_feature_names_out())"
   ]
  },
  {
   "cell_type": "code",
   "execution_count": 14,
   "id": "b05b78cb",
   "metadata": {},
   "outputs": [
    {
     "data": {
      "text/plain": [
       "array(['__', '__all__', '__call__', ..., 'zip', 'zip_test_utils', 'zone'],\n",
       "      dtype=object)"
      ]
     },
     "execution_count": 14,
     "metadata": {},
     "output_type": "execute_result"
    }
   ],
   "source": [
    "pipeline['vectorizer'].get_feature_names_out()"
   ]
  },
  {
   "cell_type": "code",
   "execution_count": 15,
   "id": "3cbffb5f",
   "metadata": {},
   "outputs": [],
   "source": []
  },
  {
   "cell_type": "code",
   "execution_count": 16,
   "id": "4a667648",
   "metadata": {},
   "outputs": [
    {
     "name": "stdout",
     "output_type": "stream",
     "text": [
      "C:\\Users\\kiran\\Desktop\\Analysis-of-GAP-programming-practices-on-GitHub\\notebooks\n",
      "C:\\Users\\kiran\\Desktop\\Analysis-of-GAP-programming-practices-on-GitHub\n"
     ]
    }
   ],
   "source": [
    "import os\n",
    "\n",
    "print(os.getcwd())\n",
    "print(os.path.dirname(os.getcwd()))"
   ]
  },
  {
   "cell_type": "code",
   "execution_count": 17,
   "id": "2433aace",
   "metadata": {},
   "outputs": [
    {
     "data": {
      "text/html": [
       "<style>#sk-container-id-1 {color: black;}#sk-container-id-1 pre{padding: 0;}#sk-container-id-1 div.sk-toggleable {background-color: white;}#sk-container-id-1 label.sk-toggleable__label {cursor: pointer;display: block;width: 100%;margin-bottom: 0;padding: 0.3em;box-sizing: border-box;text-align: center;}#sk-container-id-1 label.sk-toggleable__label-arrow:before {content: \"▸\";float: left;margin-right: 0.25em;color: #696969;}#sk-container-id-1 label.sk-toggleable__label-arrow:hover:before {color: black;}#sk-container-id-1 div.sk-estimator:hover label.sk-toggleable__label-arrow:before {color: black;}#sk-container-id-1 div.sk-toggleable__content {max-height: 0;max-width: 0;overflow: hidden;text-align: left;background-color: #f0f8ff;}#sk-container-id-1 div.sk-toggleable__content pre {margin: 0.2em;color: black;border-radius: 0.25em;background-color: #f0f8ff;}#sk-container-id-1 input.sk-toggleable__control:checked~div.sk-toggleable__content {max-height: 200px;max-width: 100%;overflow: auto;}#sk-container-id-1 input.sk-toggleable__control:checked~label.sk-toggleable__label-arrow:before {content: \"▾\";}#sk-container-id-1 div.sk-estimator input.sk-toggleable__control:checked~label.sk-toggleable__label {background-color: #d4ebff;}#sk-container-id-1 div.sk-label input.sk-toggleable__control:checked~label.sk-toggleable__label {background-color: #d4ebff;}#sk-container-id-1 input.sk-hidden--visually {border: 0;clip: rect(1px 1px 1px 1px);clip: rect(1px, 1px, 1px, 1px);height: 1px;margin: -1px;overflow: hidden;padding: 0;position: absolute;width: 1px;}#sk-container-id-1 div.sk-estimator {font-family: monospace;background-color: #f0f8ff;border: 1px dotted black;border-radius: 0.25em;box-sizing: border-box;margin-bottom: 0.5em;}#sk-container-id-1 div.sk-estimator:hover {background-color: #d4ebff;}#sk-container-id-1 div.sk-parallel-item::after {content: \"\";width: 100%;border-bottom: 1px solid gray;flex-grow: 1;}#sk-container-id-1 div.sk-label:hover label.sk-toggleable__label {background-color: #d4ebff;}#sk-container-id-1 div.sk-serial::before {content: \"\";position: absolute;border-left: 1px solid gray;box-sizing: border-box;top: 0;bottom: 0;left: 50%;z-index: 0;}#sk-container-id-1 div.sk-serial {display: flex;flex-direction: column;align-items: center;background-color: white;padding-right: 0.2em;padding-left: 0.2em;position: relative;}#sk-container-id-1 div.sk-item {position: relative;z-index: 1;}#sk-container-id-1 div.sk-parallel {display: flex;align-items: stretch;justify-content: center;background-color: white;position: relative;}#sk-container-id-1 div.sk-item::before, #sk-container-id-1 div.sk-parallel-item::before {content: \"\";position: absolute;border-left: 1px solid gray;box-sizing: border-box;top: 0;bottom: 0;left: 50%;z-index: -1;}#sk-container-id-1 div.sk-parallel-item {display: flex;flex-direction: column;z-index: 1;position: relative;background-color: white;}#sk-container-id-1 div.sk-parallel-item:first-child::after {align-self: flex-end;width: 50%;}#sk-container-id-1 div.sk-parallel-item:last-child::after {align-self: flex-start;width: 50%;}#sk-container-id-1 div.sk-parallel-item:only-child::after {width: 0;}#sk-container-id-1 div.sk-dashed-wrapped {border: 1px dashed gray;margin: 0 0.4em 0.5em 0.4em;box-sizing: border-box;padding-bottom: 0.4em;background-color: white;}#sk-container-id-1 div.sk-label label {font-family: monospace;font-weight: bold;display: inline-block;line-height: 1.2em;}#sk-container-id-1 div.sk-label-container {text-align: center;}#sk-container-id-1 div.sk-container {/* jupyter's `normalize.less` sets `[hidden] { display: none; }` but bootstrap.min.css set `[hidden] { display: none !important; }` so we also need the `!important` here to be able to override the default hidden behavior on the sphinx rendered scikit-learn.org. See: https://github.com/scikit-learn/scikit-learn/issues/21755 */display: inline-block !important;position: relative;}#sk-container-id-1 div.sk-text-repr-fallback {display: none;}</style><div id=\"sk-container-id-1\" class=\"sk-top-container\"><div class=\"sk-text-repr-fallback\"><pre>RandomForestClassifier()</pre><b>In a Jupyter environment, please rerun this cell to show the HTML representation or trust the notebook. <br />On GitHub, the HTML representation is unable to render, please try loading this page with nbviewer.org.</b></div><div class=\"sk-container\" hidden><div class=\"sk-item\"><div class=\"sk-estimator sk-toggleable\"><input class=\"sk-toggleable__control sk-hidden--visually\" id=\"sk-estimator-id-1\" type=\"checkbox\" checked><label for=\"sk-estimator-id-1\" class=\"sk-toggleable__label sk-toggleable__label-arrow\">RandomForestClassifier</label><div class=\"sk-toggleable__content\"><pre>RandomForestClassifier()</pre></div></div></div></div></div>"
      ],
      "text/plain": [
       "RandomForestClassifier()"
      ]
     },
     "execution_count": 17,
     "metadata": {},
     "output_type": "execute_result"
    }
   ],
   "source": [
    "from sklearn.ensemble import RandomForestClassifier\n",
    "\n",
    "clf = RandomForestClassifier()\n",
    "\n",
    "clf.fit(X_train_bow, y_train)"
   ]
  },
  {
   "cell_type": "code",
   "execution_count": 24,
   "id": "e7bb2483",
   "metadata": {},
   "outputs": [
    {
     "data": {
      "text/plain": [
       "array(['PHP'], dtype=object)"
      ]
     },
     "execution_count": 24,
     "metadata": {},
     "output_type": "execute_result"
    }
   ],
   "source": [
    "og = pipeline['preprocessing'].transform(['https://raw.githubusercontent.com/opencv/opencv/3aeaa3402389fc55e53fbc6f5741ca29f51032ee/modules/core/misc/java/src/java/core%2BMat.java'])\n",
    "clf.predict( pipeline['vectorizer'].transform(og))"
   ]
  },
  {
   "cell_type": "code",
   "execution_count": 40,
   "id": "43ef53b2",
   "metadata": {},
   "outputs": [],
   "source": [
    "import pickle\n",
    "\n",
    "# Full pipeline with preprocessing and classifier\n",
    "full_pipeline = Pipeline([\n",
    "    ('full_preprocessing', pipeline),\n",
    "    ('classifier', clf)\n",
    "])\n",
    "\n",
    "# # Save the pipeline object\n",
    "# preprocess_folder_path = os.path.join(os.path.dirname(os.getcwd()), \"model\")\n",
    "# os.makedirs(clf_folder_path, exist_ok=True)\n",
    "# clf_file_path = os.path.join(clf_folder_path, 'preprocess.pkl')\n",
    "# with open('preprocessing_pipeline.pkl', 'wb') as f:\n",
    "#     pickle.dump(pipeline, f)\n",
    "\n",
    "# Save the classifier object\n",
    "clf_folder_path = os.path.join(os.path.dirname(os.getcwd()), \"model\")\n",
    "os.makedirs(clf_folder_path, exist_ok=True)\n",
    "clf_file_path = os.path.join(clf_folder_path, 'classifier.pkl')\n",
    "\n",
    "with open(clf_file_path, 'wb') as f:\n",
    "    pickle.dump(full_pipeline, f)\n"
   ]
  },
  {
   "cell_type": "code",
   "execution_count": 42,
   "id": "f32a6026",
   "metadata": {},
   "outputs": [
    {
     "ename": "ImportError",
     "evalue": "cannot import name 'joblib' from 'sklearn.externals' (C:\\Users\\kiran\\Desktop\\Analysis-of-GAP-programming-practices-on-GitHub\\notebooks\\ML-GAP-Classification\\lib\\site-packages\\sklearn\\externals\\__init__.py)",
     "output_type": "error",
     "traceback": [
      "\u001b[1;31m---------------------------------------------------------------------------\u001b[0m",
      "\u001b[1;31mImportError\u001b[0m                               Traceback (most recent call last)",
      "Cell \u001b[1;32mIn[42], line 1\u001b[0m\n\u001b[1;32m----> 1\u001b[0m \u001b[38;5;28;01mfrom\u001b[39;00m \u001b[38;5;21;01msklearn\u001b[39;00m\u001b[38;5;21;01m.\u001b[39;00m\u001b[38;5;21;01mexternals\u001b[39;00m \u001b[38;5;28;01mimport\u001b[39;00m joblib\n\u001b[0;32m      3\u001b[0m \u001b[38;5;66;03m# Load the saved pipeline\u001b[39;00m\n\u001b[0;32m      4\u001b[0m clf_folder_path \u001b[38;5;241m=\u001b[39m os\u001b[38;5;241m.\u001b[39mpath\u001b[38;5;241m.\u001b[39mjoin(os\u001b[38;5;241m.\u001b[39mpath\u001b[38;5;241m.\u001b[39mdirname(os\u001b[38;5;241m.\u001b[39mgetcwd()), \u001b[38;5;124m\"\u001b[39m\u001b[38;5;124mmodel\u001b[39m\u001b[38;5;124m\"\u001b[39m)\n",
      "\u001b[1;31mImportError\u001b[0m: cannot import name 'joblib' from 'sklearn.externals' (C:\\Users\\kiran\\Desktop\\Analysis-of-GAP-programming-practices-on-GitHub\\notebooks\\ML-GAP-Classification\\lib\\site-packages\\sklearn\\externals\\__init__.py)"
     ]
    }
   ],
   "source": [
    "from sklearn.externals import joblib\n",
    "\n",
    "# Load the saved pipeline\n",
    "clf_folder_path = os.path.join(os.path.dirname(os.getcwd()), \"model\")\n",
    "clf_file_path = os.path.join(clf_folder_path, 'classifier.pkl')\n",
    "loaded_pipeline = joblib.load(clf_file_path)\n",
    "\n",
    "# Use the loaded pipeline for predictions or other operations\n",
    "predictions = loaded_pipeline.predict(['https://raw.githubusercontent.com/opencv/opencv/3aeaa3402389fc55e53fbc6f5741ca29f51032ee/modules/core/misc/java/src/java/core%2BMat.java'])"
   ]
  },
  {
   "cell_type": "code",
   "execution_count": null,
   "id": "3b1ccee7",
   "metadata": {},
   "outputs": [],
   "source": []
  }
 ],
 "metadata": {
  "kernelspec": {
   "display_name": "ML-GAP-Classification",
   "language": "python",
   "name": "ml-gap-classification"
  },
  "language_info": {
   "codemirror_mode": {
    "name": "ipython",
    "version": 3
   },
   "file_extension": ".py",
   "mimetype": "text/x-python",
   "name": "python",
   "nbconvert_exporter": "python",
   "pygments_lexer": "ipython3",
   "version": "3.10.4"
  }
 },
 "nbformat": 4,
 "nbformat_minor": 5
}
