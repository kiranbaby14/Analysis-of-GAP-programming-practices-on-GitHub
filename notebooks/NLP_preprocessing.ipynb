{
 "cells": [
  {
   "cell_type": "code",
   "execution_count": 2,
   "id": "93b39f8d",
   "metadata": {},
   "outputs": [],
   "source": [
    "# import necessary modules\n",
    "import pandas as pd\n",
    "import numpy as np\n",
    "import matplotlib.pyplot as plt\n",
    "import requests"
   ]
  },
  {
   "cell_type": "code",
   "execution_count": 3,
   "id": "baec6ac3",
   "metadata": {},
   "outputs": [],
   "source": [
    "df = pd.read_csv(\"../data/data_files.csv\", encoding= 'unicode_escape') # read the data"
   ]
  },
  {
   "cell_type": "markdown",
   "id": "644fdf21",
   "metadata": {},
   "source": [
    "# Exploratory Data Analysis (EDA)"
   ]
  },
  {
   "cell_type": "markdown",
   "id": "f1fc1704",
   "metadata": {},
   "source": [
    "### Step 1: Let' s take a look at the data"
   ]
  },
  {
   "cell_type": "code",
   "execution_count": 4,
   "id": "08b597f8",
   "metadata": {},
   "outputs": [
    {
     "data": {
      "text/html": [
       "<div>\n",
       "<style scoped>\n",
       "    .dataframe tbody tr th:only-of-type {\n",
       "        vertical-align: middle;\n",
       "    }\n",
       "\n",
       "    .dataframe tbody tr th {\n",
       "        vertical-align: top;\n",
       "    }\n",
       "\n",
       "    .dataframe thead th {\n",
       "        text-align: right;\n",
       "    }\n",
       "</style>\n",
       "<table border=\"1\" class=\"dataframe\">\n",
       "  <thead>\n",
       "    <tr style=\"text-align: right;\">\n",
       "      <th></th>\n",
       "      <th>Name</th>\n",
       "      <th>URL</th>\n",
       "    </tr>\n",
       "  </thead>\n",
       "  <tbody>\n",
       "    <tr>\n",
       "      <th>11996</th>\n",
       "      <td>JAVA</td>\n",
       "      <td>https://raw.githubusercontent.com/spring-proje...</td>\n",
       "    </tr>\n",
       "    <tr>\n",
       "      <th>6703</th>\n",
       "      <td>PYTHON</td>\n",
       "      <td>https://raw.githubusercontent.com/django/djang...</td>\n",
       "    </tr>\n",
       "    <tr>\n",
       "      <th>19575</th>\n",
       "      <td>RUBY</td>\n",
       "      <td>https://raw.githubusercontent.com/rails/rails/...</td>\n",
       "    </tr>\n",
       "    <tr>\n",
       "      <th>4503</th>\n",
       "      <td>PYTHON</td>\n",
       "      <td>https://raw.githubusercontent.com/django/djang...</td>\n",
       "    </tr>\n",
       "    <tr>\n",
       "      <th>5701</th>\n",
       "      <td>PYTHON</td>\n",
       "      <td>https://raw.githubusercontent.com/django/djang...</td>\n",
       "    </tr>\n",
       "  </tbody>\n",
       "</table>\n",
       "</div>"
      ],
      "text/plain": [
       "         Name                                                URL\n",
       "11996    JAVA  https://raw.githubusercontent.com/spring-proje...\n",
       "6703   PYTHON  https://raw.githubusercontent.com/django/djang...\n",
       "19575    RUBY  https://raw.githubusercontent.com/rails/rails/...\n",
       "4503   PYTHON  https://raw.githubusercontent.com/django/djang...\n",
       "5701   PYTHON  https://raw.githubusercontent.com/django/djang..."
      ]
     },
     "execution_count": 4,
     "metadata": {},
     "output_type": "execute_result"
    }
   ],
   "source": [
    "df.sample(5)"
   ]
  },
  {
   "cell_type": "markdown",
   "id": "7bd7c0df",
   "metadata": {},
   "source": [
    "### Step 2: Number of Unique Values in all the columns"
   ]
  },
  {
   "cell_type": "code",
   "execution_count": 5,
   "id": "72b78b89",
   "metadata": {},
   "outputs": [
    {
     "data": {
      "text/plain": [
       "Name        5\n",
       "URL     21054\n",
       "dtype: int64"
      ]
     },
     "execution_count": 5,
     "metadata": {},
     "output_type": "execute_result"
    }
   ],
   "source": [
    "df.nunique()"
   ]
  },
  {
   "cell_type": "markdown",
   "id": "918ff59c",
   "metadata": {},
   "source": [
    "### Step 3: Unique Values in 'Name Column' (Going to be made the target variable)"
   ]
  },
  {
   "cell_type": "code",
   "execution_count": 6,
   "id": "0e411e5b",
   "metadata": {},
   "outputs": [
    {
     "data": {
      "text/plain": [
       "array(['GAP', 'PYTHON', 'JAVA', 'PHP', 'RUBY'], dtype=object)"
      ]
     },
     "execution_count": 6,
     "metadata": {},
     "output_type": "execute_result"
    }
   ],
   "source": [
    "df['Name'].unique()"
   ]
  },
  {
   "cell_type": "markdown",
   "id": "f74c0f58",
   "metadata": {},
   "source": [
    "### Step 4: Duplicate Check for \"URL\" column (as this column should only have unique urls)"
   ]
  },
  {
   "cell_type": "code",
   "execution_count": 9,
   "id": "cd2024ea",
   "metadata": {},
   "outputs": [
    {
     "data": {
      "text/plain": [
       "0"
      ]
     },
     "execution_count": 9,
     "metadata": {},
     "output_type": "execute_result"
    }
   ],
   "source": [
    "df['URL'].duplicated().sum()"
   ]
  },
  {
   "cell_type": "markdown",
   "id": "6096f91a",
   "metadata": {},
   "source": [
    "### Step 5: Check the info() on the features"
   ]
  },
  {
   "cell_type": "code",
   "execution_count": 10,
   "id": "09276c09",
   "metadata": {},
   "outputs": [
    {
     "name": "stdout",
     "output_type": "stream",
     "text": [
      "<class 'pandas.core.frame.DataFrame'>\n",
      "RangeIndex: 21054 entries, 0 to 21053\n",
      "Data columns (total 2 columns):\n",
      " #   Column  Non-Null Count  Dtype \n",
      "---  ------  --------------  ----- \n",
      " 0   Name    21054 non-null  object\n",
      " 1   URL     21054 non-null  object\n",
      "dtypes: object(2)\n",
      "memory usage: 329.1+ KB\n"
     ]
    }
   ],
   "source": [
    "df.info()"
   ]
  },
  {
   "cell_type": "markdown",
   "id": "5d007ace",
   "metadata": {},
   "source": [
    "#### conclusion drawn from Step 5:\n",
    "- both columns are of type 'object'"
   ]
  },
  {
   "cell_type": "markdown",
   "id": "6ce364ac",
   "metadata": {},
   "source": [
    "### Step 6: Check Class Distribution "
   ]
  },
  {
   "cell_type": "code",
   "execution_count": 30,
   "id": "959d1594",
   "metadata": {},
   "outputs": [
    {
     "data": {
      "image/png": "[encoded data removed]",
      "text/plain": [
       "<Figure size 800x500 with 1 Axes>"
      ]
     },
     "metadata": {},
     "output_type": "display_data"
    }
   ],
   "source": [
    "# Get the counts of unique labels within a column\n",
    "label_counts = df['Name'].value_counts()\n",
    "\n",
    "plt.figure(figsize=(8, 5))\n",
    "plt.bar(label_counts.index, label_counts.values)\n",
    "plt.xlabel('Labels')\n",
    "plt.ylabel('Counts')\n",
    "# plt.xticks(rotation=90)\n",
    "plt.title('Label Distribution')\n",
    "plt.show()"
   ]
  },
  {
   "cell_type": "markdown",
   "id": "c72bcf7b",
   "metadata": {},
   "source": [
    "# Custom Transformer classes (So that sklearn's pipeline can be used)"
   ]
  },
  {
   "cell_type": "code",
   "execution_count": 31,
   "id": "4894f10f",
   "metadata": {},
   "outputs": [],
   "source": [
    "import re\n",
    "from nltk.corpus import stopwords\n",
    "from sklearn.base import BaseEstimator, TransformerMixin\n",
    "import chardet # an ML model, It uses machine learning to detect the encoding of a file\n",
    "\n",
    "# Custom transformer for case-folding\n",
    "class CaseFoldingTransformer(BaseEstimator, TransformerMixin):\n",
    "    def fit(self, X, y=None):\n",
    "        return self\n",
    "    \n",
    "    def transform(self, X):\n",
    "        return [x.lower() for x in X]\n",
    "\n",
    "# Custom transformer for stop words removal\n",
    "class StopWordsRemovalTransformer(BaseEstimator, TransformerMixin):\n",
    "    def fit(self, X, y=None):\n",
    "        return self\n",
    "    \n",
    "    def transform(self, X):\n",
    "        stop_words_list = stopwords.words('english')\n",
    "        return [' '.join([word for word in x.split() if word not in stop_words_list]) for x in X]\n",
    "    \n",
    "    # Custom transformer to remove numbers from text\n",
    "class NumberRemovalTransformer(BaseEstimator, TransformerMixin):\n",
    "    def fit(self, X, y=None):\n",
    "        return self\n",
    "\n",
    "    def transform(self, X):\n",
    "        # Remove numbers using regular expression\n",
    "        return [re.sub(r'\\d+', '', text) for text in X]\n",
    "    \n",
    "class UrlToContentTransformer(BaseEstimator, TransformerMixin):\n",
    "    def fit(self, X, y=None):\n",
    "        return self\n",
    "    \n",
    "    def transform(self, X):\n",
    "        transformed_X = []\n",
    "        for url in X:\n",
    "            response = requests.get(url)\n",
    "            content = response.content\n",
    "            encoding = chardet.detect(content)\n",
    "            if encoding['encoding'] == \"ISO-8859-1\":\n",
    "                transformed_X.append(content.decode(\"iso-8859-1\"))\n",
    "            else:\n",
    "                transformed_X.append(content.decode(\"utf-8\"))\n",
    "        return transformed_X\n",
    "\n",
    "        \n",
    "# Define the preprocessing steps\n",
    "preprocessing_steps = [\n",
    "#     ('case_folding', CaseFoldingTransformer()),\n",
    "#     ('stop_words_removal', StopWordsRemovalTransformer()),\n",
    "    ('url_to_content', UrlToContentTransformer()),\n",
    "    ('number_removal', NumberRemovalTransformer()),\n",
    "]"
   ]
  },
  {
   "cell_type": "markdown",
   "id": "0688cba4",
   "metadata": {},
   "source": [
    "# Bag-of-Words (NLP technique)"
   ]
  },
  {
   "cell_type": "code",
   "execution_count": 32,
   "id": "73685b96",
   "metadata": {},
   "outputs": [],
   "source": [
    "# Bag-of-words can be implemented using \"CountVectorizer\" in sklearn\n",
    "from sklearn.feature_extraction.text import CountVectorizer"
   ]
  },
  {
   "cell_type": "markdown",
   "id": "b0309688",
   "metadata": {},
   "source": [
    "# Make a preprocessing Pipeline"
   ]
  },
  {
   "cell_type": "code",
   "execution_count": 33,
   "id": "dc37c551",
   "metadata": {},
   "outputs": [],
   "source": [
    "from sklearn.pipeline import Pipeline\n",
    "\n",
    "pipeline = Pipeline([\n",
    "    ('preprocessing', Pipeline(steps=preprocessing_steps)),\n",
    "    ('vectorizer', CountVectorizer(max_features=3000))\n",
    "])"
   ]
  },
  {
   "cell_type": "markdown",
   "id": "e6de3ea3",
   "metadata": {},
   "source": [
    "### Apply the preprocessing pipeline to the dataset"
   ]
  },
  {
   "cell_type": "code",
   "execution_count": null,
   "id": "97ba8b75",
   "metadata": {},
   "outputs": [],
   "source": [
    "df['Content'] = pipeline['preprocessing'].fit_transform(df['URL'])"
   ]
  },
  {
   "cell_type": "markdown",
   "id": "bf53dff0",
   "metadata": {},
   "source": [
    "### Visualise the datset after the preprocessing pipeline"
   ]
  },
  {
   "cell_type": "code",
   "execution_count": null,
   "id": "b484c974",
   "metadata": {},
   "outputs": [],
   "source": [
    "df['Content']"
   ]
  },
  {
   "cell_type": "markdown",
   "id": "b586b41b",
   "metadata": {},
   "source": [
    "# Split the dataset into Independent and target variables"
   ]
  },
  {
   "cell_type": "code",
   "execution_count": null,
   "id": "bc43341c",
   "metadata": {},
   "outputs": [],
   "source": [
    "X = df['Content']\n",
    "y = df['Name']"
   ]
  },
  {
   "cell_type": "markdown",
   "id": "9163a22e",
   "metadata": {},
   "source": [
    "### Better naming convention"
   ]
  },
  {
   "cell_type": "code",
   "execution_count": null,
   "id": "3ad456ee",
   "metadata": {},
   "outputs": [],
   "source": [
    "X_train = X\n",
    "y_train = y"
   ]
  },
  {
   "cell_type": "markdown",
   "id": "4a44058a",
   "metadata": {},
   "source": [
    "# Apply the Bag-of-Words"
   ]
  },
  {
   "cell_type": "code",
   "execution_count": null,
   "id": "d6cfd6e0",
   "metadata": {},
   "outputs": [],
   "source": [
    "X_train_bow = pipeline['vectorizer'].fit_transform(X_train)"
   ]
  },
  {
   "cell_type": "markdown",
   "id": "0ba12e30",
   "metadata": {},
   "source": [
    "#### check the length of the feature vectors"
   ]
  },
  {
   "cell_type": "code",
   "execution_count": null,
   "id": "23467242",
   "metadata": {},
   "outputs": [],
   "source": [
    "len( pipeline['vectorizer'].get_feature_names_out()) "
   ]
  },
  {
   "cell_type": "markdown",
   "id": "a3f20cc1",
   "metadata": {},
   "source": [
    "#### Display the feature vectors"
   ]
  },
  {
   "cell_type": "code",
   "execution_count": null,
   "id": "65af9e22",
   "metadata": {},
   "outputs": [],
   "source": [
    "pipeline['vectorizer'].get_feature_names_out()"
   ]
  },
  {
   "cell_type": "markdown",
   "id": "ad48cef4",
   "metadata": {},
   "source": [
    "# Train the classifier"
   ]
  },
  {
   "cell_type": "code",
   "execution_count": null,
   "id": "26af095e",
   "metadata": {},
   "outputs": [],
   "source": [
    "from sklearn.ensemble import RandomForestClassifier\n",
    "\n",
    "clf = RandomForestClassifier()\n",
    "\n",
    "clf.fit(X_train_bow, y_train)"
   ]
  },
  {
   "cell_type": "code",
   "execution_count": null,
   "id": "13dbca74",
   "metadata": {},
   "outputs": [],
   "source": [
    "import os\n",
    "\n",
    "print(os.getcwd())\n",
    "print(os.path.dirname(os.getcwd()))"
   ]
  },
  {
   "cell_type": "markdown",
   "id": "c879a1e0",
   "metadata": {},
   "source": [
    "# Save the model"
   ]
  },
  {
   "cell_type": "code",
   "execution_count": null,
   "id": "d5cc51bb",
   "metadata": {},
   "outputs": [],
   "source": [
    "import pickle\n",
    "\n",
    "# Full pipeline with preprocessing and classifier\n",
    "full_pipeline = Pipeline([\n",
    "    ('full_preprocessing', pipeline),\n",
    "    ('classifier', clf)\n",
    "])\n",
    "\n",
    "# Save the full_pipeline object\n",
    "clf_folder_path = os.path.join(os.path.dirname(os.getcwd()), \"model\")\n",
    "os.makedirs(clf_folder_path, exist_ok=True)\n",
    "clf_file_path = os.path.join(clf_folder_path, 'classifier.pkl')\n",
    "\n",
    "with open(clf_file_path, 'wb') as f:\n",
    "    pickle.dump(full_pipeline, f)\n"
   ]
  },
  {
   "cell_type": "markdown",
   "id": "3422b214",
   "metadata": {},
   "source": [
    "# Load the saved model and see whther working or not"
   ]
  },
  {
   "cell_type": "code",
   "execution_count": null,
   "id": "b3c00c62",
   "metadata": {},
   "outputs": [],
   "source": [
    "import joblib\n",
    "\n",
    "# Load the saved pipeline\n",
    "clf_folder_path = os.path.join(os.path.dirname(os.getcwd()), \"model\")\n",
    "clf_file_path = os.path.join(clf_folder_path, 'classifier.pkl')\n",
    "loaded_pipeline = joblib.load(clf_file_path)\n",
    "\n",
    "# Use the loaded pipeline for predictions or other operations\n",
    "predictions = loaded_pipeline.predict(['https://raw.githubusercontent.com/opencv/opencv/3aeaa3402389fc55e53fbc6f5741ca29f51032ee/modules/core/misc/java/src/java/core%2BMat.java'])"
   ]
  },
  {
   "cell_type": "code",
   "execution_count": null,
   "id": "ff2f550a",
   "metadata": {},
   "outputs": [],
   "source": [
    "predictions"
   ]
  },
  {
   "cell_type": "code",
   "execution_count": null,
   "id": "10f4da89",
   "metadata": {},
   "outputs": [],
   "source": []
  }
 ],
 "metadata": {
  "kernelspec": {
   "display_name": "ML-GAP-Classification",
   "language": "python",
   "name": "ml-gap-classification"
  },
  "language_info": {
   "codemirror_mode": {
    "name": "ipython",
    "version": 3
   },
   "file_extension": ".py",
   "mimetype": "text/x-python",
   "name": "python",
   "nbconvert_exporter": "python",
   "pygments_lexer": "ipython3",
   "version": "3.10.4"
  }
 },
 "nbformat": 4,
 "nbformat_minor": 5
}
