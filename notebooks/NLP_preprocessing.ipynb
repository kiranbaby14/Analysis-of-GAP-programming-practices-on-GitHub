{
 "cells": [
  {
   "cell_type": "code",
   "execution_count": 1,
   "id": "93b39f8d",
   "metadata": {},
   "outputs": [],
   "source": [
    "# import necessary modules\n",
    "import pandas as pd\n",
    "import numpy as np\n",
    "import matplotlib.pyplot as plt\n",
    "import requests"
   ]
  },
  {
   "cell_type": "code",
   "execution_count": 2,
   "id": "baec6ac3",
   "metadata": {},
   "outputs": [],
   "source": [
    "df = pd.read_csv(\"../data/data_files.csv\", encoding= 'unicode_escape') # read the data"
   ]
  },
  {
   "cell_type": "code",
   "execution_count": 4,
   "id": "4894f10f",
   "metadata": {},
   "outputs": [],
   "source": [
    "import re\n",
    "from nltk.corpus import stopwords\n",
    "from sklearn.base import BaseEstimator, TransformerMixin\n",
    "import chardet # an ML model, It uses machine learning to detect the encoding of a file\n",
    "\n",
    "# Custom transformer for case-folding\n",
    "class CaseFoldingTransformer(BaseEstimator, TransformerMixin):\n",
    "    def fit(self, X, y=None):\n",
    "        return self\n",
    "    \n",
    "    def transform(self, X):\n",
    "        return [x.lower() for x in X]\n",
    "\n",
    "# Custom transformer for stop words removal\n",
    "class StopWordsRemovalTransformer(BaseEstimator, TransformerMixin):\n",
    "    def fit(self, X, y=None):\n",
    "        return self\n",
    "    \n",
    "    def transform(self, X):\n",
    "        stop_words_list = stopwords.words('english')\n",
    "        return [' '.join([word for word in x.split() if word not in stop_words_list]) for x in X]\n",
    "    \n",
    "    # Custom transformer to remove numbers from text\n",
    "class NumberRemovalTransformer(BaseEstimator, TransformerMixin):\n",
    "    def fit(self, X, y=None):\n",
    "        return self\n",
    "\n",
    "    def transform(self, X):\n",
    "        # Remove numbers using regular expression\n",
    "        return [re.sub(r'\\d+', '', text) for text in X]\n",
    "    \n",
    "class UrlToContentTransformer(BaseEstimator, TransformerMixin):\n",
    "    def fit(self, X, y=None):\n",
    "        return self\n",
    "    \n",
    "    def transform(self, X):\n",
    "        transformed_X = []\n",
    "        for url in X:\n",
    "            response = requests.get(url)\n",
    "            content = response.content\n",
    "            encoding = chardet.detect(content)\n",
    "            if encoding['encoding'] == \"ISO-8859-1\":\n",
    "                transformed_X.append(content.decode(\"iso-8859-1\"))\n",
    "            else:\n",
    "                transformed_X.append(content.decode(\"utf-8\"))\n",
    "        return transformed_X\n",
    "\n",
    "        \n",
    "# Define the preprocessing steps\n",
    "preprocessing_steps = [\n",
    "#     ('case_folding', CaseFoldingTransformer()),\n",
    "#     ('stop_words_removal', StopWordsRemovalTransformer()),\n",
    "    ('url_to_content', UrlToContentTransformer()),\n",
    "    ('number_removal', NumberRemovalTransformer()),\n",
    "]"
   ]
  },
  {
   "cell_type": "code",
   "execution_count": 5,
   "id": "e3672b51",
   "metadata": {},
   "outputs": [],
   "source": [
    "# Bag-of-words can be implemented using \"CountVectorizer\" in sklearn\n",
    "from sklearn.feature_extraction.text import CountVectorizer"
   ]
  },
  {
   "cell_type": "code",
   "execution_count": 6,
   "id": "dc37c551",
   "metadata": {},
   "outputs": [],
   "source": [
    "from sklearn.pipeline import Pipeline\n",
    "\n",
    "pipeline = Pipeline([\n",
    "    ('preprocessing', Pipeline(steps=preprocessing_steps)),\n",
    "    ('vectorizer', CountVectorizer(max_features=3000))\n",
    "])"
   ]
  },
  {
   "cell_type": "code",
   "execution_count": 7,
   "id": "97ba8b75",
   "metadata": {},
   "outputs": [],
   "source": [
    "df['Content'] = pipeline['preprocessing'].fit_transform(df['URL'])"
   ]
  },
  {
   "cell_type": "code",
   "execution_count": 8,
   "id": "b484c974",
   "metadata": {},
   "outputs": [
    {
     "data": {
      "text/plain": [
       "0        #description\\n#author\\n#timelimit\\n#cmdlineops...\n",
       "1        #description\\n#author\\n#timelimit\\n#cmdlineops...\n",
       "2        #description\\n#author\\n#timelimit\\n#cmdlineops...\n",
       "3        #description\\n#author\\n#timelimit\\n#cmdlineops...\n",
       "4        #description\\n#author\\n#timelimit\\n#cmdlineops...\n",
       "                               ...                        \n",
       "21049    # frozen_string_literal: true\\n\\nrequire \"abst...\n",
       "21050    # frozen_string_literal: true\\n\\n# Order depen...\n",
       "21051    # frozen_string_literal: true\\n\\n$: << File.ex...\n",
       "21052    # frozen_string_literal: true\\n\\nif ENV[\"BUILD...\n",
       "21053    # frozen_string_literal: true\\n\\nmodule Rails\\...\n",
       "Name: Content, Length: 21054, dtype: object"
      ]
     },
     "execution_count": 8,
     "metadata": {},
     "output_type": "execute_result"
    }
   ],
   "source": [
    "df['Content']"
   ]
  },
  {
   "cell_type": "code",
   "execution_count": 9,
   "id": "bc43341c",
   "metadata": {},
   "outputs": [],
   "source": [
    "X = df['Content']\n",
    "y = df['Name']"
   ]
  },
  {
   "cell_type": "code",
   "execution_count": 10,
   "id": "3ad456ee",
   "metadata": {},
   "outputs": [],
   "source": [
    "X_train = X\n",
    "y_train = y"
   ]
  },
  {
   "cell_type": "code",
   "execution_count": 11,
   "id": "d6cfd6e0",
   "metadata": {},
   "outputs": [],
   "source": [
    "X_train_bow = pipeline['vectorizer'].fit_transform(X_train)"
   ]
  },
  {
   "cell_type": "code",
   "execution_count": 13,
   "id": "23467242",
   "metadata": {},
   "outputs": [
    {
     "data": {
      "text/plain": [
       "3000"
      ]
     },
     "execution_count": 13,
     "metadata": {},
     "output_type": "execute_result"
    }
   ],
   "source": [
    "len( pipeline['vectorizer'].get_feature_names_out())"
   ]
  },
  {
   "cell_type": "code",
   "execution_count": 14,
   "id": "65af9e22",
   "metadata": {},
   "outputs": [
    {
     "data": {
      "text/plain": [
       "array(['__', '__all__', '__call__', ..., 'zip', 'zip_test_utils', 'zone'],\n",
       "      dtype=object)"
      ]
     },
     "execution_count": 14,
     "metadata": {},
     "output_type": "execute_result"
    }
   ],
   "source": [
    "pipeline['vectorizer'].get_feature_names_out()"
   ]
  },
  {
   "cell_type": "code",
   "execution_count": 16,
   "id": "431ca530",
   "metadata": {},
   "outputs": [
    {
     "name": "stdout",
     "output_type": "stream",
     "text": [
      "C:\\Users\\kiran\\Desktop\\Analysis-of-GAP-programming-practices-on-GitHub\\notebooks\n",
      "C:\\Users\\kiran\\Desktop\\Analysis-of-GAP-programming-practices-on-GitHub\n"
     ]
    }
   ],
   "source": [
    "import os\n",
    "\n",
    "print(os.getcwd())\n",
    "print(os.path.dirname(os.getcwd()))"
   ]
  },
  {
   "cell_type": "code",
   "execution_count": 17,
   "id": "26af095e",
   "metadata": {},
   "outputs": [
    {
     "data": {
      "text/html": [
       "<style>#sk-container-id-1 {color: black;}#sk-container-id-1 pre{padding: 0;}#sk-container-id-1 div.sk-toggleable {background-color: white;}#sk-container-id-1 label.sk-toggleable__label {cursor: pointer;display: block;width: 100%;margin-bottom: 0;padding: 0.3em;box-sizing: border-box;text-align: center;}#sk-container-id-1 label.sk-toggleable__label-arrow:before {content: \"▸\";float: left;margin-right: 0.25em;color: #696969;}#sk-container-id-1 label.sk-toggleable__label-arrow:hover:before {color: black;}#sk-container-id-1 div.sk-estimator:hover label.sk-toggleable__label-arrow:before {color: black;}#sk-container-id-1 div.sk-toggleable__content {max-height: 0;max-width: 0;overflow: hidden;text-align: left;background-color: #f0f8ff;}#sk-container-id-1 div.sk-toggleable__content pre {margin: 0.2em;color: black;border-radius: 0.25em;background-color: #f0f8ff;}#sk-container-id-1 input.sk-toggleable__control:checked~div.sk-toggleable__content {max-height: 200px;max-width: 100%;overflow: auto;}#sk-container-id-1 input.sk-toggleable__control:checked~label.sk-toggleable__label-arrow:before {content: \"▾\";}#sk-container-id-1 div.sk-estimator input.sk-toggleable__control:checked~label.sk-toggleable__label {background-color: #d4ebff;}#sk-container-id-1 div.sk-label input.sk-toggleable__control:checked~label.sk-toggleable__label {background-color: #d4ebff;}#sk-container-id-1 input.sk-hidden--visually {border: 0;clip: rect(1px 1px 1px 1px);clip: rect(1px, 1px, 1px, 1px);height: 1px;margin: -1px;overflow: hidden;padding: 0;position: absolute;width: 1px;}#sk-container-id-1 div.sk-estimator {font-family: monospace;background-color: #f0f8ff;border: 1px dotted black;border-radius: 0.25em;box-sizing: border-box;margin-bottom: 0.5em;}#sk-container-id-1 div.sk-estimator:hover {background-color: #d4ebff;}#sk-container-id-1 div.sk-parallel-item::after {content: \"\";width: 100%;border-bottom: 1px solid gray;flex-grow: 1;}#sk-container-id-1 div.sk-label:hover label.sk-toggleable__label {background-color: #d4ebff;}#sk-container-id-1 div.sk-serial::before {content: \"\";position: absolute;border-left: 1px solid gray;box-sizing: border-box;top: 0;bottom: 0;left: 50%;z-index: 0;}#sk-container-id-1 div.sk-serial {display: flex;flex-direction: column;align-items: center;background-color: white;padding-right: 0.2em;padding-left: 0.2em;position: relative;}#sk-container-id-1 div.sk-item {position: relative;z-index: 1;}#sk-container-id-1 div.sk-parallel {display: flex;align-items: stretch;justify-content: center;background-color: white;position: relative;}#sk-container-id-1 div.sk-item::before, #sk-container-id-1 div.sk-parallel-item::before {content: \"\";position: absolute;border-left: 1px solid gray;box-sizing: border-box;top: 0;bottom: 0;left: 50%;z-index: -1;}#sk-container-id-1 div.sk-parallel-item {display: flex;flex-direction: column;z-index: 1;position: relative;background-color: white;}#sk-container-id-1 div.sk-parallel-item:first-child::after {align-self: flex-end;width: 50%;}#sk-container-id-1 div.sk-parallel-item:last-child::after {align-self: flex-start;width: 50%;}#sk-container-id-1 div.sk-parallel-item:only-child::after {width: 0;}#sk-container-id-1 div.sk-dashed-wrapped {border: 1px dashed gray;margin: 0 0.4em 0.5em 0.4em;box-sizing: border-box;padding-bottom: 0.4em;background-color: white;}#sk-container-id-1 div.sk-label label {font-family: monospace;font-weight: bold;display: inline-block;line-height: 1.2em;}#sk-container-id-1 div.sk-label-container {text-align: center;}#sk-container-id-1 div.sk-container {/* jupyter's `normalize.less` sets `[hidden] { display: none; }` but bootstrap.min.css set `[hidden] { display: none !important; }` so we also need the `!important` here to be able to override the default hidden behavior on the sphinx rendered scikit-learn.org. See: https://github.com/scikit-learn/scikit-learn/issues/21755 */display: inline-block !important;position: relative;}#sk-container-id-1 div.sk-text-repr-fallback {display: none;}</style><div id=\"sk-container-id-1\" class=\"sk-top-container\"><div class=\"sk-text-repr-fallback\"><pre>RandomForestClassifier()</pre><b>In a Jupyter environment, please rerun this cell to show the HTML representation or trust the notebook. <br />On GitHub, the HTML representation is unable to render, please try loading this page with nbviewer.org.</b></div><div class=\"sk-container\" hidden><div class=\"sk-item\"><div class=\"sk-estimator sk-toggleable\"><input class=\"sk-toggleable__control sk-hidden--visually\" id=\"sk-estimator-id-1\" type=\"checkbox\" checked><label for=\"sk-estimator-id-1\" class=\"sk-toggleable__label sk-toggleable__label-arrow\">RandomForestClassifier</label><div class=\"sk-toggleable__content\"><pre>RandomForestClassifier()</pre></div></div></div></div></div>"
      ],
      "text/plain": [
       "RandomForestClassifier()"
      ]
     },
     "execution_count": 17,
     "metadata": {},
     "output_type": "execute_result"
    }
   ],
   "source": [
    "from sklearn.ensemble import RandomForestClassifier\n",
    "\n",
    "clf = RandomForestClassifier()\n",
    "\n",
    "clf.fit(X_train_bow, y_train)"
   ]
  },
  {
   "cell_type": "code",
   "execution_count": 40,
   "id": "d5cc51bb",
   "metadata": {},
   "outputs": [],
   "source": [
    "import pickle\n",
    "\n",
    "# Full pipeline with preprocessing and classifier\n",
    "full_pipeline = Pipeline([\n",
    "    ('full_preprocessing', pipeline),\n",
    "    ('classifier', clf)\n",
    "])\n",
    "\n",
    "# Save the full_pipeline object\n",
    "clf_folder_path = os.path.join(os.path.dirname(os.getcwd()), \"model\")\n",
    "os.makedirs(clf_folder_path, exist_ok=True)\n",
    "clf_file_path = os.path.join(clf_folder_path, 'classifier.pkl')\n",
    "\n",
    "with open(clf_file_path, 'wb') as f:\n",
    "    pickle.dump(full_pipeline, f)\n"
   ]
  },
  {
   "cell_type": "code",
   "execution_count": 43,
   "id": "b3c00c62",
   "metadata": {},
   "outputs": [],
   "source": [
    "import joblib\n",
    "\n",
    "# Load the saved pipeline\n",
    "clf_folder_path = os.path.join(os.path.dirname(os.getcwd()), \"model\")\n",
    "clf_file_path = os.path.join(clf_folder_path, 'classifier.pkl')\n",
    "loaded_pipeline = joblib.load(clf_file_path)\n",
    "\n",
    "# Use the loaded pipeline for predictions or other operations\n",
    "predictions = loaded_pipeline.predict(['https://raw.githubusercontent.com/opencv/opencv/3aeaa3402389fc55e53fbc6f5741ca29f51032ee/modules/core/misc/java/src/java/core%2BMat.java'])"
   ]
  },
  {
   "cell_type": "code",
   "execution_count": 44,
   "id": "ff2f550a",
   "metadata": {},
   "outputs": [
    {
     "data": {
      "text/plain": [
       "array(['PHP'], dtype=object)"
      ]
     },
     "execution_count": 44,
     "metadata": {},
     "output_type": "execute_result"
    }
   ],
   "source": [
    "predictions"
   ]
  },
  {
   "cell_type": "code",
   "execution_count": null,
   "id": "10f4da89",
   "metadata": {},
   "outputs": [],
   "source": []
  }
 ],
 "metadata": {
  "kernelspec": {
   "display_name": "ML-GAP-Classification",
   "language": "python",
   "name": "ml-gap-classification"
  },
  "language_info": {
   "codemirror_mode": {
    "name": "ipython",
    "version": 3
   },
   "file_extension": ".py",
   "mimetype": "text/x-python",
   "name": "python",
   "nbconvert_exporter": "python",
   "pygments_lexer": "ipython3",
   "version": "3.10.4"
  }
 },
 "nbformat": 4,
 "nbformat_minor": 5
}
