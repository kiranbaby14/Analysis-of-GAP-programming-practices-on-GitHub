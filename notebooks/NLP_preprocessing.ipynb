{
 "cells": [
  {
   "cell_type": "code",
   "execution_count": 1,
   "id": "08de1ad2",
   "metadata": {},
   "outputs": [],
   "source": [
    "# import necesstray modules\n",
    "import pandas as pd\n",
    "import numpy as np\n",
    "import matplotlib.pyplot as plt\n",
    "import requests"
   ]
  },
  {
   "cell_type": "code",
   "execution_count": 2,
   "id": "7eecb8e3",
   "metadata": {},
   "outputs": [],
   "source": [
    "df = pd.read_csv(\"../data/data_files.csv\", encoding= 'unicode_escape') # read the data"
   ]
  },
  {
   "cell_type": "code",
   "execution_count": 3,
   "id": "7224dcb0",
   "metadata": {},
   "outputs": [],
   "source": [
    "import chardet # an ML mode, It uses machine learning to detect the encoding of a file\n",
    "\n",
    "def process_urls_and_convert_to_features(url):\n",
    "    response = requests.get(url)\n",
    "    content = response.content\n",
    "    \n",
    "    encoding = chardet.detect(content)\n",
    "    \n",
    "    if encoding['encoding'] == \"ISO-8859-1\":\n",
    "        return content.decode(\"iso-8859-1\")\n",
    "    return content.decode(\"utf-8\") # convert the byte code generated to string\n"
   ]
  },
  {
   "cell_type": "code",
   "execution_count": null,
   "id": "c0e3de25",
   "metadata": {},
   "outputs": [],
   "source": [
    "df['Content'] = df['URL'].apply(lambda x: process_urls_and_convert_to_features(x))"
   ]
  },
  {
   "cell_type": "code",
   "execution_count": null,
   "id": "d3baaa5f",
   "metadata": {},
   "outputs": [],
   "source": [
    "df"
   ]
  },
  {
   "cell_type": "code",
   "execution_count": null,
   "id": "d93a1df2",
   "metadata": {},
   "outputs": [],
   "source": [
    "X = df['Content']"
   ]
  },
  {
   "cell_type": "code",
   "execution_count": null,
   "id": "e41a2656",
   "metadata": {},
   "outputs": [],
   "source": [
    "y = df['Name']"
   ]
  },
  {
   "cell_type": "code",
   "execution_count": null,
   "id": "1dc6b155",
   "metadata": {},
   "outputs": [],
   "source": [
    "from nltk.corpus import stopwords\n",
    "from sklearn.base import BaseEstimator, TransformerMixin\n",
    "import chardet # an ML mode, It uses machine learning to detect the encoding of a file\n",
    "\n",
    "# Custom transformer for case-folding\n",
    "class CaseFoldingTransformer(BaseEstimator, TransformerMixin):\n",
    "    def fit(self, X, y=None):\n",
    "        return self\n",
    "    \n",
    "    def transform(self, X):\n",
    "        return [x.lower() for x in X]\n",
    "\n",
    "# Custom transformer for stop words removal\n",
    "class StopWordsRemovalTransformer(BaseEstimator, TransformerMixin):\n",
    "    def fit(self, X, y=None):\n",
    "        return self\n",
    "    \n",
    "    def transform(self, X):\n",
    "        stop_words_list = stopwords.words('english')\n",
    "        return [' '.join([word for word in x.split() if word not in stop_words_list]) for x in X]\n",
    "    \n",
    "        \n",
    "# Define the preprocessing steps\n",
    "preprocessing_steps = [\n",
    "    ('case_folding', CaseFoldingTransformer()),\n",
    "    ('stop_words_removal', StopWordsRemovalTransformer())\n",
    "]"
   ]
  },
  {
   "cell_type": "code",
   "execution_count": null,
   "id": "6ba9d48b",
   "metadata": {},
   "outputs": [],
   "source": [
    "# Bag-of-words can be implemented using \"CountVectorizer\" in sklearn\n",
    "from sklearn.feature_extraction.text import CountVectorizer"
   ]
  },
  {
   "cell_type": "code",
   "execution_count": null,
   "id": "cf50a594",
   "metadata": {},
   "outputs": [],
   "source": [
    "from sklearn.pipeline import Pipeline\n",
    "\n",
    "pipeline = Pipeline([\n",
    "#     ('preprocessing', Pipeline(steps=preprocessing_steps)),\n",
    "    ('vectorizer', CountVectorizer(max_features=3000))\n",
    "])"
   ]
  },
  {
   "cell_type": "code",
   "execution_count": null,
   "id": "64ab9db8",
   "metadata": {},
   "outputs": [],
   "source": [
    "X_train = X\n",
    "y_train = y"
   ]
  },
  {
   "cell_type": "code",
   "execution_count": null,
   "id": "9df4053a",
   "metadata": {},
   "outputs": [],
   "source": [
    "X_train_bow = pipeline.fit_transform(X_train)"
   ]
  },
  {
   "cell_type": "code",
   "execution_count": null,
   "id": "e43cdaa0",
   "metadata": {},
   "outputs": [],
   "source": [
    "X_train[0]"
   ]
  },
  {
   "cell_type": "code",
   "execution_count": null,
   "id": "9f2eefd3",
   "metadata": {},
   "outputs": [],
   "source": [
    "len( pipeline['vectorizer'].get_feature_names_out())"
   ]
  },
  {
   "cell_type": "code",
   "execution_count": null,
   "id": "dbc25f51",
   "metadata": {},
   "outputs": [],
   "source": [
    "pipeline['vectorizer'].get_feature_names_out()[100]"
   ]
  },
  {
   "cell_type": "code",
   "execution_count": null,
   "id": "6d431d65",
   "metadata": {},
   "outputs": [],
   "source": [
    "import pickle\n",
    "\n",
    "# Save the pipeline object\n",
    "with open('preprocessing_pipeline.pkl', 'wb') as f:\n",
    "    pickle.dump(pipeline, f)"
   ]
  },
  {
   "cell_type": "code",
   "execution_count": null,
   "id": "0628fd2d",
   "metadata": {},
   "outputs": [],
   "source": [
    "import os\n",
    "\n",
    "print(os.getcwd())\n",
    "print(os.path.dirname(os.getcwd()))"
   ]
  },
  {
   "cell_type": "code",
   "execution_count": null,
   "id": "00ba8387",
   "metadata": {},
   "outputs": [],
   "source": [
    "from sklearn.ensemble import RandomForestClassifier\n",
    "\n",
    "clf = RandomForestClassifier()\n",
    "\n",
    "clf.fit(X_train_bow, y_train)"
   ]
  },
  {
   "cell_type": "code",
   "execution_count": null,
   "id": "46c1ed59",
   "metadata": {},
   "outputs": [],
   "source": [
    "clf.predict(pipeline.transform(df['Content'][3]))"
   ]
  },
  {
   "cell_type": "code",
   "execution_count": null,
   "id": "7834ec9e",
   "metadata": {},
   "outputs": [],
   "source": [
    "df['Content'][3]"
   ]
  },
  {
   "cell_type": "code",
   "execution_count": null,
   "id": "a7393cd8",
   "metadata": {},
   "outputs": [],
   "source": [
    "y.shape"
   ]
  },
  {
   "cell_type": "code",
   "execution_count": null,
   "id": "5ce6e9f6",
   "metadata": {},
   "outputs": [],
   "source": []
  }
 ],
 "metadata": {
  "kernelspec": {
   "display_name": "ML-GAP-Classification",
   "language": "python",
   "name": "ml-gap-classification"
  },
  "language_info": {
   "codemirror_mode": {
    "name": "ipython",
    "version": 3
   },
   "file_extension": ".py",
   "mimetype": "text/x-python",
   "name": "python",
   "nbconvert_exporter": "python",
   "pygments_lexer": "ipython3",
   "version": "3.10.4"
  }
 },
 "nbformat": 4,
 "nbformat_minor": 5
}
