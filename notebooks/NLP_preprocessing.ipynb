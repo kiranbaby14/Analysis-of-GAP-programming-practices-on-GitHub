{
 "cells": [
  {
   "cell_type": "code",
   "execution_count": 1,
   "id": "93b39f8d",
   "metadata": {},
   "outputs": [],
   "source": [
    "# import necessary modules\n",
    "import pandas as pd\n",
    "import numpy as np\n",
    "import matplotlib.pyplot as plt\n",
    "import requests"
   ]
  },
  {
   "cell_type": "code",
   "execution_count": 2,
   "id": "baec6ac3",
   "metadata": {},
   "outputs": [],
   "source": [
    "df = pd.read_csv(\"../data/data_files.csv\", encoding= 'unicode_escape') # read the data"
   ]
  },
  {
   "cell_type": "markdown",
   "id": "644fdf21",
   "metadata": {},
   "source": [
    "# Exploratory Data Analysis (EDA)"
   ]
  },
  {
   "cell_type": "markdown",
   "id": "f1fc1704",
   "metadata": {},
   "source": [
    "### Step 1: Let' s take a look at the data"
   ]
  },
  {
   "cell_type": "code",
   "execution_count": 3,
   "id": "08b597f8",
   "metadata": {},
   "outputs": [
    {
     "data": {
      "text/html": [
       "<div>\n",
       "<style scoped>\n",
       "    .dataframe tbody tr th:only-of-type {\n",
       "        vertical-align: middle;\n",
       "    }\n",
       "\n",
       "    .dataframe tbody tr th {\n",
       "        vertical-align: top;\n",
       "    }\n",
       "\n",
       "    .dataframe thead th {\n",
       "        text-align: right;\n",
       "    }\n",
       "</style>\n",
       "<table border=\"1\" class=\"dataframe\">\n",
       "  <thead>\n",
       "    <tr style=\"text-align: right;\">\n",
       "      <th></th>\n",
       "      <th>URL</th>\n",
       "      <th>Name</th>\n",
       "    </tr>\n",
       "  </thead>\n",
       "  <tbody>\n",
       "    <tr>\n",
       "      <th>25933</th>\n",
       "      <td>https://raw.githubusercontent.com/elastic/elas...</td>\n",
       "      <td>JAVA</td>\n",
       "    </tr>\n",
       "    <tr>\n",
       "      <th>41487</th>\n",
       "      <td>https://raw.githubusercontent.com/nodejs/node/...</td>\n",
       "      <td>JAVASCRIPT</td>\n",
       "    </tr>\n",
       "    <tr>\n",
       "      <th>5457</th>\n",
       "      <td>https://raw.githubusercontent.com/django/djang...</td>\n",
       "      <td>PYTHON</td>\n",
       "    </tr>\n",
       "    <tr>\n",
       "      <th>44899</th>\n",
       "      <td>https://raw.githubusercontent.com/nodejs/node/...</td>\n",
       "      <td>JAVASCRIPT</td>\n",
       "    </tr>\n",
       "    <tr>\n",
       "      <th>7753</th>\n",
       "      <td>https://raw.githubusercontent.com/ansible/ansi...</td>\n",
       "      <td>PYTHON</td>\n",
       "    </tr>\n",
       "  </tbody>\n",
       "</table>\n",
       "</div>"
      ],
      "text/plain": [
       "                                                     URL        Name\n",
       "25933  https://raw.githubusercontent.com/elastic/elas...        JAVA\n",
       "41487  https://raw.githubusercontent.com/nodejs/node/...  JAVASCRIPT\n",
       "5457   https://raw.githubusercontent.com/django/djang...      PYTHON\n",
       "44899  https://raw.githubusercontent.com/nodejs/node/...  JAVASCRIPT\n",
       "7753   https://raw.githubusercontent.com/ansible/ansi...      PYTHON"
      ]
     },
     "execution_count": 3,
     "metadata": {},
     "output_type": "execute_result"
    }
   ],
   "source": [
    "df.sample(5)"
   ]
  },
  {
   "cell_type": "markdown",
   "id": "7bd7c0df",
   "metadata": {},
   "source": [
    "### Step 2: Number of Unique Values in all the columns"
   ]
  },
  {
   "cell_type": "code",
   "execution_count": 4,
   "id": "72b78b89",
   "metadata": {},
   "outputs": [
    {
     "data": {
      "text/plain": [
       "URL     75124\n",
       "Name        8\n",
       "dtype: int64"
      ]
     },
     "execution_count": 4,
     "metadata": {},
     "output_type": "execute_result"
    }
   ],
   "source": [
    "df.nunique()"
   ]
  },
  {
   "cell_type": "code",
   "execution_count": 5,
   "id": "6afa112e",
   "metadata": {},
   "outputs": [
    {
     "data": {
      "text/html": [
       "<div>\n",
       "<style scoped>\n",
       "    .dataframe tbody tr th:only-of-type {\n",
       "        vertical-align: middle;\n",
       "    }\n",
       "\n",
       "    .dataframe tbody tr th {\n",
       "        vertical-align: top;\n",
       "    }\n",
       "\n",
       "    .dataframe thead th {\n",
       "        text-align: right;\n",
       "    }\n",
       "</style>\n",
       "<table border=\"1\" class=\"dataframe\">\n",
       "  <thead>\n",
       "    <tr style=\"text-align: right;\">\n",
       "      <th></th>\n",
       "      <th>URL</th>\n",
       "      <th>Name</th>\n",
       "    </tr>\n",
       "  </thead>\n",
       "  <tbody>\n",
       "    <tr>\n",
       "      <th>count</th>\n",
       "      <td>75124</td>\n",
       "      <td>75124</td>\n",
       "    </tr>\n",
       "    <tr>\n",
       "      <th>unique</th>\n",
       "      <td>75124</td>\n",
       "      <td>8</td>\n",
       "    </tr>\n",
       "    <tr>\n",
       "      <th>top</th>\n",
       "      <td>https://raw.githubusercontent.com/gap-system/g...</td>\n",
       "      <td>JAVA</td>\n",
       "    </tr>\n",
       "    <tr>\n",
       "      <th>freq</th>\n",
       "      <td>1</td>\n",
       "      <td>26768</td>\n",
       "    </tr>\n",
       "  </tbody>\n",
       "</table>\n",
       "</div>"
      ],
      "text/plain": [
       "                                                      URL   Name\n",
       "count                                               75124  75124\n",
       "unique                                              75124      8\n",
       "top     https://raw.githubusercontent.com/gap-system/g...   JAVA\n",
       "freq                                                    1  26768"
      ]
     },
     "execution_count": 5,
     "metadata": {},
     "output_type": "execute_result"
    }
   ],
   "source": [
    "df.describe()"
   ]
  },
  {
   "cell_type": "markdown",
   "id": "918ff59c",
   "metadata": {},
   "source": [
    "### Step 3: Unique Values in 'Name Column' (Going to be made the target variable)"
   ]
  },
  {
   "cell_type": "code",
   "execution_count": 6,
   "id": "0e411e5b",
   "metadata": {},
   "outputs": [
    {
     "data": {
      "text/plain": [
       "array(['GAP', 'PYTHON', 'JAVA', 'JAVASCRIPT', 'TYPESCRIPT', 'GO', 'PHP',\n",
       "       'RUBY'], dtype=object)"
      ]
     },
     "execution_count": 6,
     "metadata": {},
     "output_type": "execute_result"
    }
   ],
   "source": [
    "df['Name'].unique()"
   ]
  },
  {
   "cell_type": "markdown",
   "id": "f74c0f58",
   "metadata": {},
   "source": [
    "### Step 4: Duplicate Check for \"URL\" column (as this column should only have unique urls)"
   ]
  },
  {
   "cell_type": "code",
   "execution_count": 7,
   "id": "cd2024ea",
   "metadata": {},
   "outputs": [
    {
     "data": {
      "text/plain": [
       "0"
      ]
     },
     "execution_count": 7,
     "metadata": {},
     "output_type": "execute_result"
    }
   ],
   "source": [
    "df['URL'].duplicated().sum()"
   ]
  },
  {
   "cell_type": "markdown",
   "id": "6096f91a",
   "metadata": {},
   "source": [
    "### Step 5: Check the info() on the features"
   ]
  },
  {
   "cell_type": "code",
   "execution_count": 8,
   "id": "09276c09",
   "metadata": {},
   "outputs": [
    {
     "name": "stdout",
     "output_type": "stream",
     "text": [
      "<class 'pandas.core.frame.DataFrame'>\n",
      "RangeIndex: 75124 entries, 0 to 75123\n",
      "Data columns (total 2 columns):\n",
      " #   Column  Non-Null Count  Dtype \n",
      "---  ------  --------------  ----- \n",
      " 0   URL     75124 non-null  object\n",
      " 1   Name    75124 non-null  object\n",
      "dtypes: object(2)\n",
      "memory usage: 1.1+ MB\n"
     ]
    }
   ],
   "source": [
    "df.info()"
   ]
  },
  {
   "cell_type": "markdown",
   "id": "5d007ace",
   "metadata": {},
   "source": [
    "#### conclusion drawn from Step 5:\n",
    "- both columns are of type 'object'"
   ]
  },
  {
   "cell_type": "markdown",
   "id": "6ce364ac",
   "metadata": {},
   "source": [
    "### Step 6: Check Class Distribution "
   ]
  },
  {
   "cell_type": "code",
   "execution_count": 9,
   "id": "959d1594",
   "metadata": {},
   "outputs": [
    {
     "data": {
      "image/png": "[encoded data removed]",
      "text/plain": [
       "<Figure size 800x500 with 1 Axes>"
      ]
     },
     "metadata": {},
     "output_type": "display_data"
    }
   ],
   "source": [
    "# Get the counts of unique labels within a column\n",
    "label_counts = df['Name'].value_counts()\n",
    "\n",
    "plt.figure(figsize=(8, 5))\n",
    "plt.bar(label_counts.index, label_counts.values)\n",
    "plt.xlabel('Labels')\n",
    "plt.ylabel('Counts')\n",
    "# plt.xticks(rotation=90)\n",
    "plt.title('Label Distribution')\n",
    "plt.show()"
   ]
  },
  {
   "cell_type": "markdown",
   "id": "c72bcf7b",
   "metadata": {},
   "source": [
    "# Custom Transformer classes (So that sklearn's pipeline can be used)"
   ]
  },
  {
   "cell_type": "code",
   "execution_count": 10,
   "id": "4894f10f",
   "metadata": {},
   "outputs": [],
   "source": [
    "import re\n",
    "from nltk.corpus import stopwords\n",
    "from sklearn.base import BaseEstimator, TransformerMixin\n",
    "import chardet # an ML model, It uses machine learning to detect the encoding of a file\n",
    "\n",
    "# Custom transformer for case-folding\n",
    "class CaseFoldingTransformer(BaseEstimator, TransformerMixin):\n",
    "    def fit(self, X, y=None):\n",
    "        return self\n",
    "    \n",
    "    def transform(self, X):\n",
    "        return [x.lower() for x in X]\n",
    "\n",
    "# Custom transformer for stop words removal\n",
    "class StopWordsRemovalTransformer(BaseEstimator, TransformerMixin):\n",
    "    def fit(self, X, y=None):\n",
    "        return self\n",
    "    \n",
    "    def transform(self, X):\n",
    "        stop_words_list = stopwords.words('english')\n",
    "        return [' '.join([word for word in x.split() if word not in stop_words_list]) for x in X]\n",
    "    \n",
    "    # Custom transformer to remove numbers from text\n",
    "class NumberRemovalTransformer(BaseEstimator, TransformerMixin):\n",
    "    def fit(self, X, y=None):\n",
    "        return self\n",
    "\n",
    "    def transform(self, X):\n",
    "        # Remove numbers using regular expression\n",
    "        return [re.sub(r'\\d+', '', text) for text in X]\n",
    "    \n",
    "class UrlToContentTransformer(BaseEstimator, TransformerMixin):\n",
    "    def fit(self, X, y=None):\n",
    "        return self\n",
    "    \n",
    "    def transform(self, X):\n",
    "        transformed_X = []\n",
    "        for url in X:\n",
    "            while True:\n",
    "                try:    \n",
    "                    response = requests.get(url)\n",
    "                    content = response.content\n",
    "                    encoding = chardet.detect(content)\n",
    "        \n",
    "                    if encoding['encoding'] == \"ISO-8859-1\":\n",
    "                        transformed_X.append(content.decode(\"iso-8859-1\"))\n",
    "                    elif encoding['encoding'] == \"GB2312\":\n",
    "                        transformed_X.append(content.decode(\"GB2312\"))\n",
    "                    else:\n",
    "                        transformed_X.append(content.decode(\"utf-8\"))\n",
    "                    break\n",
    "                except Exception as e:\n",
    "                    print(url)\n",
    "                    transformed_X.append(content.decode(\"utf-8\"))\n",
    "                    break\n",
    "        return transformed_X\n",
    "\n",
    "        \n",
    "# Define the preprocessing steps\n",
    "preprocessing_steps = [\n",
    "#     ('case_folding', CaseFoldingTransformer()),\n",
    "#     ('stop_words_removal', StopWordsRemovalTransformer()),\n",
    "    ('url_to_content', UrlToContentTransformer()),\n",
    "    ('number_removal', NumberRemovalTransformer()),\n",
    "]"
   ]
  },
  {
   "cell_type": "markdown",
   "id": "0688cba4",
   "metadata": {},
   "source": [
    "# Bag-of-Words (NLP technique)"
   ]
  },
  {
   "cell_type": "code",
   "execution_count": 11,
   "id": "73685b96",
   "metadata": {},
   "outputs": [],
   "source": [
    "# Bag-of-words can be implemented using \"CountVectorizer\" in sklearn\n",
    "from sklearn.feature_extraction.text import CountVectorizer"
   ]
  },
  {
   "cell_type": "markdown",
   "id": "b0309688",
   "metadata": {},
   "source": [
    "# Make a preprocessing Pipeline"
   ]
  },
  {
   "cell_type": "code",
   "execution_count": 12,
   "id": "dc37c551",
   "metadata": {},
   "outputs": [],
   "source": [
    "from sklearn.pipeline import Pipeline\n",
    "\n",
    "pipeline = Pipeline([\n",
    "    ('preprocessing', Pipeline(steps=preprocessing_steps)),\n",
    "    ('vectorizer', CountVectorizer(max_features=3000))\n",
    "])"
   ]
  },
  {
   "cell_type": "markdown",
   "id": "e6de3ea3",
   "metadata": {},
   "source": [
    "#### Apply the preprocessing pipeline to the dataset"
   ]
  },
  {
   "cell_type": "code",
   "execution_count": 13,
   "id": "97ba8b75",
   "metadata": {},
   "outputs": [
    {
     "name": "stdout",
     "output_type": "stream",
     "text": [
      "https://raw.githubusercontent.com/microsoft/vscode/main/src/vs/editor/test/common/model/linesTextBuffer/linesTextBufferBuilder.test.ts\n"
     ]
    }
   ],
   "source": [
    "df['Content'] = pipeline['preprocessing'].fit_transform(df['URL'])"
   ]
  },
  {
   "cell_type": "markdown",
   "id": "bf53dff0",
   "metadata": {},
   "source": [
    "#### Visualise the datset after the preprocessing pipeline"
   ]
  },
  {
   "cell_type": "code",
   "execution_count": 14,
   "id": "b484c974",
   "metadata": {},
   "outputs": [
    {
     "data": {
      "text/plain": [
       "0        #description\\n#author\\n#timelimit\\n#cmdlineops...\n",
       "1        #description\\n#author\\n#timelimit\\n#cmdlineops...\n",
       "2        #description\\n#author\\n#timelimit\\n#cmdlineops...\n",
       "3        #description\\n#author\\n#timelimit\\n#cmdlineops...\n",
       "4        #description\\n#author\\n#timelimit\\n#cmdlineops...\n",
       "                               ...                        \n",
       "75119    # frozen_string_literal: true\\n\\nrequire \"abst...\n",
       "75120    # frozen_string_literal: true\\n\\n# Order depen...\n",
       "75121    # frozen_string_literal: true\\n\\n$: << File.ex...\n",
       "75122    # frozen_string_literal: true\\n\\nif ENV[\"BUILD...\n",
       "75123    # frozen_string_literal: true\\n\\nmodule Rails\\...\n",
       "Name: Content, Length: 75124, dtype: object"
      ]
     },
     "execution_count": 14,
     "metadata": {},
     "output_type": "execute_result"
    }
   ],
   "source": [
    "df['Content']"
   ]
  },
  {
   "cell_type": "markdown",
   "id": "e08de5c6",
   "metadata": {},
   "source": [
    "#### Save the content dataset to a CSV file"
   ]
  },
  {
   "cell_type": "code",
   "execution_count": 15,
   "id": "abf703df",
   "metadata": {},
   "outputs": [],
   "source": [
    "# Save the DataFrame to a CSV file\n",
    "csv_file_path = '../data/content.csv'\n",
    "df.to_csv(csv_file_path, index=False)"
   ]
  },
  {
   "cell_type": "markdown",
   "id": "b586b41b",
   "metadata": {},
   "source": [
    "# Seperate the dataset into Independent and target variables"
   ]
  },
  {
   "cell_type": "code",
   "execution_count": 16,
   "id": "bc43341c",
   "metadata": {},
   "outputs": [],
   "source": [
    "X = df['Content']\n",
    "y = df['Name']"
   ]
  },
  {
   "cell_type": "markdown",
   "id": "4a44058a",
   "metadata": {},
   "source": [
    "# Apply the Bag-of-Words"
   ]
  },
  {
   "cell_type": "code",
   "execution_count": 17,
   "id": "d6cfd6e0",
   "metadata": {},
   "outputs": [],
   "source": [
    "X_bow = pipeline['vectorizer'].fit_transform(X)"
   ]
  },
  {
   "cell_type": "markdown",
   "id": "9163a22e",
   "metadata": {},
   "source": [
    "# Train-Test-Validation split"
   ]
  },
  {
   "cell_type": "code",
   "execution_count": 18,
   "id": "3ad456ee",
   "metadata": {},
   "outputs": [],
   "source": [
    "from sklearn.model_selection import train_test_split\n",
    "\n",
    "# Split the data into training set (80%) and temporary set (20%)\n",
    "X_train_temp, X_test, y_train_temp, y_test = train_test_split(X_bow, y, test_size=0.2, random_state=42)\n",
    "\n",
    "# Split the temporary set into validation set (10%) and final training set (90%)\n",
    "X_train, X_val, y_train, y_val = train_test_split(X_train_temp, y_train_temp, test_size=0.1, random_state=42)"
   ]
  },
  {
   "cell_type": "markdown",
   "id": "0ba12e30",
   "metadata": {},
   "source": [
    "#### check the length of the feature vectors"
   ]
  },
  {
   "cell_type": "code",
   "execution_count": 20,
   "id": "23467242",
   "metadata": {},
   "outputs": [
    {
     "data": {
      "text/plain": [
       "3000"
      ]
     },
     "execution_count": 20,
     "metadata": {},
     "output_type": "execute_result"
    }
   ],
   "source": [
    "len( pipeline['vectorizer'].get_feature_names_out()) "
   ]
  },
  {
   "cell_type": "markdown",
   "id": "a3f20cc1",
   "metadata": {},
   "source": [
    "#### Display the feature vectors"
   ]
  },
  {
   "cell_type": "code",
   "execution_count": 21,
   "id": "65af9e22",
   "metadata": {},
   "outputs": [
    {
     "data": {
      "text/plain": [
       "array(['__', '___', '__init__', ..., 'zoneddatetime', 'zoneid', 'zones'],\n",
       "      dtype=object)"
      ]
     },
     "execution_count": 21,
     "metadata": {},
     "output_type": "execute_result"
    }
   ],
   "source": [
    "pipeline['vectorizer'].get_feature_names_out()"
   ]
  },
  {
   "cell_type": "markdown",
   "id": "ad48cef4",
   "metadata": {},
   "source": [
    "# Classifiers (Have more classifiers here and use RandomSearchCV for hyperparameter tuning)"
   ]
  },
  {
   "cell_type": "code",
   "execution_count": 22,
   "id": "26af095e",
   "metadata": {},
   "outputs": [],
   "source": [
    "from sklearn.ensemble import RandomForestClassifier\n",
    "\n",
    "clf = RandomForestClassifier(class_weight='balanced') "
   ]
  },
  {
   "cell_type": "markdown",
   "id": "b3d45be6",
   "metadata": {},
   "source": [
    "#### NOTE: class_weight='balanced' because as seen in evaluation GAP files are lower in comparison to the other programmming languages"
   ]
  },
  {
   "cell_type": "markdown",
   "id": "b8a957d3",
   "metadata": {},
   "source": [
    "# Cross-Validation"
   ]
  },
  {
   "cell_type": "code",
   "execution_count": 23,
   "id": "99e6fefe",
   "metadata": {},
   "outputs": [
    {
     "name": "stdout",
     "output_type": "stream",
     "text": [
      "0.9798461120000568\n"
     ]
    }
   ],
   "source": [
    "from sklearn.model_selection import cross_val_score\n",
    "\n",
    "# Specify the number of folds\n",
    "num_folds = 5\n",
    "\n",
    "accuracy_scores = cross_val_score(clf, X_bow, y, cv=num_folds, scoring='accuracy')\n",
    "print(np.mean(accuracy_scores))"
   ]
  },
  {
   "cell_type": "markdown",
   "id": "d4727abe",
   "metadata": {},
   "source": [
    "# Train the Model"
   ]
  },
  {
   "cell_type": "code",
   "execution_count": 24,
   "id": "1d43020c",
   "metadata": {},
   "outputs": [
    {
     "data": {
      "text/html": [
       "<style>#sk-container-id-1 {color: black;}#sk-container-id-1 pre{padding: 0;}#sk-container-id-1 div.sk-toggleable {background-color: white;}#sk-container-id-1 label.sk-toggleable__label {cursor: pointer;display: block;width: 100%;margin-bottom: 0;padding: 0.3em;box-sizing: border-box;text-align: center;}#sk-container-id-1 label.sk-toggleable__label-arrow:before {content: \"▸\";float: left;margin-right: 0.25em;color: #696969;}#sk-container-id-1 label.sk-toggleable__label-arrow:hover:before {color: black;}#sk-container-id-1 div.sk-estimator:hover label.sk-toggleable__label-arrow:before {color: black;}#sk-container-id-1 div.sk-toggleable__content {max-height: 0;max-width: 0;overflow: hidden;text-align: left;background-color: #f0f8ff;}#sk-container-id-1 div.sk-toggleable__content pre {margin: 0.2em;color: black;border-radius: 0.25em;background-color: #f0f8ff;}#sk-container-id-1 input.sk-toggleable__control:checked~div.sk-toggleable__content {max-height: 200px;max-width: 100%;overflow: auto;}#sk-container-id-1 input.sk-toggleable__control:checked~label.sk-toggleable__label-arrow:before {content: \"▾\";}#sk-container-id-1 div.sk-estimator input.sk-toggleable__control:checked~label.sk-toggleable__label {background-color: #d4ebff;}#sk-container-id-1 div.sk-label input.sk-toggleable__control:checked~label.sk-toggleable__label {background-color: #d4ebff;}#sk-container-id-1 input.sk-hidden--visually {border: 0;clip: rect(1px 1px 1px 1px);clip: rect(1px, 1px, 1px, 1px);height: 1px;margin: -1px;overflow: hidden;padding: 0;position: absolute;width: 1px;}#sk-container-id-1 div.sk-estimator {font-family: monospace;background-color: #f0f8ff;border: 1px dotted black;border-radius: 0.25em;box-sizing: border-box;margin-bottom: 0.5em;}#sk-container-id-1 div.sk-estimator:hover {background-color: #d4ebff;}#sk-container-id-1 div.sk-parallel-item::after {content: \"\";width: 100%;border-bottom: 1px solid gray;flex-grow: 1;}#sk-container-id-1 div.sk-label:hover label.sk-toggleable__label {background-color: #d4ebff;}#sk-container-id-1 div.sk-serial::before {content: \"\";position: absolute;border-left: 1px solid gray;box-sizing: border-box;top: 0;bottom: 0;left: 50%;z-index: 0;}#sk-container-id-1 div.sk-serial {display: flex;flex-direction: column;align-items: center;background-color: white;padding-right: 0.2em;padding-left: 0.2em;position: relative;}#sk-container-id-1 div.sk-item {position: relative;z-index: 1;}#sk-container-id-1 div.sk-parallel {display: flex;align-items: stretch;justify-content: center;background-color: white;position: relative;}#sk-container-id-1 div.sk-item::before, #sk-container-id-1 div.sk-parallel-item::before {content: \"\";position: absolute;border-left: 1px solid gray;box-sizing: border-box;top: 0;bottom: 0;left: 50%;z-index: -1;}#sk-container-id-1 div.sk-parallel-item {display: flex;flex-direction: column;z-index: 1;position: relative;background-color: white;}#sk-container-id-1 div.sk-parallel-item:first-child::after {align-self: flex-end;width: 50%;}#sk-container-id-1 div.sk-parallel-item:last-child::after {align-self: flex-start;width: 50%;}#sk-container-id-1 div.sk-parallel-item:only-child::after {width: 0;}#sk-container-id-1 div.sk-dashed-wrapped {border: 1px dashed gray;margin: 0 0.4em 0.5em 0.4em;box-sizing: border-box;padding-bottom: 0.4em;background-color: white;}#sk-container-id-1 div.sk-label label {font-family: monospace;font-weight: bold;display: inline-block;line-height: 1.2em;}#sk-container-id-1 div.sk-label-container {text-align: center;}#sk-container-id-1 div.sk-container {/* jupyter's `normalize.less` sets `[hidden] { display: none; }` but bootstrap.min.css set `[hidden] { display: none !important; }` so we also need the `!important` here to be able to override the default hidden behavior on the sphinx rendered scikit-learn.org. See: https://github.com/scikit-learn/scikit-learn/issues/21755 */display: inline-block !important;position: relative;}#sk-container-id-1 div.sk-text-repr-fallback {display: none;}</style><div id=\"sk-container-id-1\" class=\"sk-top-container\"><div class=\"sk-text-repr-fallback\"><pre>RandomForestClassifier(class_weight=&#x27;balanced&#x27;)</pre><b>In a Jupyter environment, please rerun this cell to show the HTML representation or trust the notebook. <br />On GitHub, the HTML representation is unable to render, please try loading this page with nbviewer.org.</b></div><div class=\"sk-container\" hidden><div class=\"sk-item\"><div class=\"sk-estimator sk-toggleable\"><input class=\"sk-toggleable__control sk-hidden--visually\" id=\"sk-estimator-id-1\" type=\"checkbox\" checked><label for=\"sk-estimator-id-1\" class=\"sk-toggleable__label sk-toggleable__label-arrow\">RandomForestClassifier</label><div class=\"sk-toggleable__content\"><pre>RandomForestClassifier(class_weight=&#x27;balanced&#x27;)</pre></div></div></div></div></div>"
      ],
      "text/plain": [
       "RandomForestClassifier(class_weight='balanced')"
      ]
     },
     "execution_count": 24,
     "metadata": {},
     "output_type": "execute_result"
    }
   ],
   "source": [
    "clf.fit(X_train, y_train)"
   ]
  },
  {
   "cell_type": "markdown",
   "id": "696e072f",
   "metadata": {},
   "source": [
    "# Evaluate the model"
   ]
  },
  {
   "cell_type": "markdown",
   "id": "97f14aee",
   "metadata": {},
   "source": [
    "### Prection on test data"
   ]
  },
  {
   "cell_type": "code",
   "execution_count": 25,
   "id": "dbc4d137",
   "metadata": {},
   "outputs": [],
   "source": [
    "y_pred = clf.predict(X_test)"
   ]
  },
  {
   "cell_type": "markdown",
   "id": "4a50698c",
   "metadata": {},
   "source": [
    "### Step 1: Accuracy"
   ]
  },
  {
   "cell_type": "code",
   "execution_count": 30,
   "id": "9d27a78a",
   "metadata": {},
   "outputs": [
    {
     "name": "stdout",
     "output_type": "stream",
     "text": [
      "0.9981364392678869\n"
     ]
    }
   ],
   "source": [
    "from sklearn.metrics import accuracy_score\n",
    "accuracy = accuracy_score(y_test, y_pred)\n",
    "print(accuracy)"
   ]
  },
  {
   "cell_type": "markdown",
   "id": "458a5e81",
   "metadata": {},
   "source": [
    "### Step 2: Precision"
   ]
  },
  {
   "cell_type": "code",
   "execution_count": 31,
   "id": "202a456b",
   "metadata": {},
   "outputs": [
    {
     "name": "stdout",
     "output_type": "stream",
     "text": [
      "0.9981460297630381\n"
     ]
    }
   ],
   "source": [
    "from sklearn.metrics import precision_score\n",
    "precision = precision_score(y_test, y_pred, average='weighted')\n",
    "print(precision)"
   ]
  },
  {
   "cell_type": "markdown",
   "id": "76dd2905",
   "metadata": {},
   "source": [
    "### Step 3: Recall"
   ]
  },
  {
   "cell_type": "code",
   "execution_count": 32,
   "id": "fa9e967f",
   "metadata": {},
   "outputs": [
    {
     "name": "stdout",
     "output_type": "stream",
     "text": [
      "0.9981364392678869\n"
     ]
    }
   ],
   "source": [
    "from sklearn.metrics import recall_score\n",
    "recall = recall_score(y_test, y_pred, average='weighted')\n",
    "print(recall)"
   ]
  },
  {
   "cell_type": "markdown",
   "id": "77d094ac",
   "metadata": {},
   "source": [
    "### Step 4: F1-score"
   ]
  },
  {
   "cell_type": "code",
   "execution_count": 34,
   "id": "8b0457a9",
   "metadata": {},
   "outputs": [
    {
     "name": "stdout",
     "output_type": "stream",
     "text": [
      "0.9981340341396896\n"
     ]
    }
   ],
   "source": [
    "from sklearn.metrics import f1_score\n",
    "f1 = f1_score(y_test, y_pred, average='weighted')\n",
    "print(f1)"
   ]
  },
  {
   "cell_type": "markdown",
   "id": "c9fe75ad",
   "metadata": {},
   "source": [
    "### Step 5: Classfication Report (Summary of steps 1-4)"
   ]
  },
  {
   "cell_type": "code",
   "execution_count": 35,
   "id": "20ec092b",
   "metadata": {},
   "outputs": [
    {
     "name": "stdout",
     "output_type": "stream",
     "text": [
      "              precision    recall  f1-score   support\n",
      "\n",
      "         GAP       1.00      0.96      0.98       215\n",
      "          GO       1.00      1.00      1.00      3021\n",
      "        JAVA       1.00      1.00      1.00      5412\n",
      "  JAVASCRIPT       1.00      1.00      1.00      3129\n",
      "         PHP       1.00      1.00      1.00       271\n",
      "      PYTHON       0.99      1.00      0.99      1451\n",
      "        RUBY       1.00      1.00      1.00       596\n",
      "  TYPESCRIPT       1.00      0.99      1.00       930\n",
      "\n",
      "    accuracy                           1.00     15025\n",
      "   macro avg       1.00      0.99      1.00     15025\n",
      "weighted avg       1.00      1.00      1.00     15025\n",
      "\n"
     ]
    }
   ],
   "source": [
    "from sklearn.metrics import classification_report\n",
    "report = classification_report(y_test, y_pred)\n",
    "print(report)"
   ]
  },
  {
   "cell_type": "markdown",
   "id": "ae1addc4",
   "metadata": {},
   "source": [
    "### Step 6: Confusion Matrix"
   ]
  },
  {
   "cell_type": "code",
   "execution_count": 36,
   "id": "ef43636b",
   "metadata": {},
   "outputs": [],
   "source": [
    "from sklearn.metrics import confusion_matrix, ConfusionMatrixDisplay\n",
    "cm = confusion_matrix(y_test, y_pred)"
   ]
  },
  {
   "cell_type": "markdown",
   "id": "682a00a5",
   "metadata": {},
   "source": [
    "#### Plot Confusion Matrix"
   ]
  },
  {
   "cell_type": "code",
   "execution_count": 37,
   "id": "e6fa3c96",
   "metadata": {},
   "outputs": [
    {
     "data": {
      "image/png": "[encoded data removed]",
      "text/plain": [
       "<Figure size 640x480 with 2 Axes>"
      ]
     },
     "metadata": {},
     "output_type": "display_data"
    }
   ],
   "source": [
    "disp = ConfusionMatrixDisplay(confusion_matrix=cm, display_labels=np.unique(y_test))\n",
    "disp.plot(cmap='Blues', values_format='.0f')\n",
    "plt.title('Confusion Matrix')\n",
    "plt.show()"
   ]
  },
  {
   "cell_type": "markdown",
   "id": "a2044739",
   "metadata": {},
   "source": [
    "### Step 7: ROC-Curve (Can be used if the labels become:- \"GAP\" & \"Others\")"
   ]
  },
  {
   "cell_type": "code",
   "execution_count": 41,
   "id": "c1d5d6f6",
   "metadata": {},
   "outputs": [],
   "source": [
    "# from sklearn.metrics import roc_curve, roc_auc_score\n",
    "\n",
    "# # Compute ROC curve and AUC\n",
    "# fpr, tpr, thresholds = roc_curve(y_test, y_pred)\n",
    "# auc = roc_auc_score(y_test, y_pred)"
   ]
  },
  {
   "cell_type": "markdown",
   "id": "f330c792",
   "metadata": {},
   "source": [
    "#### Plot ROC curve"
   ]
  },
  {
   "cell_type": "code",
   "execution_count": 42,
   "id": "fb819058",
   "metadata": {},
   "outputs": [],
   "source": [
    "# plt.figure(figsize=(8, 6))\n",
    "# plt.plot(fpr, tpr, label=f'AUC = {auc:.2f}', color='b')\n",
    "# plt.plot([0, 1], [0, 1], 'k--', color='gray', lw=2)\n",
    "# plt.xlabel('False Positive Rate')\n",
    "# plt.ylabel('True Positive Rate')\n",
    "# plt.title('ROC Curve')\n",
    "# plt.legend(loc='lower right')\n",
    "# plt.grid(True)\n",
    "# plt.show()"
   ]
  },
  {
   "cell_type": "markdown",
   "id": "c879a1e0",
   "metadata": {},
   "source": [
    "# Save the model"
   ]
  },
  {
   "cell_type": "code",
   "execution_count": 43,
   "id": "945765e4",
   "metadata": {},
   "outputs": [
    {
     "name": "stdout",
     "output_type": "stream",
     "text": [
      "C:\\Users\\kiran\\Desktop\\Analysis-of-GAP-programming-practices-on-GitHub\\notebooks\n",
      "C:\\Users\\kiran\\Desktop\\Analysis-of-GAP-programming-practices-on-GitHub\n"
     ]
    }
   ],
   "source": [
    "import os\n",
    "\n",
    "print(os.getcwd())\n",
    "print(os.path.dirname(os.getcwd()))"
   ]
  },
  {
   "cell_type": "code",
   "execution_count": 57,
   "id": "d5cc51bb",
   "metadata": {},
   "outputs": [],
   "source": [
    "import pickle\n",
    "\n",
    "# Full pipeline with preprocessing and classifier\n",
    "full_pipeline = Pipeline([\n",
    "    ('full_preprocessing', pipeline),\n",
    "    ('classifier', clf)\n",
    "])\n",
    "\n",
    "# Save the full_pipeline object\n",
    "clf_folder_path = os.path.join(os.path.dirname(os.getcwd()), \"model\")\n",
    "os.makedirs(clf_folder_path, exist_ok=True)\n",
    "clf_file_path = os.path.join(clf_folder_path, 'classifier.pkl')\n",
    "\n",
    "with open(clf_file_path, 'wb') as f:\n",
    "    pickle.dump(full_pipeline, f)\n"
   ]
  },
  {
   "cell_type": "markdown",
   "id": "3422b214",
   "metadata": {},
   "source": [
    "# Load the saved model and see whether working or not"
   ]
  },
  {
   "cell_type": "code",
   "execution_count": 51,
   "id": "b3c00c62",
   "metadata": {},
   "outputs": [],
   "source": [
    "import joblib\n",
    "\n",
    "# Load the saved pipeline\n",
    "clf_folder_path = os.path.join(os.path.dirname(os.getcwd()), \"model\")\n",
    "clf_file_path = os.path.join(clf_folder_path, 'classifier.pkl')\n",
    "loaded_pipeline = joblib.load(clf_file_path)\n",
    "\n",
    "# Use the loaded pipeline for predictions or other operations\n",
    "predictions = loaded_pipeline.predict(['https://raw.githubusercontent.com/opencv/opencv/3aeaa3402389fc55e53fbc6f5741ca29f51032ee/modules/core/misc/java/src/java/core%2BMat.java'])"
   ]
  },
  {
   "cell_type": "code",
   "execution_count": 52,
   "id": "ff2f550a",
   "metadata": {},
   "outputs": [
    {
     "data": {
      "text/plain": [
       "array(['JAVA'], dtype=object)"
      ]
     },
     "execution_count": 52,
     "metadata": {},
     "output_type": "execute_result"
    }
   ],
   "source": [
    "predictions"
   ]
  },
  {
   "cell_type": "code",
   "execution_count": null,
   "id": "e18e0f69",
   "metadata": {},
   "outputs": [],
   "source": []
  }
 ],
 "metadata": {
  "kernelspec": {
   "display_name": "ML-GAP-Classification",
   "language": "python",
   "name": "ml-gap-classification"
  },
  "language_info": {
   "codemirror_mode": {
    "name": "ipython",
    "version": 3
   },
   "file_extension": ".py",
   "mimetype": "text/x-python",
   "name": "python",
   "nbconvert_exporter": "python",
   "pygments_lexer": "ipython3",
   "version": "3.10.4"
  }
 },
 "nbformat": 4,
 "nbformat_minor": 5
}
