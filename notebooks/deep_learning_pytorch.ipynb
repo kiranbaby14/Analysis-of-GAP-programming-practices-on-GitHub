{
 "cells": [
  {
   "cell_type": "code",
   "execution_count": 1,
   "id": "b4cd3cf3",
   "metadata": {},
   "outputs": [],
   "source": [
    "import torch\n",
    "import torch.nn as nn\n",
    "import torch.optim as optim\n",
    "import torch.nn.functional as F\n",
    "import torch.utils.data as DataLoader"
   ]
  },
  {
   "cell_type": "code",
   "execution_count": 2,
   "id": "dc8669ae",
   "metadata": {},
   "outputs": [],
   "source": [
    "device = \"cuda\" if torch.cuda.is_available() else \"cpu\""
   ]
  },
  {
   "cell_type": "code",
   "execution_count": 3,
   "id": "7c490767",
   "metadata": {},
   "outputs": [
    {
     "data": {
      "text/plain": [
       "'cuda'"
      ]
     },
     "execution_count": 3,
     "metadata": {},
     "output_type": "execute_result"
    }
   ],
   "source": [
    "device"
   ]
  },
  {
   "cell_type": "code",
   "execution_count": 4,
   "id": "824555e1",
   "metadata": {},
   "outputs": [],
   "source": [
    "class BERT(nn.Module):\n",
    "    def __init__(self, num_classes):\n",
    "        super(BERT, self).__init__()\n",
    "        self.bert_model = BertModel.from_pretrained('bert-base-uncased', return_dict=True)\n",
    "        self.dropout = nn.Dropout(0.3)\n",
    "        self.out  = nn.Linear(self.bert_model.config.hidden_size, num_classes)\n",
    "        #self.out  = nn.Linear(768, num_classes)\n",
    "        \n",
    "    def forward(self, input_ids, attention_mask):\n",
    "        _, pooled_output = self.bert_model(\n",
    "          input_ids=input_ids,\n",
    "          attention_mask=attention_mask, \n",
    "          return_dict=False\n",
    "        )\n",
    "        output_dropout = self.dropout(pooled_output)\n",
    "        output = self.out(output_dropout)\n",
    "        return output\n",
    "    "
   ]
  },
  {
   "cell_type": "code",
   "execution_count": 5,
   "id": "f796badd",
   "metadata": {},
   "outputs": [],
   "source": [
    "from torch.utils.data import Dataset\n",
    "import re\n",
    "import chardet # an ML model, It uses machine learning to detect the encoding of a file\n",
    "import requests \n",
    "\n",
    "#Custom Dataset\n",
    "class CustomDataset(Dataset):\n",
    "    def __init__(self, texts, targets, tokenizer, max_len):\n",
    "        self.texts = texts\n",
    "        self.targets = targets\n",
    "        self.tokenizer = tokenizer\n",
    "        self.max_len = max_len\n",
    "\n",
    "    def __len__(self):\n",
    "        return len(self.texts)\n",
    "\n",
    "    def __getitem__(self, index):\n",
    "        text = self.texts[index] # this text is a URL \n",
    "        target = self.targets[index]\n",
    "        \n",
    "        url_to_text = self.url_to_content(text)\n",
    "        non_ASCII_removed_text = self.remove_non_ascii(url_to_text)\n",
    "        multiple_spaces_removed_text = self.remove_multiple_spaces(non_ASCII_removed_text)\n",
    "        numbers_removed_text = self.number_removal(multiple_spaces_removed_text)\n",
    "        \n",
    "        encoding  = self.tokenizer.encode_plus(\n",
    "            text,\n",
    "            None,\n",
    "            add_special_tokens=True,\n",
    "            max_length=self.max_len,\n",
    "            padding='max_length',\n",
    "            return_token_type_ids=True,\n",
    "            truncation=True,\n",
    "            return_attention_mask=True,\n",
    "            return_tensors='pt'\n",
    "        )\n",
    "#         return {\n",
    "#             'input_ids': torch.tensor(inputs['input_ids'], dtype=torch.long),\n",
    "#             'attention_mask': torch.tensor(inputs['attention_mask'], dtype=torch.long),\n",
    "#             'token_type_ids': torch.tensor(inputs['token_type_ids'], dtype=torch.long),\n",
    "#             'targets': torch.tensor(self.targets[index], dtype=torch.float)\n",
    "            \n",
    "#         }\n",
    "        return {\n",
    "           'text': text,\n",
    "           'input_ids': encoding['input_ids'].flatten(),\n",
    "           'attention_mask': encoding['attention_mask'].flatten(),\n",
    "           'targets': torch.tensor(target, dtype=torch.long)\n",
    "        }\n",
    "    \n",
    "    def number_removal(self, text):\n",
    "        # Remove numbers using regular expression\n",
    "        return re.sub(r'\\d+', '', text)\n",
    "    \n",
    "    def remove_non_ascii(self, text):\n",
    "        #Remove non-ASCII characters from the given text using a regular expression.\n",
    "        cleaned_text = re.sub(r'[^\\x00-\\x7F]+', '', text)\n",
    "        return cleaned_text\n",
    "    \n",
    "    def remove_multiple_spaces(self, text):\n",
    "        multiple_spaces_removed_text = \" \".join(text.split()) \n",
    "        return multiple_spaces_removed_text\n",
    "    \n",
    "    def url_to_content(self, url):\n",
    "        try:    \n",
    "            response = requests.get(url)\n",
    "            content = response.content\n",
    "            encoding = chardet.detect(content)\n",
    "\n",
    "            if encoding['encoding'] == \"ISO-8859-1\":\n",
    "               decoded_content = content.decode(\"iso-8859-1\")\n",
    "            elif encoding['encoding'] == \"GB2312\":\n",
    "                decoded_content = content.decode(\"GB2312\")\n",
    "            else:\n",
    "                decoded_content = content.decode(\"utf-8\")\n",
    "                \n",
    "            return decoded_content\n",
    "        \n",
    "        except Exception as e:\n",
    "            print(url)\n",
    "            decoded_content = content.decode(\"utf-8\")\n",
    "            cleaned_content = remove_non_ascii(decoded_content)\n",
    "            return cleaned_content\n",
    "    \n",
    "\n",
    "        "
   ]
  },
  {
   "cell_type": "code",
   "execution_count": 6,
   "id": "e5ddb4d8",
   "metadata": {},
   "outputs": [],
   "source": [
    "import pandas as pd\n",
    "\n",
    "df = pd.read_csv(\"../data/data_files.csv\", encoding= 'unicode_escape') # read the data\n"
   ]
  },
  {
   "cell_type": "code",
   "execution_count": 7,
   "id": "710533ac",
   "metadata": {},
   "outputs": [],
   "source": [
    "def reduce_dataset(df):\n",
    "    labels = df[\"Name\"].unique()\n",
    "    new_df = pd.DataFrame()\n",
    "    \n",
    "    length = df[df[\"Name\"] == \"GAP\"].shape[0]\n",
    "    \n",
    "    for label in labels:\n",
    "        new_df = pd.concat([new_df, df[df[\"Name\"] == label].sample(length)], ignore_index=True)\n",
    "    \n",
    "    return new_df"
   ]
  },
  {
   "cell_type": "code",
   "execution_count": 8,
   "id": "7dbc6b9e",
   "metadata": {},
   "outputs": [],
   "source": [
    "reduced_df = reduce_dataset(df)"
   ]
  },
  {
   "cell_type": "code",
   "execution_count": 9,
   "id": "0394a122",
   "metadata": {},
   "outputs": [],
   "source": [
    "from sklearn.preprocessing import LabelEncoder\n",
    "\n",
    "label_encoder = LabelEncoder()\n",
    "# Fit and transform the target labels\n",
    "reduced_df[\"labels\"] = label_encoder.fit_transform(reduced_df[\"Name\"])"
   ]
  },
  {
   "cell_type": "code",
   "execution_count": 10,
   "id": "18c0da3e",
   "metadata": {},
   "outputs": [
    {
     "data": {
      "text/plain": [
       "array(['GAP', 'GO', 'JAVA', 'JAVASCRIPT', 'PHP', 'PYTHON', 'RUBY',\n",
       "       'TYPESCRIPT'], dtype=object)"
      ]
     },
     "execution_count": 10,
     "metadata": {},
     "output_type": "execute_result"
    }
   ],
   "source": [
    "label_encoder.classes_"
   ]
  },
  {
   "cell_type": "code",
   "execution_count": 11,
   "id": "e0660706",
   "metadata": {},
   "outputs": [],
   "source": [
    "reduced_df.drop(['Name'], inplace=True, axis=1)"
   ]
  },
  {
   "cell_type": "code",
   "execution_count": 12,
   "id": "17fb4b84",
   "metadata": {},
   "outputs": [
    {
     "data": {
      "text/plain": [
       "Index(['URL', 'labels'], dtype='object')"
      ]
     },
     "execution_count": 12,
     "metadata": {},
     "output_type": "execute_result"
    }
   ],
   "source": [
    "reduced_df.columns"
   ]
  },
  {
   "cell_type": "code",
   "execution_count": 13,
   "id": "53482f77",
   "metadata": {},
   "outputs": [
    {
     "data": {
      "text/plain": [
       "<torch._C.Generator at 0x2a0b46158f0>"
      ]
     },
     "execution_count": 13,
     "metadata": {},
     "output_type": "execute_result"
    }
   ],
   "source": [
    "import numpy as np\n",
    "\n",
    "RANDOM_SEED = 42\n",
    "np.random.seed(RANDOM_SEED)\n",
    "torch.manual_seed(RANDOM_SEED)"
   ]
  },
  {
   "cell_type": "code",
   "execution_count": 14,
   "id": "b0a35259",
   "metadata": {},
   "outputs": [],
   "source": [
    "from sklearn.model_selection import train_test_split\n",
    "\n",
    "\n",
    "df_train, df_test = train_test_split(reduced_df, test_size=0.2, random_state=RANDOM_SEED)\n",
    "df_val, df_test = train_test_split(df_test, test_size=0.5, random_state=RANDOM_SEED)"
   ]
  },
  {
   "cell_type": "code",
   "execution_count": 15,
   "id": "e8758e53",
   "metadata": {},
   "outputs": [
    {
     "name": "stderr",
     "output_type": "stream",
     "text": [
      "C:\\Users\\kiran\\Desktop\\Analysis-of-GAP-programming-practices-on-GitHub\\notebooks\\ML-GAP-Classification\\lib\\site-packages\\tqdm\\auto.py:21: TqdmWarning: IProgress not found. Please update jupyter and ipywidgets. See https://ipywidgets.readthedocs.io/en/stable/user_install.html\n",
      "  from .autonotebook import tqdm as notebook_tqdm\n"
     ]
    }
   ],
   "source": [
    "from transformers import BertModel, BertTokenizer, AdamW, get_linear_schedule_with_warmup\n",
    "\n",
    "PRE_TRAINED_MODEL_NAME = 'bert-base-uncased'\n",
    "tokenizer = BertTokenizer.from_pretrained(PRE_TRAINED_MODEL_NAME)"
   ]
  },
  {
   "cell_type": "code",
   "execution_count": 16,
   "id": "8e2f33a5",
   "metadata": {},
   "outputs": [],
   "source": [
    "EPOCHS = 2\n",
    "shuffle = True\n",
    "BATCH_SIZE = 16\n",
    "MAX_LEN = 216"
   ]
  },
  {
   "cell_type": "code",
   "execution_count": 17,
   "id": "7ea7d9cf",
   "metadata": {},
   "outputs": [],
   "source": [
    "from torch.utils.data import DataLoader\n",
    "\n",
    "def create_data_loader(df, tokenizer, max_len, batch_size):\n",
    "    ds = CustomDataset(\n",
    "      texts=df[\"URL\"].to_numpy(),\n",
    "      targets=df[\"labels\"].to_numpy(),\n",
    "      tokenizer=tokenizer,\n",
    "      max_len=max_len\n",
    "    )\n",
    "\n",
    "    return DataLoader(\n",
    "      ds,\n",
    "      batch_size=batch_size,\n",
    "      shuffle=shuffle\n",
    "#       num_workers=4 # In normal pyton code this line works fine but in jupyter not working\n",
    "    )"
   ]
  },
  {
   "cell_type": "code",
   "execution_count": 18,
   "id": "822a6b98",
   "metadata": {},
   "outputs": [],
   "source": [
    "train_data_loader = create_data_loader(df_train, tokenizer, MAX_LEN, BATCH_SIZE)\n",
    "val_data_loader = create_data_loader(df_val, tokenizer, MAX_LEN, BATCH_SIZE)\n",
    "test_data_loader = create_data_loader(df_test, tokenizer, MAX_LEN, BATCH_SIZE)"
   ]
  },
  {
   "cell_type": "code",
   "execution_count": 19,
   "id": "adecacfd",
   "metadata": {},
   "outputs": [],
   "source": [
    "#Hyperparameters\n",
    "# input_size = len(train_data_loader) # give the number of features here\n",
    "num_classes = len(label_encoder.classes_) # give the number of classes here\n",
    "learning_rate = 2e-5\n"
   ]
  },
  {
   "cell_type": "code",
   "execution_count": 20,
   "id": "40446777",
   "metadata": {},
   "outputs": [],
   "source": [
    "# Initialise network\n",
    "model = BERT(num_classes=num_classes).to(device)"
   ]
  },
  {
   "cell_type": "code",
   "execution_count": 21,
   "id": "c87bf9f2",
   "metadata": {},
   "outputs": [
    {
     "name": "stderr",
     "output_type": "stream",
     "text": [
      "C:\\Users\\kiran\\Desktop\\Analysis-of-GAP-programming-practices-on-GitHub\\notebooks\\ML-GAP-Classification\\lib\\site-packages\\transformers\\optimization.py:411: FutureWarning: This implementation of AdamW is deprecated and will be removed in a future version. Use the PyTorch implementation torch.optim.AdamW instead, or set `no_deprecation_warning=True` to disable this warning\n",
      "  warnings.warn(\n"
     ]
    }
   ],
   "source": [
    "# Loss and optimizer\n",
    "optimizer = AdamW(model.parameters(), lr=learning_rate, correct_bias=False)\n",
    "total_steps = len(train_data_loader) * EPOCHS\n",
    "\n",
    "scheduler = get_linear_schedule_with_warmup(\n",
    "  optimizer,\n",
    "  num_warmup_steps=0,\n",
    "  num_training_steps=total_steps\n",
    ")\n",
    "\n",
    "loss_fn = nn.CrossEntropyLoss().to(device)"
   ]
  },
  {
   "cell_type": "code",
   "execution_count": 22,
   "id": "3f7a24c6",
   "metadata": {},
   "outputs": [],
   "source": [
    "def train_epoch(model, data_loader, loss_fn, optimizer, \n",
    "                  device, scheduler, n_examples):\n",
    "    \n",
    "    model = model.train()\n",
    "\n",
    "    losses = []\n",
    "    correct_predictions = 0\n",
    "\n",
    "    for d in data_loader:\n",
    "        input_ids = d[\"input_ids\"].to(device)\n",
    "        attention_mask = d[\"attention_mask\"].to(device)\n",
    "        targets = d[\"targets\"].to(device)\n",
    "\n",
    "        outputs = model(\n",
    "          input_ids=input_ids,\n",
    "          attention_mask=attention_mask\n",
    "        )\n",
    "\n",
    "        _, preds = torch.max(outputs, dim=1)\n",
    "        loss = loss_fn(outputs, targets)\n",
    "\n",
    "        correct_predictions += torch.sum(preds == targets)\n",
    "        losses.append(loss.item())\n",
    "\n",
    "        loss.backward()\n",
    "        nn.utils.clip_grad_norm_(model.parameters(), max_norm=1.0)\n",
    "        optimizer.step()\n",
    "        scheduler.step()\n",
    "        optimizer.zero_grad()\n",
    "\n",
    "    return correct_predictions.double() / n_examples, np.mean(losses)\n",
    "     \n",
    "        "
   ]
  },
  {
   "cell_type": "code",
   "execution_count": 23,
   "id": "bed8ea9d",
   "metadata": {},
   "outputs": [],
   "source": [
    "def eval_model(model, data_loader, loss_fn, device, n_examples):\n",
    "    \n",
    "    model = model.eval()\n",
    "\n",
    "    losses = []\n",
    "    correct_predictions = 0\n",
    "\n",
    "    with torch.no_grad():\n",
    "        for d in data_loader:\n",
    "            input_ids = d[\"input_ids\"].to(device)\n",
    "            attention_mask = d[\"attention_mask\"].to(device)\n",
    "            targets = d[\"targets\"].to(device)\n",
    "\n",
    "            outputs = model(\n",
    "              input_ids=input_ids,\n",
    "              attention_mask=attention_mask\n",
    "            )\n",
    "            _, preds = torch.max(outputs, dim=1)\n",
    "\n",
    "            loss = loss_fn(outputs, targets)\n",
    "\n",
    "            correct_predictions += torch.sum(preds == targets)\n",
    "            losses.append(loss.item())\n",
    "\n",
    "    return correct_predictions.double() / n_examples, np.mean(losses)"
   ]
  },
  {
   "cell_type": "code",
   "execution_count": null,
   "id": "df89a956",
   "metadata": {},
   "outputs": [
    {
     "name": "stdout",
     "output_type": "stream",
     "text": [
      "Epoch 1/2\n",
      "----------\n"
     ]
    }
   ],
   "source": [
    "%%time\n",
    "\n",
    "from collections import defaultdict\n",
    "\n",
    "history = defaultdict(list)\n",
    "best_accuracy = 0\n",
    "\n",
    "for epoch in range(EPOCHS):\n",
    "\n",
    "    print(f'Epoch {epoch + 1}/{EPOCHS}')\n",
    "    print('-' * 10)\n",
    "\n",
    "    train_acc, train_loss = train_epoch(\n",
    "      model,\n",
    "      train_data_loader,    \n",
    "      loss_fn, \n",
    "      optimizer, \n",
    "      device, \n",
    "      scheduler, \n",
    "      len(df_train)\n",
    "    )\n",
    "\n",
    "    print(f'Train loss {train_loss} accuracy {train_acc}')\n",
    "\n",
    "    val_acc, val_loss = eval_model(\n",
    "      model,\n",
    "      val_data_loader,\n",
    "      loss_fn, \n",
    "      device, \n",
    "      len(df_val)\n",
    "    )\n",
    "\n",
    "    print(f'Val   loss {val_loss} accuracy {val_acc}')\n",
    "    print()\n",
    "\n",
    "    history['train_acc'].append(train_acc)\n",
    "    history['train_loss'].append(train_loss)\n",
    "    history['val_acc'].append(val_acc)\n",
    "    history['val_loss'].append(val_loss)\n",
    "\n",
    "    if val_acc > best_accuracy:\n",
    "        torch.save(model.state_dict(), 'best_model_state.bin')\n",
    "        best_accuracy = val_acc\n",
    "     "
   ]
  },
  {
   "cell_type": "code",
   "execution_count": null,
   "id": "0d24b588",
   "metadata": {},
   "outputs": [],
   "source": [
    "import matplotlib.pyplot as plt\n",
    "\n",
    "plt.plot(history['train_acc'], label='train accuracy')\n",
    "plt.plot(history['val_acc'], label='validation accuracy')\n",
    "\n",
    "plt.title('Training history')\n",
    "plt.ylabel('Accuracy')\n",
    "plt.xlabel('Epoch')\n",
    "plt.legend()\n",
    "plt.ylim([0, 1]);"
   ]
  },
  {
   "cell_type": "code",
   "execution_count": null,
   "id": "806d2f35",
   "metadata": {},
   "outputs": [],
   "source": [
    "\n",
    "test_acc, _ = eval_model(\n",
    "  model,\n",
    "  test_data_loader,\n",
    "  loss_fn,\n",
    "  device,\n",
    "  len(df_test)\n",
    ")\n",
    "\n",
    "test_acc.item()\n",
    "     "
   ]
  },
  {
   "cell_type": "code",
   "execution_count": null,
   "id": "b7365836",
   "metadata": {},
   "outputs": [],
   "source": [
    "import torch\n",
    "from torch.utils.data import DataLoader, Dataset\n",
    "class CustomDataset(Dataset):\n",
    "    def __init__(self, data):\n",
    "        self.data = data\n",
    "\n",
    "    def __len__(self):\n",
    "        return len(self.data)\n",
    "\n",
    "    def __getitem__(self, idx):\n",
    "        return self.data[idx]\n",
    "\n",
    "# Example data\n",
    "data = list(range(10))\n",
    "dataset = CustomDataset(data)\n",
    "dataloader = DataLoader(dataset, batch_size=2, shuffle=True)\n",
    "\n",
    "for batch in dataloader:\n",
    "    print(batch)"
   ]
  },
  {
   "cell_type": "code",
   "execution_count": null,
   "id": "742db440",
   "metadata": {},
   "outputs": [],
   "source": []
  }
 ],
 "metadata": {
  "kernelspec": {
   "display_name": "ML-GAP-Classification",
   "language": "python",
   "name": "ml-gap-classification"
  },
  "language_info": {
   "codemirror_mode": {
    "name": "ipython",
    "version": 3
   },
   "file_extension": ".py",
   "mimetype": "text/x-python",
   "name": "python",
   "nbconvert_exporter": "python",
   "pygments_lexer": "ipython3",
   "version": "3.10.4"
  }
 },
 "nbformat": 4,
 "nbformat_minor": 5
}
